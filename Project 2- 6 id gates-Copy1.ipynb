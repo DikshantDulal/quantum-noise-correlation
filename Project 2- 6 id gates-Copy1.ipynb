{
 "cells": [
  {
   "cell_type": "code",
   "execution_count": 1,
   "metadata": {},
   "outputs": [],
   "source": [
    "#preamble \n",
    "from qiskit import QuantumCircuit, ClassicalRegister, QuantumRegister\n",
    "from qiskit import IBMQ\n",
    "import qiskit\n",
    "import random\n",
    "import pandas as pd\n",
    "import numpy as np \n",
    "from qiskit.providers.ibmq import IBMQJob\n",
    "from qiskit.providers.ibmq.job import job_monitor\n"
   ]
  },
  {
   "cell_type": "markdown",
   "metadata": {},
   "source": [
    "n = 2\n",
    "q = QuantumRegister(n, 'q')\n",
    "c = ClassicalRegister(n, 'c')\n",
    "qc = []\n",
    "qc.append(QuantumCircuit(q, c))\n",
    "\n",
    "\n",
    "\n",
    "count = 0\n",
    "for i in range(10):\n",
    "    for j in range(5):\n",
    "        qc[count].id(0)\n",
    "        qc[count].id(1)\n",
    "        qc.append(QuantumCircuit(q,c))\n",
    "    count = count + 1\n",
    "\n",
    "# Do it for both qubits\n",
    "       \n",
    "\n",
    "\n",
    "\n"
   ]
  },
  {
   "cell_type": "code",
   "execution_count": 2,
   "metadata": {},
   "outputs": [],
   "source": [
    "#defining circuits\n",
    "qc = []\n",
    "    \n",
    "\n",
    "\n",
    "\n",
    "for i in range(5,25):  # no. of circuits\n",
    "    n = 2\n",
    "    q = QuantumRegister(n, 'q')\n",
    "    c = ClassicalRegister(n, 'c')\n",
    "    qc.append(QuantumCircuit(q,c))\n",
    "    for j in range(1):\n",
    "        qc[i-5].id(0)\n",
    "        qc[i-5].id(1)\n",
    " \n",
    "for i in range(1):\n",
    "    qc[i].measure(q,c)"
   ]
  },
  {
   "cell_type": "code",
   "execution_count": 3,
   "metadata": {},
   "outputs": [
    {
     "data": {
      "image/png": "[encoded data removed]",
      "text/plain": [
       "<Figure size 238.392x204.68 with 1 Axes>"
      ]
     },
     "execution_count": 3,
     "metadata": {},
     "output_type": "execute_result"
    }
   ],
   "source": [
    "#checking the output\n",
    "qc[19].draw(output = \"mpl\")\n"
   ]
  },
  {
   "cell_type": "code",
   "execution_count": 4,
   "metadata": {},
   "outputs": [
    {
     "name": "stderr",
     "output_type": "stream",
     "text": [
      "configrc.store_credentials:WARNING:2020-10-20 10:46:13,669: Credentials already present. Set overwrite=True to overwrite.\n"
     ]
    }
   ],
   "source": [
    "#saving account\n",
    "IBMQ.save_account('e16aff0cd0c88a64f3123ca8f2417390e7c73433dbc8b7d872ff853bd6045d642d2230ed0b26ee080c6947f2c924fa031339b76ecd79c0b96eb9b6c08184230d')"
   ]
  },
  {
   "cell_type": "code",
   "execution_count": 5,
   "metadata": {},
   "outputs": [
    {
     "data": {
      "text/plain": [
       "[<AccountProvider for IBMQ(hub='ibm-q', group='open', project='main')>]"
      ]
     },
     "execution_count": 5,
     "metadata": {},
     "output_type": "execute_result"
    }
   ],
   "source": [
    "#loading account\n",
    "IBMQ.load_account()\n",
    "IBMQ.providers()\n"
   ]
  },
  {
   "cell_type": "code",
   "execution_count": 6,
   "metadata": {},
   "outputs": [
    {
     "data": {
      "text/plain": [
       "[<IBMQSimulator('ibmq_qasm_simulator') from IBMQ(hub='ibm-q', group='open', project='main')>,\n",
       " <IBMQBackend('ibmqx2') from IBMQ(hub='ibm-q', group='open', project='main')>,\n",
       " <IBMQBackend('ibmq_16_melbourne') from IBMQ(hub='ibm-q', group='open', project='main')>,\n",
       " <IBMQBackend('ibmq_vigo') from IBMQ(hub='ibm-q', group='open', project='main')>,\n",
       " <IBMQBackend('ibmq_ourense') from IBMQ(hub='ibm-q', group='open', project='main')>,\n",
       " <IBMQBackend('ibmq_valencia') from IBMQ(hub='ibm-q', group='open', project='main')>,\n",
       " <IBMQBackend('ibmq_armonk') from IBMQ(hub='ibm-q', group='open', project='main')>,\n",
       " <IBMQBackend('ibmq_athens') from IBMQ(hub='ibm-q', group='open', project='main')>,\n",
       " <IBMQBackend('ibmq_santiago') from IBMQ(hub='ibm-q', group='open', project='main')>]"
      ]
     },
     "execution_count": 6,
     "metadata": {},
     "output_type": "execute_result"
    }
   ],
   "source": [
    "#checking backends\n",
    "provider = IBMQ.get_provider()\n",
    "provider.backends()"
   ]
  },
  {
   "cell_type": "code",
   "execution_count": 7,
   "metadata": {},
   "outputs": [],
   "source": [
    "#submitting the circuit to IBM Q\n",
    "backend = provider.get_backend('ibmq_ourense')\n",
    "\n",
    "job_exp = qiskit.execute(qc,backend=backend,shots = 8132)\n",
    "\n",
    "\n"
   ]
  },
  {
   "cell_type": "code",
   "execution_count": 8,
   "metadata": {},
   "outputs": [
    {
     "name": "stdout",
     "output_type": "stream",
     "text": [
      "Job Status: job has successfully run                         \n"
     ]
    }
   ],
   "source": [
    "#checking the job\n",
    "job_monitor(job_exp)\n"
   ]
  },
  {
   "cell_type": "code",
   "execution_count": 9,
   "metadata": {
    "scrolled": true
   },
   "outputs": [
    {
     "data": {
      "text/plain": [
       "[{'10': 170, '11': 6, '01': 79, '00': 7877},\n",
       " {'00': 8132},\n",
       " {'00': 8132},\n",
       " {'00': 8132},\n",
       " {'00': 8132},\n",
       " {'00': 8132},\n",
       " {'00': 8132},\n",
       " {'00': 8132},\n",
       " {'00': 8132},\n",
       " {'00': 8132},\n",
       " {'00': 8132},\n",
       " {'00': 8132},\n",
       " {'00': 8132},\n",
       " {'00': 8132},\n",
       " {'00': 8132},\n",
       " {'00': 8132},\n",
       " {'00': 8132},\n",
       " {'00': 8132},\n",
       " {'00': 8132},\n",
       " {'00': 8132}]"
      ]
     },
     "execution_count": 9,
     "metadata": {},
     "output_type": "execute_result"
    }
   ],
   "source": [
    "#checking the result\n",
    "output = job_exp.result().get_counts()\n",
    "output\n",
    "\n",
    "#00:1, 10:2, 11:3, 01:4\n"
   ]
  },
  {
   "cell_type": "code",
   "execution_count": 10,
   "metadata": {},
   "outputs": [
    {
     "name": "stdout",
     "output_type": "stream",
     "text": [
      "       10   11    01    00\n",
      "0   170.0  6.0  79.0  7877\n",
      "1     NaN  NaN   NaN  8132\n",
      "2     NaN  NaN   NaN  8132\n",
      "3     NaN  NaN   NaN  8132\n",
      "4     NaN  NaN   NaN  8132\n",
      "5     NaN  NaN   NaN  8132\n",
      "6     NaN  NaN   NaN  8132\n",
      "7     NaN  NaN   NaN  8132\n",
      "8     NaN  NaN   NaN  8132\n",
      "9     NaN  NaN   NaN  8132\n",
      "10    NaN  NaN   NaN  8132\n",
      "11    NaN  NaN   NaN  8132\n",
      "12    NaN  NaN   NaN  8132\n",
      "13    NaN  NaN   NaN  8132\n",
      "14    NaN  NaN   NaN  8132\n",
      "15    NaN  NaN   NaN  8132\n",
      "16    NaN  NaN   NaN  8132\n",
      "17    NaN  NaN   NaN  8132\n",
      "18    NaN  NaN   NaN  8132\n",
      "19    NaN  NaN   NaN  8132\n"
     ]
    }
   ],
   "source": [
    "#creating dataframe\n",
    "import pandas as pd\n",
    "df = pd.DataFrame(output)\n",
    "print (df)\n"
   ]
  },
  {
   "cell_type": "code",
   "execution_count": 11,
   "metadata": {},
   "outputs": [],
   "source": [
    "#location\n",
    "path = '/Users/student/Documents/summer_research/circuit_results/project2/'"
   ]
  },
  {
   "cell_type": "code",
   "execution_count": 14,
   "metadata": {},
   "outputs": [],
   "source": [
    "#saving to csv file\n",
    "df.to_csv(path + '1_idgates.csv')"
   ]
  },
  {
   "cell_type": "code",
   "execution_count": 13,
   "metadata": {},
   "outputs": [],
   "source": [
    "#finding the probabilty for p00,p01,p10,p11\n",
    "for i in range(len(output)):\n",
    "    if '00' in output[i]:\n",
    "        output[i]['00'] = output[i]['00']/8132\n",
    "    if '01' in output[i]:\n",
    "        output[i]['01'] = output[i]['01']/8132\n",
    "    if '10' in output[i]:\n",
    "        output[i]['10'] = output[i]['10']/8132\n",
    "    if '11' in output[i]:\n",
    "        output[i]['11'] = output[i]['11']/8132\n",
    "        \n",
    " "
   ]
  },
  {
   "cell_type": "markdown",
   "metadata": {},
   "source": [
    "#Reason behind relative entropy (defining p_0,p_0',p_1,p_1'  to get q00,q01,...)\n",
    "p_00 = p_0 * p_0’\n",
    "\n",
    "Independent events: \n",
    "\n",
    "\n",
    "In |0>\n",
    "\n",
    "p_0 = p_00 + p_10\n",
    "p_1 = p_01 + p_11\n",
    "\n",
    "\n",
    "In |1>\n",
    "\n",
    "p_0’ = p_00 + p_01\n",
    "p_1’ = p_10 + p_11\n",
    "\n",
    "\n",
    "\n",
    "\n",
    "If we have independent events:\n",
    "\n",
    "p_0 * p_0’ = q00\n",
    "p_0 * p_1’ = q10\n",
    "p_1 * p_0’ = q01\n",
    "p_1 * p_1’ = q11\n",
    "\n",
    "\n",
    "If equal then no correlation. If deviation between two of them then it gives us the correlation.\n",
    "\n",
    "\n",
    "\n",
    "\n",
    "Syntax:\n",
    "p_x’ = prob of measuring of getting x in the second qubit(|1>)\n",
    "p_x =  prob of measuring of getting x in the first qubit(|0>)\n",
    "\n",
    "\n"
   ]
  },
  {
   "cell_type": "code",
   "execution_count": 53,
   "metadata": {},
   "outputs": [],
   "source": [
    "#creating list for p_0,p_0_, p_1, p_1_\n",
    "p_0 = []\n",
    "p_0_ = []\n",
    "p_1 = []\n",
    "p_1_ = []\n",
    "\n",
    "for i in range(len(output)):\n",
    "    if '00' in output[i] and '01' in output[i]:\n",
    "        p_0_.append(output[i]['00'] + output[i]['01'])\n",
    "    elif '00' in output[i]:\n",
    "        p_0_.append(output[i]['00'])\n",
    "    elif '01' in output[i]:\n",
    "        p_0_.append(output[i]['00'])\n",
    "    else:\n",
    "        p_0_.append(0)\n",
    "    if '10' in output[i] and '11' in output[i]:\n",
    "        p_1_.append(output[i]['10'] + output[i]['11'])\n",
    "    elif '10' in output[i]:\n",
    "        p_1_.append(output[i]['10'])\n",
    "    elif '11' in output[i]:\n",
    "        p_1_.append(output[i]['11'])\n",
    "    else:\n",
    "        p_1_.append(0)\n",
    "    if '00' in output[i] and '10' in output[i]:\n",
    "        p_0.append(output[i]['00'] + output[i]['10'])\n",
    "    elif '00' in output[i]:\n",
    "        p_0.append(output[i]['00'])\n",
    "    elif '10' in output[i]:\n",
    "        p_0.append(output[i]['10'])\n",
    "    else:\n",
    "        p_0.append(0)\n",
    "    if '01' in output[i] and '11' in output[i]:\n",
    "        p_1.append(output[i]['01'] + output[i]['11'])\n",
    "    elif '01' in output[i]:\n",
    "        p_1.append(output[i]['01'])\n",
    "    elif '11' in output[i]:\n",
    "        p_1.append(output[i]['11'])\n",
    "    else:\n",
    "        p_1.append(0)\n",
    "        \n"
   ]
  },
  {
   "cell_type": "code",
   "execution_count": 54,
   "metadata": {},
   "outputs": [
    {
     "data": {
      "text/plain": [
       "1.0"
      ]
     },
     "execution_count": 54,
     "metadata": {},
     "output_type": "execute_result"
    }
   ],
   "source": [
    " p_1_[9] + p_0_[9]"
   ]
  },
  {
   "cell_type": "code",
   "execution_count": 55,
   "metadata": {},
   "outputs": [
    {
     "data": {
      "text/plain": [
       "(20, 20, 20, 20)"
      ]
     },
     "execution_count": 55,
     "metadata": {},
     "output_type": "execute_result"
    }
   ],
   "source": [
    "#double checking the length of p_0, p_1...\n",
    "len(p_0),len(p_0_),len(p_1),len(p_1_)"
   ]
  },
  {
   "cell_type": "code",
   "execution_count": 56,
   "metadata": {},
   "outputs": [],
   "source": [
    "#defining the q_s based on the independence of the events. \n",
    "'''\n",
    "q00 = p_0 * p_0’  \n",
    "q10 = p_0 * p_1’ \n",
    "q01 = p_1 * p_0’ \n",
    "q11 = p_1 * p_1’ \n",
    "\n",
    "'''\n",
    "\n",
    "\n",
    "q00 = []\n",
    "q01 = []\n",
    "q10 = []\n",
    "q11 = []\n",
    "\n",
    "\n",
    "for i in range(len(p_0)):\n",
    "    q00.append(p_0[i] * p_0_[i])\n",
    "    q01.append(p_1[i] * p_0_[i])\n",
    "    q10.append(p_0[i] * p_1_[i])\n",
    "    q11.append(p_1[i] * p_1_[i])\n"
   ]
  },
  {
   "cell_type": "code",
   "execution_count": 57,
   "metadata": {},
   "outputs": [
    {
     "data": {
      "text/plain": [
       "(20, 20, 20, 20)"
      ]
     },
     "execution_count": 57,
     "metadata": {},
     "output_type": "execute_result"
    }
   ],
   "source": [
    "#double check the length of q_s\n",
    "len(q00),len(q01),len(q10),len(q11)"
   ]
  },
  {
   "cell_type": "code",
   "execution_count": 58,
   "metadata": {},
   "outputs": [],
   "source": [
    "#making the list of p00, p01,p10,p11 (the outputs from IBM Q)\n",
    "p00 = []\n",
    "p01 = []\n",
    "p10 = []\n",
    "p11 = []\n",
    "\n",
    "for i in range(len(output)):\n",
    "    if '00' in output[i]:\n",
    "        p00.append(output[i]['00'])\n",
    "    else: \n",
    "        p00.append(0)\n",
    "    if '01' in output[i]:\n",
    "        p01.append(output[i]['01'])\n",
    "    else: \n",
    "        p01.append(0)\n",
    "    if '10' in output[i]:\n",
    "        p10.append(output[i]['10'])\n",
    "    else: \n",
    "        p10.append(0)\n",
    "    if '11' in output[i]:\n",
    "        p11.append(output[i]['11'])\n",
    "    else: \n",
    "        p11.append(0)\n",
    "    \n",
    "  "
   ]
  },
  {
   "cell_type": "code",
   "execution_count": 59,
   "metadata": {},
   "outputs": [],
   "source": [
    "#create p (list of p00,p01,p10,p11 for each output)\n",
    "p = []\n",
    "for i in range(len(p00)):\n",
    "    p.append([p00[i],p01[i],p10[i],p11[i]])\n",
    "   \n"
   ]
  },
  {
   "cell_type": "code",
   "execution_count": 60,
   "metadata": {},
   "outputs": [],
   "source": [
    "#create q (list of q00,q01,q10,q11 for each output)\n",
    "q = []\n",
    "for i in range(len(q00)):\n",
    "    q.append([q00[i],q01[i],q10[i],q11[i]])"
   ]
  },
  {
   "cell_type": "code",
   "execution_count": 61,
   "metadata": {},
   "outputs": [
    {
     "name": "stderr",
     "output_type": "stream",
     "text": [
      "/opt/anaconda3/lib/python3.7/site-packages/ipykernel_launcher.py:8: RuntimeWarning: divide by zero encountered in log\n",
      "  \n",
      "/opt/anaconda3/lib/python3.7/site-packages/ipykernel_launcher.py:8: RuntimeWarning: invalid value encountered in double_scalars\n",
      "  \n"
     ]
    },
    {
     "data": {
      "text/plain": [
       "[[0.00018217525996449245,\n",
       "  -0.0001803344076811546,\n",
       "  -0.0001816449313159421,\n",
       "  0.00022752326868310136],\n",
       " [-7.78744232396598e-05,\n",
       "  7.818362761338229e-05,\n",
       "  7.797407456797898e-05,\n",
       "  -6.765637909740109e-05],\n",
       " [-0.00019831781805937924,\n",
       "  0.00020031489245743542,\n",
       "  0.00019896824459032886,\n",
       "  -0.00011810819940087595],\n",
       " [0.0002557297117387888,\n",
       "  -0.0002526533810316949,\n",
       "  -0.0002546627256048879,\n",
       "  0.00033055839482463984],\n",
       " [0.00020779684281164903,\n",
       "  -0.00020540632851518168,\n",
       "  -0.000207046418515929,\n",
       "  0.00026998666439805323],\n",
       " [-0.00026193544032143223, 0.0002659817721433065, 0.00026312145860443346, nan],\n",
       " [0.000490739050630631,\n",
       "  -0.000473635530137519,\n",
       "  -0.0004869157018426495,\n",
       "  0.0008067836689317201],\n",
       " [0.00035406785601622514,\n",
       "  -0.00034691720852232297,\n",
       "  -0.0003517572790506795,\n",
       "  0.0005271966703903294],\n",
       " [0.0003073253255712051,\n",
       "  -0.00030284629249988646,\n",
       "  -0.00030555207973891453,\n",
       "  0.00042588257352421725],\n",
       " [0.0002106707618595429,\n",
       "  -0.00020875119469091554,\n",
       "  -0.00020996962936521354,\n",
       "  0.00025790597519021943],\n",
       " [0.0003133307729225171,\n",
       "  -0.0003078645562860069,\n",
       "  -0.0003117189557470562,\n",
       "  0.00043800209273802],\n",
       " [-3.2405603615702e-05,\n",
       "  3.2461730168101606e-05,\n",
       "  3.242464817134685e-05,\n",
       "  -3.0441945579080004e-05],\n",
       " [-0.00013430294916655947,\n",
       "  0.00013507428429160762,\n",
       "  0.00013460428983798087,\n",
       "  -0.00010716791978478699],\n",
       " [0.00013584933510366805,\n",
       "  -0.00013492175338272343,\n",
       "  -0.00013556559607413317,\n",
       "  0.00015897086728503343],\n",
       " [0.00022549351523372442,\n",
       "  -0.00022338375202238123,\n",
       "  -0.0002246274833646947,\n",
       "  0.0002808719755843922],\n",
       " [-7.13725328008709e-05,\n",
       "  7.162292285637427e-05,\n",
       "  7.146091867697581e-05,\n",
       "  -6.266752735822109e-05],\n",
       " [-0.0001441307667521785,\n",
       "  0.0001453983790738635,\n",
       "  0.00014447389193680094,\n",
       "  -9.539126590366268e-05],\n",
       " [4.628913554520498e-05,\n",
       "  -4.61821018422274e-05,\n",
       "  -4.625292602617976e-05,\n",
       "  4.9460256195614864e-05],\n",
       " [-0.00019588376805910877,\n",
       "  0.00019751349351119742,\n",
       "  0.00019664349211098888,\n",
       "  -0.00011717287765565393],\n",
       " [-0.0001419535778830789,\n",
       "  0.00014301153684733456,\n",
       "  0.00014234126531348346,\n",
       "  -9.438467655461697e-05]]"
      ]
     },
     "execution_count": 61,
     "metadata": {},
     "output_type": "execute_result"
    }
   ],
   "source": [
    "#calculation of the relative entropy\n",
    "X = []\n",
    "D = []\n",
    "A = len(q)\n",
    "# A is the number of measurements which doesn't have three zeros. \n",
    "for i in range(A):\n",
    "    X.append([p[i][0] * (np.log(p[i][0]/q[i][0])), p[i][1] * (np.log(p[i][1]/q[i][1])), \n",
    "            p[i][2] * (np.log(p[i][2]/q[i][2])), p[i][3] * (np.log(p[i][3]/q[i][3]))])\n",
    "X"
   ]
  },
  {
   "cell_type": "code",
   "execution_count": 62,
   "metadata": {},
   "outputs": [
    {
     "data": {
      "text/plain": [
       "[4.77191896504971e-05,\n",
       " 1.0626899844300394e-05,\n",
       " 8.28571195875091e-05,\n",
       " 7.89719999268458e-05,\n",
       " 6.533076017859157e-05,\n",
       " nan,\n",
       " 0.00033697148758218257,\n",
       " 0.00018259003883355204,\n",
       " 0.00012480952685662135,\n",
       " 4.985591299363324e-05,\n",
       " 0.00013174935362747405,\n",
       " 2.0388291446664554e-06,\n",
       " 2.8207705178242036e-05,\n",
       " 2.4332852931844873e-05,\n",
       " 5.83542554310407e-05,\n",
       " 9.043781374258104e-06,\n",
       " 5.035023835482327e-05,\n",
       " 3.3143638724126857e-06,\n",
       " 8.11003399074236e-05,\n",
       " 4.901454772312215e-05]"
      ]
     },
     "execution_count": 62,
     "metadata": {},
     "output_type": "execute_result"
    }
   ],
   "source": [
    "Y = []\n",
    "for i in range(len(X)):\n",
    "    Y.append(sum(X[i]))\n",
    "Y"
   ]
  },
  {
   "cell_type": "code",
   "execution_count": 64,
   "metadata": {},
   "outputs": [
    {
     "data": {
      "text/plain": [
       "[4.77191896504971e-05,\n",
       " 1.0626899844300394e-05,\n",
       " 8.28571195875091e-05,\n",
       " 7.89719999268458e-05,\n",
       " 6.533076017859157e-05,\n",
       " 0.00033697148758218257,\n",
       " 0.00018259003883355204,\n",
       " 0.00012480952685662135,\n",
       " 4.985591299363324e-05,\n",
       " 0.00013174935362747405,\n",
       " 2.0388291446664554e-06,\n",
       " 2.8207705178242036e-05,\n",
       " 2.4332852931844873e-05,\n",
       " 5.83542554310407e-05,\n",
       " 9.043781374258104e-06,\n",
       " 5.035023835482327e-05,\n",
       " 3.3143638724126857e-06,\n",
       " 8.11003399074236e-05,\n",
       " 4.901454772312215e-05]"
      ]
     },
     "execution_count": 64,
     "metadata": {},
     "output_type": "execute_result"
    }
   ],
   "source": [
    "Y_ = [x for x in Y if x == x]\n",
    "Y_"
   ]
  },
  {
   "cell_type": "code",
   "execution_count": 65,
   "metadata": {},
   "outputs": [
    {
     "data": {
      "text/plain": [
       "(7.459153699994953e-05, 7.703743712790897e-05)"
      ]
     },
     "execution_count": 65,
     "metadata": {},
     "output_type": "execute_result"
    }
   ],
   "source": [
    "np.mean(Y_), np.std(Y_)"
   ]
  },
  {
   "cell_type": "code",
   "execution_count": null,
   "metadata": {},
   "outputs": [],
   "source": []
  }
 ],
 "metadata": {
  "kernelspec": {
   "display_name": "Python 3",
   "language": "python",
   "name": "python3"
  },
  "language_info": {
   "codemirror_mode": {
    "name": "ipython",
    "version": 3
   },
   "file_extension": ".py",
   "mimetype": "text/x-python",
   "name": "python",
   "nbconvert_exporter": "python",
   "pygments_lexer": "ipython3",
   "version": "3.7.6"
  }
 },
 "nbformat": 4,
 "nbformat_minor": 4
}
