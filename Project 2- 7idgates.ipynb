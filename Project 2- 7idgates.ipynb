{
 "cells": [
  {
   "cell_type": "code",
   "execution_count": 1,
   "metadata": {},
   "outputs": [],
   "source": [
    "#preamble \n",
    "from qiskit import QuantumCircuit, ClassicalRegister, QuantumRegister\n",
    "from qiskit import IBMQ\n",
    "import qiskit\n",
    "import random\n",
    "import pandas as pd\n",
    "import numpy as np \n",
    "from qiskit.providers.ibmq import IBMQJob\n",
    "from qiskit.providers.ibmq.job import job_monitor\n"
   ]
  },
  {
   "cell_type": "markdown",
   "metadata": {},
   "source": [
    "n = 2\n",
    "q = QuantumRegister(n, 'q')\n",
    "c = ClassicalRegister(n, 'c')\n",
    "qc = []\n",
    "qc.append(QuantumCircuit(q, c))\n",
    "\n",
    "\n",
    "\n",
    "count = 0\n",
    "for i in range(10):\n",
    "    for j in range(5):\n",
    "        qc[count].id(0)\n",
    "        qc[count].id(1)\n",
    "        qc.append(QuantumCircuit(q,c))\n",
    "    count = count + 1\n",
    "\n",
    "# Do it for both qubits\n",
    "       \n",
    "\n",
    "\n",
    "\n"
   ]
  },
  {
   "cell_type": "code",
   "execution_count": 2,
   "metadata": {},
   "outputs": [],
   "source": [
    "#defining circuits\n",
    "qc = []\n",
    "    \n",
    "\n",
    "\n",
    "\n",
    "for i in range(5,25):  # no. of circuits\n",
    "    n = 2\n",
    "    q = QuantumRegister(n, 'q')\n",
    "    c = ClassicalRegister(n, 'c')\n",
    "    qc.append(QuantumCircuit(q,c))\n",
    "    for j in range(7):\n",
    "        qc[i-5].id(0)\n",
    "        qc[i-5].id(1)\n",
    " \n",
    "for i in range(20):\n",
    "    qc[i].measure(q,c)"
   ]
  },
  {
   "cell_type": "code",
   "execution_count": 3,
   "metadata": {},
   "outputs": [
    {
     "data": {
      "image/png": "[encoded data removed]",
      "text/plain": [
       "<Figure size 719.992x204.68 with 1 Axes>"
      ]
     },
     "execution_count": 3,
     "metadata": {},
     "output_type": "execute_result"
    }
   ],
   "source": [
    "#checking the output\n",
    "qc[19].draw(output = \"mpl\")\n"
   ]
  },
  {
   "cell_type": "code",
   "execution_count": 4,
   "metadata": {},
   "outputs": [
    {
     "name": "stderr",
     "output_type": "stream",
     "text": [
      "configrc.store_credentials:WARNING:2020-10-20 09:55:17,666: Credentials already present. Set overwrite=True to overwrite.\n"
     ]
    }
   ],
   "source": [
    "#saving account\n",
    "IBMQ.save_account('e16aff0cd0c88a64f3123ca8f2417390e7c73433dbc8b7d872ff853bd6045d642d2230ed0b26ee080c6947f2c924fa031339b76ecd79c0b96eb9b6c08184230d')"
   ]
  },
  {
   "cell_type": "code",
   "execution_count": 5,
   "metadata": {},
   "outputs": [
    {
     "data": {
      "text/plain": [
       "[<AccountProvider for IBMQ(hub='ibm-q', group='open', project='main')>]"
      ]
     },
     "execution_count": 5,
     "metadata": {},
     "output_type": "execute_result"
    }
   ],
   "source": [
    "#loading account\n",
    "IBMQ.load_account()\n",
    "IBMQ.providers()\n"
   ]
  },
  {
   "cell_type": "code",
   "execution_count": 6,
   "metadata": {},
   "outputs": [
    {
     "data": {
      "text/plain": [
       "[<IBMQSimulator('ibmq_qasm_simulator') from IBMQ(hub='ibm-q', group='open', project='main')>,\n",
       " <IBMQBackend('ibmqx2') from IBMQ(hub='ibm-q', group='open', project='main')>,\n",
       " <IBMQBackend('ibmq_16_melbourne') from IBMQ(hub='ibm-q', group='open', project='main')>,\n",
       " <IBMQBackend('ibmq_vigo') from IBMQ(hub='ibm-q', group='open', project='main')>,\n",
       " <IBMQBackend('ibmq_ourense') from IBMQ(hub='ibm-q', group='open', project='main')>,\n",
       " <IBMQBackend('ibmq_valencia') from IBMQ(hub='ibm-q', group='open', project='main')>,\n",
       " <IBMQBackend('ibmq_armonk') from IBMQ(hub='ibm-q', group='open', project='main')>,\n",
       " <IBMQBackend('ibmq_athens') from IBMQ(hub='ibm-q', group='open', project='main')>,\n",
       " <IBMQBackend('ibmq_santiago') from IBMQ(hub='ibm-q', group='open', project='main')>]"
      ]
     },
     "execution_count": 6,
     "metadata": {},
     "output_type": "execute_result"
    }
   ],
   "source": [
    "#checking backends\n",
    "provider = IBMQ.get_provider()\n",
    "provider.backends()"
   ]
  },
  {
   "cell_type": "code",
   "execution_count": 7,
   "metadata": {},
   "outputs": [],
   "source": [
    "#submitting the circuit to IBM Q\n",
    "backend = provider.get_backend('ibmq_ourense')\n",
    "\n",
    "job_exp = qiskit.execute(qc,backend=backend,shots = 8132)\n",
    "\n",
    "\n"
   ]
  },
  {
   "cell_type": "code",
   "execution_count": 8,
   "metadata": {},
   "outputs": [
    {
     "name": "stdout",
     "output_type": "stream",
     "text": [
      "Job Status: job has successfully run                        \n"
     ]
    }
   ],
   "source": [
    "#checking the job\n",
    "job_monitor(job_exp)\n"
   ]
  },
  {
   "cell_type": "code",
   "execution_count": 28,
   "metadata": {
    "scrolled": true
   },
   "outputs": [
    {
     "data": {
      "text/plain": [
       "[{'11': 6, '10': 255, '01': 78, '00': 7793},\n",
       " {'11': 2, '10': 238, '01': 73, '00': 7819},\n",
       " {'11': 2, '10': 243, '01': 73, '00': 7814},\n",
       " {'11': 2, '10': 242, '01': 91, '00': 7797},\n",
       " {'11': 1, '10': 248, '01': 70, '00': 7813},\n",
       " {'11': 3, '10': 232, '01': 68, '00': 7829},\n",
       " {'11': 2, '10': 241, '01': 71, '00': 7818},\n",
       " {'11': 7, '10': 225, '01': 76, '00': 7824},\n",
       " {'11': 5, '10': 226, '01': 73, '00': 7828},\n",
       " {'11': 2, '10': 230, '01': 77, '00': 7823},\n",
       " {'11': 1, '10': 243, '01': 73, '00': 7815},\n",
       " {'11': 6, '10': 235, '01': 71, '00': 7820},\n",
       " {'11': 5, '10': 237, '01': 63, '00': 7827},\n",
       " {'10': 214, '01': 81, '00': 7837},\n",
       " {'11': 7, '10': 234, '01': 78, '00': 7813},\n",
       " {'11': 6, '10': 231, '01': 82, '00': 7813},\n",
       " {'11': 7, '10': 251, '01': 67, '00': 7807},\n",
       " {'11': 2, '10': 192, '01': 57, '00': 7881},\n",
       " {'11': 2, '10': 221, '01': 81, '00': 7828},\n",
       " {'11': 2, '10': 246, '01': 60, '00': 7824}]"
      ]
     },
     "execution_count": 28,
     "metadata": {},
     "output_type": "execute_result"
    }
   ],
   "source": [
    "#checking the result\n",
    "output = job_exp.result().get_counts()\n",
    "output\n",
    "\n",
    "#00:1, 10:2, 11:3, 01:4\n"
   ]
  },
  {
   "cell_type": "code",
   "execution_count": 29,
   "metadata": {},
   "outputs": [
    {
     "name": "stdout",
     "output_type": "stream",
     "text": [
      "     11   10  01    00\n",
      "0   6.0  255  78  7793\n",
      "1   2.0  238  73  7819\n",
      "2   2.0  243  73  7814\n",
      "3   2.0  242  91  7797\n",
      "4   1.0  248  70  7813\n",
      "5   3.0  232  68  7829\n",
      "6   2.0  241  71  7818\n",
      "7   7.0  225  76  7824\n",
      "8   5.0  226  73  7828\n",
      "9   2.0  230  77  7823\n",
      "10  1.0  243  73  7815\n",
      "11  6.0  235  71  7820\n",
      "12  5.0  237  63  7827\n",
      "13  NaN  214  81  7837\n",
      "14  7.0  234  78  7813\n",
      "15  6.0  231  82  7813\n",
      "16  7.0  251  67  7807\n",
      "17  2.0  192  57  7881\n",
      "18  2.0  221  81  7828\n",
      "19  2.0  246  60  7824\n"
     ]
    }
   ],
   "source": [
    "#creating dataframe\n",
    "import pandas as pd\n",
    "df = pd.DataFrame(output)\n",
    "print (df)\n"
   ]
  },
  {
   "cell_type": "code",
   "execution_count": 30,
   "metadata": {},
   "outputs": [],
   "source": [
    "#location\n",
    "path = '/Users/student/Documents/summer_research/circuit_results/project2/'"
   ]
  },
  {
   "cell_type": "code",
   "execution_count": 31,
   "metadata": {},
   "outputs": [],
   "source": [
    "#saving to csv file\n",
    "df.to_csv(path + '7_idgates.csv')"
   ]
  },
  {
   "cell_type": "code",
   "execution_count": 32,
   "metadata": {},
   "outputs": [],
   "source": [
    "#finding the probabilty for p00,p01,p10,p11\n",
    "for i in range(len(output)):\n",
    "    if '00' in output[i]:\n",
    "        output[i]['00'] = output[i]['00']/8132\n",
    "    if '01' in output[i]:\n",
    "        output[i]['01'] = output[i]['01']/8132\n",
    "    if '10' in output[i]:\n",
    "        output[i]['10'] = output[i]['10']/8132\n",
    "    if '11' in output[i]:\n",
    "        output[i]['11'] = output[i]['11']/8132\n",
    "        \n",
    " "
   ]
  },
  {
   "cell_type": "markdown",
   "metadata": {},
   "source": [
    "#Reason behind relative entropy (defining p_0,p_0',p_1,p_1'  to get q00,q01,...)\n",
    "p_00 = p_0 * p_0’\n",
    "\n",
    "Independent events: \n",
    "\n",
    "\n",
    "In |0>\n",
    "\n",
    "p_0 = p_00 + p_10\n",
    "p_1 = p_01 + p_11\n",
    "\n",
    "\n",
    "In |1>\n",
    "\n",
    "p_0’ = p_00 + p_01\n",
    "p_1’ = p_10 + p_11\n",
    "\n",
    "\n",
    "\n",
    "\n",
    "If we have independent events:\n",
    "\n",
    "p_0 * p_0’ = q00\n",
    "p_0 * p_1’ = q10\n",
    "p_1 * p_0’ = q01\n",
    "p_1 * p_1’ = q11\n",
    "\n",
    "\n",
    "If equal then no correlation. If deviation between two of them then it gives us the correlation.\n",
    "\n",
    "\n",
    "\n",
    "\n",
    "Syntax:\n",
    "p_x’ = prob of measuring of getting x in the second qubit(|1>)\n",
    "p_x =  prob of measuring of getting x in the first qubit(|0>)\n",
    "\n",
    "\n"
   ]
  },
  {
   "cell_type": "code",
   "execution_count": 33,
   "metadata": {},
   "outputs": [],
   "source": [
    "#creating list for p_0,p_0_, p_1, p_1_\n",
    "p_0 = []\n",
    "p_0_ = []\n",
    "p_1 = []\n",
    "p_1_ = []\n",
    "\n",
    "for i in range(len(output)):\n",
    "    if '00' in output[i] and '01' in output[i]:\n",
    "        p_0_.append(output[i]['00'] + output[i]['01'])\n",
    "    elif '00' in output[i]:\n",
    "        p_0_.append(output[i]['00'])\n",
    "    elif '01' in output[i]:\n",
    "        p_0_.append(output[i]['00'])\n",
    "    else:\n",
    "        p_0_.append(0)\n",
    "    if '10' in output[i] and '11' in output[i]:\n",
    "        p_1_.append(output[i]['10'] + output[i]['11'])\n",
    "    elif '10' in output[i]:\n",
    "        p_1_.append(output[i]['10'])\n",
    "    elif '11' in output[i]:\n",
    "        p_1_.append(output[i]['11'])\n",
    "    else:\n",
    "        p_1_.append(0)\n",
    "    if '00' in output[i] and '10' in output[i]:\n",
    "        p_0.append(output[i]['00'] + output[i]['10'])\n",
    "    elif '00' in output[i]:\n",
    "        p_0.append(output[i]['00'])\n",
    "    elif '10' in output[i]:\n",
    "        p_0.append(output[i]['10'])\n",
    "    else:\n",
    "        p_0.append(0)\n",
    "    if '01' in output[i] and '11' in output[i]:\n",
    "        p_1.append(output[i]['01'] + output[i]['11'])\n",
    "    elif '01' in output[i]:\n",
    "        p_1.append(output[i]['01'])\n",
    "    elif '11' in output[i]:\n",
    "        p_1.append(output[i]['11'])\n",
    "    else:\n",
    "        p_1.append(0)\n",
    "        \n"
   ]
  },
  {
   "cell_type": "code",
   "execution_count": 34,
   "metadata": {},
   "outputs": [
    {
     "data": {
      "text/plain": [
       "1.0"
      ]
     },
     "execution_count": 34,
     "metadata": {},
     "output_type": "execute_result"
    }
   ],
   "source": [
    " p_1_[9] + p_0_[9]"
   ]
  },
  {
   "cell_type": "code",
   "execution_count": 35,
   "metadata": {},
   "outputs": [
    {
     "data": {
      "text/plain": [
       "(20, 20, 20, 20)"
      ]
     },
     "execution_count": 35,
     "metadata": {},
     "output_type": "execute_result"
    }
   ],
   "source": [
    "#double checking the length of p_0, p_1...\n",
    "len(p_0),len(p_0_),len(p_1),len(p_1_)"
   ]
  },
  {
   "cell_type": "code",
   "execution_count": 36,
   "metadata": {},
   "outputs": [],
   "source": [
    "#defining the q_s based on the independence of the events. \n",
    "'''\n",
    "q00 = p_0 * p_0’  \n",
    "q10 = p_0 * p_1’ \n",
    "q01 = p_1 * p_0’ \n",
    "q11 = p_1 * p_1’ \n",
    "\n",
    "'''\n",
    "\n",
    "\n",
    "q00 = []\n",
    "q01 = []\n",
    "q10 = []\n",
    "q11 = []\n",
    "\n",
    "\n",
    "for i in range(len(p_0)):\n",
    "    q00.append(p_0[i] * p_0_[i])\n",
    "    q01.append(p_1[i] * p_0_[i])\n",
    "    q10.append(p_0[i] * p_1_[i])\n",
    "    q11.append(p_1[i] * p_1_[i])\n"
   ]
  },
  {
   "cell_type": "code",
   "execution_count": 37,
   "metadata": {},
   "outputs": [
    {
     "data": {
      "text/plain": [
       "(20, 20, 20, 20)"
      ]
     },
     "execution_count": 37,
     "metadata": {},
     "output_type": "execute_result"
    }
   ],
   "source": [
    "#double check the length of q_s\n",
    "len(q00),len(q01),len(q10),len(q11)"
   ]
  },
  {
   "cell_type": "code",
   "execution_count": 38,
   "metadata": {},
   "outputs": [],
   "source": [
    "#making the list of p00, p01,p10,p11 (the outputs from IBM Q)\n",
    "p00 = []\n",
    "p01 = []\n",
    "p10 = []\n",
    "p11 = []\n",
    "\n",
    "for i in range(len(output)):\n",
    "    if '00' in output[i]:\n",
    "        p00.append(output[i]['00'])\n",
    "    else: \n",
    "        p00.append(0)\n",
    "    if '01' in output[i]:\n",
    "        p01.append(output[i]['01'])\n",
    "    else: \n",
    "        p01.append(0)\n",
    "    if '10' in output[i]:\n",
    "        p10.append(output[i]['10'])\n",
    "    else: \n",
    "        p10.append(0)\n",
    "    if '11' in output[i]:\n",
    "        p11.append(output[i]['11'])\n",
    "    else: \n",
    "        p11.append(0)\n",
    "    \n",
    "  "
   ]
  },
  {
   "cell_type": "code",
   "execution_count": 39,
   "metadata": {},
   "outputs": [],
   "source": [
    "#create p (list of p00,p01,p10,p11 for each output)\n",
    "p = []\n",
    "for i in range(len(p00)):\n",
    "    p.append([p00[i],p01[i],p10[i],p11[i]])\n",
    "   \n"
   ]
  },
  {
   "cell_type": "code",
   "execution_count": 40,
   "metadata": {},
   "outputs": [],
   "source": [
    "#create q (list of q00,q01,q10,q11 for each output)\n",
    "q = []\n",
    "for i in range(len(q00)):\n",
    "    q.append([q00[i],q01[i],q10[i],q11[i]])"
   ]
  },
  {
   "cell_type": "code",
   "execution_count": 41,
   "metadata": {},
   "outputs": [
    {
     "name": "stderr",
     "output_type": "stream",
     "text": [
      "/opt/anaconda3/lib/python3.7/site-packages/ipykernel_launcher.py:8: RuntimeWarning: divide by zero encountered in log\n",
      "  \n",
      "/opt/anaconda3/lib/python3.7/site-packages/ipykernel_launcher.py:8: RuntimeWarning: invalid value encountered in double_scalars\n",
      "  \n"
     ]
    },
    {
     "data": {
      "text/plain": [
       "[[0.00040638033077791897,\n",
       "  -0.0003979246498695181,\n",
       "  -0.00040368455947680247,\n",
       "  0.0005902492162889461],\n",
       " [-2.6251193446499802e-05,\n",
       "  2.629001117809523e-05,\n",
       "  2.6263332209163396e-05,\n",
       "  -2.494286315054582e-05],\n",
       " [-3.192171968150024e-05,\n",
       "  3.19791434148886e-05,\n",
       "  3.1939313003897236e-05,\n",
       "  -3.0014011011523586e-05],\n",
       " [-9.719839972739527e-05,\n",
       "  9.762795824788114e-05,\n",
       "  9.736242334852196e-05,\n",
       "  -8.191302585791324e-05],\n",
       " [-0.00014435756754749187,\n",
       "  0.00014559275808486045,\n",
       "  0.00014471120719354355,\n",
       "  -9.549564667459246e-05],\n",
       " [0.00011661173710483405,\n",
       "  -0.00011579915516349622,\n",
       "  -0.00011636702939809659,\n",
       "  0.00014015337145752797],\n",
       " [-2.2304487179993618e-05,\n",
       "  2.2333285264524843e-05,\n",
       "  2.2313143666213066e-05,\n",
       "  -2.1350597437470986e-05],\n",
       " [0.0005697789650121296,\n",
       "  -0.0005529264599732949,\n",
       "  -0.0005638262551232082,\n",
       "  0.000933012839447184],\n",
       " [0.00034245009717136883,\n",
       "  -0.0003360210423814387,\n",
       "  -0.00034029724646623044,\n",
       "  0.0005004141354961587],\n",
       " [-3.121101611530679e-05,\n",
       "  3.126307640722781e-05,\n",
       "  3.1228756542409164e-05,\n",
       "  -2.9384129076524573e-05],\n",
       " [-0.00015005763896416518,\n",
       "  0.0001513378907930495,\n",
       "  0.00015044745102837703,\n",
       "  -9.809040134642576e-05],\n",
       " [0.0004573182114961674,\n",
       "  -0.0004456404106673402,\n",
       "  -0.00045363034298984134,\n",
       "  0.0007132705031716331],\n",
       " [0.0003660791483641083,\n",
       "  -0.00035762662643927236,\n",
       "  -0.0003637303170829916,\n",
       "  0.0005561698572611564],\n",
       " [-0.0002620867088971059, 0.0002656330562782911, 0.00026343653811201, nan],\n",
       " [0.00055118358976379,\n",
       "  -0.0005357790800214903,\n",
       "  -0.0005458160361803582,\n",
       "  0.0008797551570041876],\n",
       " [0.00042253722677664814,\n",
       "  -0.00041383499394338574,\n",
       "  -0.000419333935196202,\n",
       "  0.0006270964252555],\n",
       " [0.0005722607932867185,\n",
       "  -0.0005531023890924133,\n",
       "  -0.0005668530908774031,\n",
       "  0.0009403754943118966],\n",
       " [7.285986812416132e-05,\n",
       "  -7.24810841070743e-05,\n",
       "  -7.274494872188508e-05,\n",
       "  8.640279201651133e-05],\n",
       " [-3.394798076199809e-05,\n",
       "  3.400656412660201e-05,\n",
       "  3.3969801079982235e-05,\n",
       "  -3.1801038846171725e-05],\n",
       " [1.3428306844121049e-05,\n",
       "  -1.341600846554986e-05,\n",
       "  -1.3425233657233218e-05,\n",
       "  1.3808712272038578e-05]]"
      ]
     },
     "execution_count": 41,
     "metadata": {},
     "output_type": "execute_result"
    }
   ],
   "source": [
    "#calculation of the relative entropy\n",
    "X = []\n",
    "D = []\n",
    "A = len(q)\n",
    "# A is the number of measurements which doesn't have three zeros. \n",
    "for i in range(A):\n",
    "    X.append([p[i][0] * (np.log(p[i][0]/q[i][0])), p[i][1] * (np.log(p[i][1]/q[i][1])), \n",
    "            p[i][2] * (np.log(p[i][2]/q[i][2])), p[i][3] * (np.log(p[i][3]/q[i][3]))])\n",
    "X"
   ]
  },
  {
   "cell_type": "code",
   "execution_count": 42,
   "metadata": {},
   "outputs": [
    {
     "data": {
      "text/plain": [
       "[0.00019502033772054452,\n",
       " 1.3592867902130055e-06,\n",
       " 1.982725725762009e-06,\n",
       " 1.58789560110946e-05,\n",
       " 5.045075105631967e-05,\n",
       " 2.4598924000769206e-05,\n",
       " 9.913443132733048e-07,\n",
       " 0.00038603908936281047,\n",
       " 0.0001665459438198584,\n",
       " 1.8966877578056083e-06,\n",
       " 5.363730151083559e-05,\n",
       " 0.0002713179610106189,\n",
       " 0.00020089206210300073,\n",
       " nan,\n",
       " 0.00034934363056612916,\n",
       " 0.00021646472289256046,\n",
       " 0.00039268080762879865,\n",
       " 1.4036627311713262e-05,\n",
       " 2.227345598414433e-06,\n",
       " 3.957769933765489e-07]"
      ]
     },
     "execution_count": 42,
     "metadata": {},
     "output_type": "execute_result"
    }
   ],
   "source": [
    "Y = []\n",
    "for i in range(len(X)):\n",
    "    Y.append(sum(X[i]))\n",
    "Y"
   ]
  },
  {
   "cell_type": "code",
   "execution_count": 43,
   "metadata": {},
   "outputs": [
    {
     "data": {
      "text/plain": [
       "[0.00019502033772054452,\n",
       " 1.3592867902130055e-06,\n",
       " 1.982725725762009e-06,\n",
       " 1.58789560110946e-05,\n",
       " 5.045075105631967e-05,\n",
       " 2.4598924000769206e-05,\n",
       " 9.913443132733048e-07,\n",
       " 0.00038603908936281047,\n",
       " 0.0001665459438198584,\n",
       " 1.8966877578056083e-06,\n",
       " 5.363730151083559e-05,\n",
       " 0.0002713179610106189,\n",
       " 0.00020089206210300073,\n",
       " 0.00034934363056612916,\n",
       " 0.00021646472289256046,\n",
       " 0.00039268080762879865,\n",
       " 1.4036627311713262e-05,\n",
       " 2.227345598414433e-06,\n",
       " 3.957769933765489e-07]"
      ]
     },
     "execution_count": 43,
     "metadata": {},
     "output_type": "execute_result"
    }
   ],
   "source": [
    "Y_ = [x for x in Y if x == x]\n",
    "Y_\n",
    "\n"
   ]
  },
  {
   "cell_type": "code",
   "execution_count": 44,
   "metadata": {},
   "outputs": [
    {
     "data": {
      "text/plain": [
       "(0.00012346106748283676, 0.0001393114280365509)"
      ]
     },
     "execution_count": 44,
     "metadata": {},
     "output_type": "execute_result"
    }
   ],
   "source": [
    "np.mean(Y_),np.std(Y_)"
   ]
  },
  {
   "cell_type": "code",
   "execution_count": null,
   "metadata": {},
   "outputs": [],
   "source": []
  },
  {
   "cell_type": "code",
   "execution_count": null,
   "metadata": {},
   "outputs": [],
   "source": []
  },
  {
   "cell_type": "code",
   "execution_count": null,
   "metadata": {},
   "outputs": [],
   "source": []
  }
 ],
 "metadata": {
  "kernelspec": {
   "display_name": "Python 3",
   "language": "python",
   "name": "python3"
  },
  "language_info": {
   "codemirror_mode": {
    "name": "ipython",
    "version": 3
   },
   "file_extension": ".py",
   "mimetype": "text/x-python",
   "name": "python",
   "nbconvert_exporter": "python",
   "pygments_lexer": "ipython3",
   "version": "3.7.6"
  }
 },
 "nbformat": 4,
 "nbformat_minor": 4
}
