{
 "cells": [
  {
   "cell_type": "code",
   "execution_count": 93,
   "metadata": {},
   "outputs": [],
   "source": [
    "#preamble \n",
    "from qiskit import QuantumCircuit, ClassicalRegister, QuantumRegister\n",
    "from qiskit import IBMQ\n",
    "import qiskit\n",
    "import random\n",
    "import pandas as pd\n",
    "import numpy as np \n",
    "from qiskit.providers.ibmq import IBMQJob\n",
    "from qiskit.providers.ibmq.job import job_monitor\n"
   ]
  },
  {
   "cell_type": "markdown",
   "metadata": {},
   "source": [
    "n = 2\n",
    "q = QuantumRegister(n, 'q')\n",
    "c = ClassicalRegister(n, 'c')\n",
    "qc = []\n",
    "qc.append(QuantumCircuit(q, c))\n",
    "\n",
    "\n",
    "\n",
    "count = 0\n",
    "for i in range(10):\n",
    "    for j in range(5):\n",
    "        qc[count].id(0)\n",
    "        qc[count].id(1)\n",
    "        qc.append(QuantumCircuit(q,c))\n",
    "    count = count + 1\n",
    "\n",
    "# Do it for both qubits\n",
    "       \n",
    "\n",
    "\n",
    "\n"
   ]
  },
  {
   "cell_type": "code",
   "execution_count": 94,
   "metadata": {},
   "outputs": [],
   "source": [
    "#defining circuits\n",
    "qc = []\n",
    "    \n",
    "\n",
    "\n",
    "\n",
    "for i in range(5,25):  # no. of circuits\n",
    "    n = 2\n",
    "    q = QuantumRegister(n, 'q')\n",
    "    c = ClassicalRegister(n, 'c')\n",
    "    qc.append(QuantumCircuit(q,c))\n",
    "    for j in range(10):\n",
    "        qc[i-5].id(0)\n",
    "        qc[i-5].id(1)\n",
    " \n",
    "for i in range(20):\n",
    "    qc[i].measure(q,c)"
   ]
  },
  {
   "cell_type": "code",
   "execution_count": 95,
   "metadata": {},
   "outputs": [
    {
     "data": {
      "image/png": "[encoded data removed]",
      "text/plain": [
       "<Figure size 900.592x204.68 with 1 Axes>"
      ]
     },
     "execution_count": 95,
     "metadata": {},
     "output_type": "execute_result"
    }
   ],
   "source": [
    "#checking the output\n",
    "qc[19].draw(output = \"mpl\")\n"
   ]
  },
  {
   "cell_type": "code",
   "execution_count": 96,
   "metadata": {},
   "outputs": [
    {
     "name": "stderr",
     "output_type": "stream",
     "text": [
      "configrc.store_credentials:WARNING:2020-10-20 10:21:20,377: Credentials already present. Set overwrite=True to overwrite.\n"
     ]
    }
   ],
   "source": [
    "#saving account\n",
    "IBMQ.save_account('e16aff0cd0c88a64f3123ca8f2417390e7c73433dbc8b7d872ff853bd6045d642d2230ed0b26ee080c6947f2c924fa031339b76ecd79c0b96eb9b6c08184230d')"
   ]
  },
  {
   "cell_type": "code",
   "execution_count": 97,
   "metadata": {},
   "outputs": [
    {
     "name": "stderr",
     "output_type": "stream",
     "text": [
      "ibmqfactory.load_account:WARNING:2020-10-20 10:21:22,633: Credentials are already in use. The existing account in the session will be replaced.\n"
     ]
    },
    {
     "data": {
      "text/plain": [
       "[<AccountProvider for IBMQ(hub='ibm-q', group='open', project='main')>]"
      ]
     },
     "execution_count": 97,
     "metadata": {},
     "output_type": "execute_result"
    }
   ],
   "source": [
    "#loading account\n",
    "IBMQ.load_account()\n",
    "IBMQ.providers()\n"
   ]
  },
  {
   "cell_type": "code",
   "execution_count": 98,
   "metadata": {},
   "outputs": [
    {
     "data": {
      "text/plain": [
       "[<IBMQSimulator('ibmq_qasm_simulator') from IBMQ(hub='ibm-q', group='open', project='main')>,\n",
       " <IBMQBackend('ibmqx2') from IBMQ(hub='ibm-q', group='open', project='main')>,\n",
       " <IBMQBackend('ibmq_16_melbourne') from IBMQ(hub='ibm-q', group='open', project='main')>,\n",
       " <IBMQBackend('ibmq_vigo') from IBMQ(hub='ibm-q', group='open', project='main')>,\n",
       " <IBMQBackend('ibmq_ourense') from IBMQ(hub='ibm-q', group='open', project='main')>,\n",
       " <IBMQBackend('ibmq_valencia') from IBMQ(hub='ibm-q', group='open', project='main')>,\n",
       " <IBMQBackend('ibmq_armonk') from IBMQ(hub='ibm-q', group='open', project='main')>,\n",
       " <IBMQBackend('ibmq_athens') from IBMQ(hub='ibm-q', group='open', project='main')>,\n",
       " <IBMQBackend('ibmq_santiago') from IBMQ(hub='ibm-q', group='open', project='main')>]"
      ]
     },
     "execution_count": 98,
     "metadata": {},
     "output_type": "execute_result"
    }
   ],
   "source": [
    "#checking backends\n",
    "provider = IBMQ.get_provider()\n",
    "provider.backends()"
   ]
  },
  {
   "cell_type": "code",
   "execution_count": 99,
   "metadata": {},
   "outputs": [],
   "source": [
    "#submitting the circuit to IBM Q\n",
    "backend = provider.get_backend('ibmq_ourense')\n",
    "\n",
    "job_exp = qiskit.execute(qc,backend=backend,shots = 8132)\n",
    "\n",
    "\n"
   ]
  },
  {
   "cell_type": "code",
   "execution_count": 100,
   "metadata": {},
   "outputs": [
    {
     "name": "stdout",
     "output_type": "stream",
     "text": [
      "Job Status: job has successfully run\n"
     ]
    }
   ],
   "source": [
    "#checking the job\n",
    "job_monitor(job_exp)\n"
   ]
  },
  {
   "cell_type": "code",
   "execution_count": 101,
   "metadata": {
    "scrolled": true
   },
   "outputs": [
    {
     "data": {
      "text/plain": [
       "[{'01': 127, '10': 165, '00': 7832, '11': 8},\n",
       " {'01': 113, '10': 170, '00': 7842, '11': 7},\n",
       " {'01': 114, '10': 179, '00': 7835, '11': 4},\n",
       " {'01': 115, '10': 150, '00': 7866, '11': 1},\n",
       " {'01': 111, '10': 156, '00': 7856, '11': 9},\n",
       " {'01': 118, '10': 160, '00': 7853, '11': 1},\n",
       " {'01': 106, '10': 154, '00': 7869, '11': 3},\n",
       " {'01': 112, '10': 162, '00': 7855, '11': 3},\n",
       " {'01': 120, '10': 163, '00': 7844, '11': 5},\n",
       " {'01': 100, '10': 158, '00': 7869, '11': 5},\n",
       " {'01': 107, '10': 167, '00': 7854, '11': 4},\n",
       " {'01': 110, '10': 169, '00': 7848, '11': 5},\n",
       " {'01': 99, '10': 185, '00': 7846, '11': 2},\n",
       " {'01': 100, '10': 133, '00': 7898, '11': 1},\n",
       " {'01': 107, '10': 147, '00': 7877, '11': 1},\n",
       " {'01': 96, '10': 170, '00': 7865, '11': 1},\n",
       " {'01': 108, '10': 182, '00': 7841, '11': 1},\n",
       " {'01': 110, '10': 157, '00': 7862, '11': 3},\n",
       " {'01': 86, '10': 186, '00': 7854, '11': 6},\n",
       " {'01': 129, '10': 165, '00': 7835, '11': 3}]"
      ]
     },
     "execution_count": 101,
     "metadata": {},
     "output_type": "execute_result"
    }
   ],
   "source": [
    "#checking the result\n",
    "output = job_exp.result().get_counts()\n",
    "output\n",
    "\n",
    "#00:1, 10:2, 11:3, 01:4\n"
   ]
  },
  {
   "cell_type": "code",
   "execution_count": 102,
   "metadata": {},
   "outputs": [
    {
     "name": "stdout",
     "output_type": "stream",
     "text": [
      "     01   10    00  11\n",
      "0   127  165  7832   8\n",
      "1   113  170  7842   7\n",
      "2   114  179  7835   4\n",
      "3   115  150  7866   1\n",
      "4   111  156  7856   9\n",
      "5   118  160  7853   1\n",
      "6   106  154  7869   3\n",
      "7   112  162  7855   3\n",
      "8   120  163  7844   5\n",
      "9   100  158  7869   5\n",
      "10  107  167  7854   4\n",
      "11  110  169  7848   5\n",
      "12   99  185  7846   2\n",
      "13  100  133  7898   1\n",
      "14  107  147  7877   1\n",
      "15   96  170  7865   1\n",
      "16  108  182  7841   1\n",
      "17  110  157  7862   3\n",
      "18   86  186  7854   6\n",
      "19  129  165  7835   3\n"
     ]
    }
   ],
   "source": [
    "#creating dataframe\n",
    "import pandas as pd\n",
    "df = pd.DataFrame(output)\n",
    "print (df)\n"
   ]
  },
  {
   "cell_type": "code",
   "execution_count": 103,
   "metadata": {},
   "outputs": [],
   "source": [
    "#location\n",
    "path = '/Users/student/Documents/summer_research/circuit_results/project2/'"
   ]
  },
  {
   "cell_type": "code",
   "execution_count": 104,
   "metadata": {},
   "outputs": [],
   "source": [
    "#saving to csv file\n",
    "df.to_csv(path + '10_idgates.csv')"
   ]
  },
  {
   "cell_type": "code",
   "execution_count": 105,
   "metadata": {},
   "outputs": [],
   "source": [
    "#finding the probabilty for p00,p01,p10,p11\n",
    "for i in range(len(output)):\n",
    "    if '00' in output[i]:\n",
    "        output[i]['00'] = output[i]['00']/8132\n",
    "    if '01' in output[i]:\n",
    "        output[i]['01'] = output[i]['01']/8132\n",
    "    if '10' in output[i]:\n",
    "        output[i]['10'] = output[i]['10']/8132\n",
    "    if '11' in output[i]:\n",
    "        output[i]['11'] = output[i]['11']/8132\n",
    "        \n",
    " "
   ]
  },
  {
   "cell_type": "markdown",
   "metadata": {},
   "source": [
    "#Reason behind relative entropy (defining p_0,p_0',p_1,p_1'  to get q00,q01,...)\n",
    "p_00 = p_0 * p_0’\n",
    "\n",
    "Independent events: \n",
    "\n",
    "\n",
    "In |0>\n",
    "\n",
    "p_0 = p_00 + p_10\n",
    "p_1 = p_01 + p_11\n",
    "\n",
    "\n",
    "In |1>\n",
    "\n",
    "p_0’ = p_00 + p_01\n",
    "p_1’ = p_10 + p_11\n",
    "\n",
    "\n",
    "\n",
    "\n",
    "If we have independent events:\n",
    "\n",
    "p_0 * p_0’ = q00\n",
    "p_0 * p_1’ = q10\n",
    "p_1 * p_0’ = q01\n",
    "p_1 * p_1’ = q11\n",
    "\n",
    "\n",
    "If equal then no correlation. If deviation between two of them then it gives us the correlation.\n",
    "\n",
    "\n",
    "\n",
    "\n",
    "Syntax:\n",
    "p_x’ = prob of measuring of getting x in the second qubit(|1>)\n",
    "p_x =  prob of measuring of getting x in the first qubit(|0>)\n",
    "\n",
    "\n"
   ]
  },
  {
   "cell_type": "code",
   "execution_count": 106,
   "metadata": {},
   "outputs": [],
   "source": [
    "#creating list for p_0,p_0_, p_1, p_1_\n",
    "p_0 = []\n",
    "p_0_ = []\n",
    "p_1 = []\n",
    "p_1_ = []\n",
    "\n",
    "for i in range(len(output)):\n",
    "    if '00' in output[i] and '01' in output[i]:\n",
    "        p_0_.append(output[i]['00'] + output[i]['01'])\n",
    "    elif '00' in output[i]:\n",
    "        p_0_.append(output[i]['00'])\n",
    "    elif '01' in output[i]:\n",
    "        p_0_.append(output[i]['00'])\n",
    "    else:\n",
    "        p_0_.append(0)\n",
    "    if '10' in output[i] and '11' in output[i]:\n",
    "        p_1_.append(output[i]['10'] + output[i]['11'])\n",
    "    elif '10' in output[i]:\n",
    "        p_1_.append(output[i]['10'])\n",
    "    elif '11' in output[i]:\n",
    "        p_1_.append(output[i]['11'])\n",
    "    else:\n",
    "        p_1_.append(0)\n",
    "    if '00' in output[i] and '10' in output[i]:\n",
    "        p_0.append(output[i]['00'] + output[i]['10'])\n",
    "    elif '00' in output[i]:\n",
    "        p_0.append(output[i]['00'])\n",
    "    elif '10' in output[i]:\n",
    "        p_0.append(output[i]['10'])\n",
    "    else:\n",
    "        p_0.append(0)\n",
    "    if '01' in output[i] and '11' in output[i]:\n",
    "        p_1.append(output[i]['01'] + output[i]['11'])\n",
    "    elif '01' in output[i]:\n",
    "        p_1.append(output[i]['01'])\n",
    "    elif '11' in output[i]:\n",
    "        p_1.append(output[i]['11'])\n",
    "    else:\n",
    "        p_1.append(0)\n",
    "        \n"
   ]
  },
  {
   "cell_type": "code",
   "execution_count": 107,
   "metadata": {},
   "outputs": [
    {
     "data": {
      "text/plain": [
       "1.0"
      ]
     },
     "execution_count": 107,
     "metadata": {},
     "output_type": "execute_result"
    }
   ],
   "source": [
    " p_1_[9] + p_0_[9]"
   ]
  },
  {
   "cell_type": "code",
   "execution_count": 108,
   "metadata": {},
   "outputs": [
    {
     "data": {
      "text/plain": [
       "(20, 20, 20, 20)"
      ]
     },
     "execution_count": 108,
     "metadata": {},
     "output_type": "execute_result"
    }
   ],
   "source": [
    "#double checking the length of p_0, p_1...\n",
    "len(p_0),len(p_0_),len(p_1),len(p_1_)"
   ]
  },
  {
   "cell_type": "code",
   "execution_count": 109,
   "metadata": {},
   "outputs": [],
   "source": [
    "#defining the q_s based on the independence of the events. \n",
    "'''\n",
    "q00 = p_0 * p_0’  \n",
    "q10 = p_0 * p_1’ \n",
    "q01 = p_1 * p_0’ \n",
    "q11 = p_1 * p_1’ \n",
    "\n",
    "'''\n",
    "\n",
    "\n",
    "q00 = []\n",
    "q01 = []\n",
    "q10 = []\n",
    "q11 = []\n",
    "\n",
    "\n",
    "for i in range(len(p_0)):\n",
    "    q00.append(p_0[i] * p_0_[i])\n",
    "    q01.append(p_1[i] * p_0_[i])\n",
    "    q10.append(p_0[i] * p_1_[i])\n",
    "    q11.append(p_1[i] * p_1_[i])\n"
   ]
  },
  {
   "cell_type": "code",
   "execution_count": 110,
   "metadata": {},
   "outputs": [
    {
     "data": {
      "text/plain": [
       "(20, 20, 20, 20)"
      ]
     },
     "execution_count": 110,
     "metadata": {},
     "output_type": "execute_result"
    }
   ],
   "source": [
    "#double check the length of q_s\n",
    "len(q00),len(q01),len(q10),len(q11)"
   ]
  },
  {
   "cell_type": "code",
   "execution_count": 111,
   "metadata": {},
   "outputs": [],
   "source": [
    "#making the list of p00, p01,p10,p11 (the outputs from IBM Q)\n",
    "p00 = []\n",
    "p01 = []\n",
    "p10 = []\n",
    "p11 = []\n",
    "\n",
    "for i in range(len(output)):\n",
    "    if '00' in output[i]:\n",
    "        p00.append(output[i]['00'])\n",
    "    else: \n",
    "        p00.append(0)\n",
    "    if '01' in output[i]:\n",
    "        p01.append(output[i]['01'])\n",
    "    else: \n",
    "        p01.append(0)\n",
    "    if '10' in output[i]:\n",
    "        p10.append(output[i]['10'])\n",
    "    else: \n",
    "        p10.append(0)\n",
    "    if '11' in output[i]:\n",
    "        p11.append(output[i]['11'])\n",
    "    else: \n",
    "        p11.append(0)\n",
    "    \n",
    "  "
   ]
  },
  {
   "cell_type": "code",
   "execution_count": 112,
   "metadata": {},
   "outputs": [],
   "source": [
    "#create p (list of p00,p01,p10,p11 for each output)\n",
    "p = []\n",
    "for i in range(len(p00)):\n",
    "    p.append([p00[i],p01[i],p10[i],p11[i]])\n",
    "   \n"
   ]
  },
  {
   "cell_type": "code",
   "execution_count": 113,
   "metadata": {},
   "outputs": [],
   "source": [
    "#create q (list of q00,q01,q10,q11 for each output)\n",
    "q = []\n",
    "for i in range(len(q00)):\n",
    "    q.append([q00[i],q01[i],q10[i],q11[i]])"
   ]
  },
  {
   "cell_type": "code",
   "execution_count": 114,
   "metadata": {},
   "outputs": [
    {
     "data": {
      "text/plain": [
       "(20, 20)"
      ]
     },
     "execution_count": 114,
     "metadata": {},
     "output_type": "execute_result"
    }
   ],
   "source": [
    "len(p),len(q)"
   ]
  },
  {
   "cell_type": "code",
   "execution_count": 115,
   "metadata": {},
   "outputs": [
    {
     "data": {
      "text/plain": [
       "-0.00035098724568301547"
      ]
     },
     "execution_count": 115,
     "metadata": {},
     "output_type": "execute_result"
    }
   ],
   "source": [
    "p[9][1]* (np.log(p[9][1]/q[9][1]))"
   ]
  },
  {
   "cell_type": "code",
   "execution_count": 116,
   "metadata": {},
   "outputs": [
    {
     "data": {
      "text/plain": [
       "0.00018432872194101873"
      ]
     },
     "execution_count": 116,
     "metadata": {},
     "output_type": "execute_result"
    }
   ],
   "source": [
    "X = []\n",
    "for i in range(4):\n",
    "    X.append(p[9][i] * (np.log(p[9][i]/q[9][i])))\n",
    "             \n",
    "sum(X)"
   ]
  },
  {
   "cell_type": "code",
   "execution_count": 117,
   "metadata": {},
   "outputs": [
    {
     "data": {
      "text/plain": [
       "[[], []]"
      ]
     },
     "execution_count": 117,
     "metadata": {},
     "output_type": "execute_result"
    }
   ],
   "source": [
    "l = []\n",
    "y = []\n",
    "for i in range(2):\n",
    "    y.append(l)\n",
    "y"
   ]
  },
  {
   "cell_type": "code",
   "execution_count": 118,
   "metadata": {},
   "outputs": [
    {
     "data": {
      "text/plain": [
       "0.0008486000908919982"
      ]
     },
     "execution_count": 118,
     "metadata": {},
     "output_type": "execute_result"
    }
   ],
   "source": [
    "p[1][3] * (np.log(p[1][3]/q[1][3]))"
   ]
  },
  {
   "cell_type": "code",
   "execution_count": 119,
   "metadata": {},
   "outputs": [
    {
     "name": "stdout",
     "output_type": "stream",
     "text": [
      "0.0006308032844136383\n",
      "-0.0006181982691534892\n",
      "-0.0006209960489228229\n",
      "0.0010078085031892425\n",
      "0.0005397595396660192\n",
      "-0.000529394857421196\n",
      "-0.0005327618034157197\n",
      "0.0008486000908919982\n"
     ]
    }
   ],
   "source": [
    "B = []\n",
    "A = []\n",
    "for i in range(2):\n",
    "    for j in range(4):\n",
    "        if p[i][j]!= 0:\n",
    "            print(p[i][j] * (np.log(p[i][j]/q[i][j])))\n",
    "        else:\n",
    "            print(\"Error\")\n"
   ]
  },
  {
   "cell_type": "code",
   "execution_count": 120,
   "metadata": {},
   "outputs": [],
   "source": [
    "#calculation of the relative entropy\n",
    "X = []\n",
    "D = []\n",
    "A = len(q)\n",
    "# A is the number of measurements which doesn't have three zeros. \n",
    "for i in range(A):\n",
    "    for j in range(4):\n",
    "        X.append(D)\n",
    "        \n"
   ]
  },
  {
   "cell_type": "code",
   "execution_count": 121,
   "metadata": {},
   "outputs": [
    {
     "data": {
      "text/plain": [
       "[[0.0006308032844136383,\n",
       "  -0.0006181982691534892,\n",
       "  -0.0006209960489228229,\n",
       "  0.0010078085031892425],\n",
       " [0.0005397595396660192,\n",
       "  -0.000529394857421196,\n",
       "  -0.0005327618034157197,\n",
       "  0.0008486000908919982],\n",
       " [0.0001653566239962491,\n",
       "  -0.00016437497517819471,\n",
       "  -0.00016472453975465093,\n",
       "  0.00020151783500297203],\n",
       " [-0.0001418931418561491,\n",
       "  0.00014262030925333077,\n",
       "  0.0001424522018861761,\n",
       "  -9.435659778320852e-05],\n",
       " [0.0008076634740461707,\n",
       "  -0.0007843525365598024,\n",
       "  -0.0007908000781367895,\n",
       "  0.0014468944685952375],\n",
       " [-0.0001667343734469219,\n",
       "  0.00016771427171483394,\n",
       "  0.00016745938454561306,\n",
       "  -0.00010538190892126846],\n",
       " [0.00011013878607119442,\n",
       "  -0.00010966986575501257,\n",
       "  -0.00010981351288428832,\n",
       "  0.00013080943525783158],\n",
       " [8.197909063033467e-05,\n",
       "  -8.173261564582349e-05,\n",
       "  -8.18074094923217e-05,\n",
       "  9.270666299281221e-05],\n",
       " [0.0002973416242028911,\n",
       "  -0.00029434065355786704,\n",
       "  -0.00029511262089345616,\n",
       "  0.0004062483832247772],\n",
       " [0.000356109750541529,\n",
       "  -0.00035098724568301547,\n",
       "  -0.00035282128920011407,\n",
       "  0.0005320275062826193],\n",
       " [0.00020487758837106626,\n",
       "  -0.00020327751566801225,\n",
       "  -0.00020384084698313562,\n",
       "  0.0002649595563468441],\n",
       " [0.00031231697324367026,\n",
       "  -0.0003087166341664733,\n",
       "  -0.0003099436638050562,\n",
       "  0.00043593990383949743],\n",
       " [-3.966382778507549e-05,\n",
       "  3.972939965622279e-05,\n",
       "  3.9699261553121996e-05,\n",
       "  -3.677318701123059e-05],\n",
       " [-8.168486142540277e-05,\n",
       "  8.196082745087969e-05,\n",
       "  8.189298087458732e-05,\n",
       "  -6.264118815100019e-05],\n",
       " [-0.00011872958076156585,\n",
       "  0.00011927584335031361,\n",
       "  0.0001191285346531957,\n",
       "  -8.310149116331746e-05],\n",
       " [-0.00012784688993634874,\n",
       "  0.00012855274322612047,\n",
       "  0.0001282479231577045,\n",
       "  -8.76552336765624e-05],\n",
       " [-0.00017864824441767078,\n",
       "  0.00017987745395741327,\n",
       "  0.00017938175207230113,\n",
       "  -0.00011033839895749231],\n",
       " [9.551439610990633e-05,\n",
       "  -9.517407101340075e-05,\n",
       "  -9.52742094511466e-05,\n",
       "  0.0001105310487469919],\n",
       " [0.00047082805325602493,\n",
       "  -0.00046053846345413187,\n",
       "  -0.0004659351632464412,\n",
       "  0.0007496588993355658],\n",
       " [3.357111770272198e-05,\n",
       "  -3.353506114249276e-05,\n",
       "  -3.354279189723502e-05,\n",
       "  3.5197452567652714e-05]]"
      ]
     },
     "execution_count": 121,
     "metadata": {},
     "output_type": "execute_result"
    }
   ],
   "source": [
    "#calculation of the relative entropy\n",
    "X = []\n",
    "D = []\n",
    "A = len(q)\n",
    "# A is the number of measurements which doesn't have three zeros. \n",
    "for i in range(A):\n",
    "    X.append([p[i][0] * (np.log(p[i][0]/q[i][0])), p[i][1] * (np.log(p[i][1]/q[i][1])), \n",
    "            p[i][2] * (np.log(p[i][2]/q[i][2])), p[i][3] * (np.log(p[i][3]/q[i][3]))])\n",
    "X"
   ]
  },
  {
   "cell_type": "code",
   "execution_count": 122,
   "metadata": {},
   "outputs": [
    {
     "data": {
      "text/plain": [
       "[0.00039941746952656867,\n",
       " 0.00032620296972110175,\n",
       " 3.777494406637547e-05,\n",
       " 4.882277150014926e-05,\n",
       " 0.0006794053279448163,\n",
       " 6.305737389225662e-05,\n",
       " 2.1464842689725112e-05,\n",
       " 1.1145728485001695e-05,\n",
       " 0.00011413673297634513,\n",
       " 0.00018432872194101873,\n",
       " 6.271878206676247e-05,\n",
       " 0.0001295965791116382,\n",
       " 2.9916464130387026e-06,\n",
       " 1.9527758749064044e-05,\n",
       " 3.6573306078626003e-05,\n",
       " 4.1298542770913836e-05,\n",
       " 7.027256265455131e-05,\n",
       " 1.5597164392350894e-05,\n",
       " 0.00029401332589101765,\n",
       " 1.6907172306469161e-06]"
      ]
     },
     "execution_count": 122,
     "metadata": {},
     "output_type": "execute_result"
    }
   ],
   "source": [
    "Y = []\n",
    "for i in range(len(X)):\n",
    "    Y.append(sum(X[i]))\n",
    "Y"
   ]
  },
  {
   "cell_type": "code",
   "execution_count": 123,
   "metadata": {},
   "outputs": [
    {
     "data": {
      "text/plain": [
       "False"
      ]
     },
     "execution_count": 123,
     "metadata": {},
     "output_type": "execute_result"
    }
   ],
   "source": [
    "np.float64('nan') in Y"
   ]
  },
  {
   "cell_type": "code",
   "execution_count": 124,
   "metadata": {},
   "outputs": [
    {
     "data": {
      "text/plain": [
       "[0.00039941746952656867,\n",
       " 0.00032620296972110175,\n",
       " 3.777494406637547e-05,\n",
       " 4.882277150014926e-05,\n",
       " 0.0006794053279448163,\n",
       " 6.305737389225662e-05,\n",
       " 2.1464842689725112e-05,\n",
       " 1.1145728485001695e-05,\n",
       " 0.00011413673297634513,\n",
       " 0.00018432872194101873,\n",
       " 6.271878206676247e-05,\n",
       " 0.0001295965791116382,\n",
       " 2.9916464130387026e-06,\n",
       " 1.9527758749064044e-05,\n",
       " 3.6573306078626003e-05,\n",
       " 4.1298542770913836e-05,\n",
       " 7.027256265455131e-05,\n",
       " 1.5597164392350894e-05,\n",
       " 0.00029401332589101765,\n",
       " 1.6907172306469161e-06]"
      ]
     },
     "execution_count": 124,
     "metadata": {},
     "output_type": "execute_result"
    }
   ],
   "source": [
    "Y_ = [x for x in Y if x == x]\n",
    "Y_\n"
   ]
  },
  {
   "cell_type": "code",
   "execution_count": 125,
   "metadata": {},
   "outputs": [
    {
     "data": {
      "text/plain": [
       "(0.00012800186340509843, 0.00016896914052333056)"
      ]
     },
     "execution_count": 125,
     "metadata": {},
     "output_type": "execute_result"
    }
   ],
   "source": [
    "np.mean(Y_), np.std(Y_)"
   ]
  },
  {
   "cell_type": "code",
   "execution_count": 126,
   "metadata": {},
   "outputs": [
    {
     "name": "stdout",
     "output_type": "stream",
     "text": [
      "           0\n",
      "0   0.000399\n",
      "1   0.000326\n",
      "2   0.000038\n",
      "3   0.000049\n",
      "4   0.000679\n",
      "5   0.000063\n",
      "6   0.000021\n",
      "7   0.000011\n",
      "8   0.000114\n",
      "9   0.000184\n",
      "10  0.000063\n",
      "11  0.000130\n",
      "12  0.000003\n",
      "13  0.000020\n",
      "14  0.000037\n",
      "15  0.000041\n",
      "16  0.000070\n",
      "17  0.000016\n",
      "18  0.000294\n",
      "19  0.000002\n"
     ]
    }
   ],
   "source": [
    "import pandas as pd\n",
    "RE_10id = pd.DataFrame(Y_)\n",
    "print(RE_10id)\n",
    "\n"
   ]
  },
  {
   "cell_type": "code",
   "execution_count": null,
   "metadata": {},
   "outputs": [],
   "source": []
  },
  {
   "cell_type": "code",
   "execution_count": 40,
   "metadata": {},
   "outputs": [],
   "source": [
    "path = '/Users/student/Documents/summer_research/circuit_results/project2/'\n",
    "#saving to csv file\n",
    "df.to_csv(path + 'RE_10id.csv')"
   ]
  },
  {
   "cell_type": "code",
   "execution_count": null,
   "metadata": {},
   "outputs": [],
   "source": []
  }
 ],
 "metadata": {
  "kernelspec": {
   "display_name": "Python 3",
   "language": "python",
   "name": "python3"
  },
  "language_info": {
   "codemirror_mode": {
    "name": "ipython",
    "version": 3
   },
   "file_extension": ".py",
   "mimetype": "text/x-python",
   "name": "python",
   "nbconvert_exporter": "python",
   "pygments_lexer": "ipython3",
   "version": "3.7.6"
  }
 },
 "nbformat": 4,
 "nbformat_minor": 4
}
