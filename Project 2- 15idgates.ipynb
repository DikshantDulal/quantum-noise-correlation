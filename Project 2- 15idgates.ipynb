{
 "cells": [
  {
   "cell_type": "code",
   "execution_count": 3,
   "metadata": {},
   "outputs": [],
   "source": [
    "#preamble \n",
    "from qiskit import QuantumCircuit, ClassicalRegister, QuantumRegister\n",
    "from qiskit import IBMQ\n",
    "import qiskit\n",
    "import random\n",
    "import pandas as pd\n",
    "import numpy as np \n",
    "from qiskit.providers.ibmq import IBMQJob\n",
    "from qiskit.providers.ibmq.job import job_monitor\n"
   ]
  },
  {
   "cell_type": "markdown",
   "metadata": {},
   "source": [
    "n = 2\n",
    "q = QuantumRegister(n, 'q')\n",
    "c = ClassicalRegister(n, 'c')\n",
    "qc = []\n",
    "qc.append(QuantumCircuit(q, c))\n",
    "\n",
    "\n",
    "\n",
    "count = 0\n",
    "for i in range(10):\n",
    "    for j in range(5):\n",
    "        qc[count].id(0)\n",
    "        qc[count].id(1)\n",
    "        qc.append(QuantumCircuit(q,c))\n",
    "    count = count + 1\n",
    "\n",
    "# Do it for both qubits\n",
    "       \n",
    "\n",
    "\n",
    "\n"
   ]
  },
  {
   "cell_type": "code",
   "execution_count": 4,
   "metadata": {},
   "outputs": [],
   "source": [
    "#defining circuits\n",
    "qc = []\n",
    "    \n",
    "\n",
    "\n",
    "\n",
    "for i in range(5,25):  # no. of circuits\n",
    "    n = 2\n",
    "    q = QuantumRegister(n, 'q')\n",
    "    c = ClassicalRegister(n, 'c')\n",
    "    qc.append(QuantumCircuit(q,c))\n",
    "    for j in range(15):\n",
    "        qc[i-5].id(0)\n",
    "        qc[i-5].id(1)\n",
    " \n",
    "for i in range(20):\n",
    "    qc[i].measure(q,c)"
   ]
  },
  {
   "cell_type": "code",
   "execution_count": 5,
   "metadata": {},
   "outputs": [
    {
     "data": {
      "image/png": "[encoded data removed]",
      "text/plain": [
       "<Figure size 1201.59x204.68 with 1 Axes>"
      ]
     },
     "execution_count": 5,
     "metadata": {},
     "output_type": "execute_result"
    }
   ],
   "source": [
    "#checking the output\n",
    "qc[19].draw(output = \"mpl\")\n"
   ]
  },
  {
   "cell_type": "code",
   "execution_count": 6,
   "metadata": {},
   "outputs": [
    {
     "name": "stderr",
     "output_type": "stream",
     "text": [
      "configrc.store_credentials:WARNING:2020-10-20 10:14:04,861: Credentials already present. Set overwrite=True to overwrite.\n"
     ]
    }
   ],
   "source": [
    "#saving account\n",
    "IBMQ.save_account('e16aff0cd0c88a64f3123ca8f2417390e7c73433dbc8b7d872ff853bd6045d642d2230ed0b26ee080c6947f2c924fa031339b76ecd79c0b96eb9b6c08184230d')"
   ]
  },
  {
   "cell_type": "code",
   "execution_count": 7,
   "metadata": {},
   "outputs": [
    {
     "data": {
      "text/plain": [
       "[<AccountProvider for IBMQ(hub='ibm-q', group='open', project='main')>]"
      ]
     },
     "execution_count": 7,
     "metadata": {},
     "output_type": "execute_result"
    }
   ],
   "source": [
    "#loading account\n",
    "IBMQ.load_account()\n",
    "IBMQ.providers()\n"
   ]
  },
  {
   "cell_type": "code",
   "execution_count": 8,
   "metadata": {},
   "outputs": [
    {
     "data": {
      "text/plain": [
       "[<IBMQSimulator('ibmq_qasm_simulator') from IBMQ(hub='ibm-q', group='open', project='main')>,\n",
       " <IBMQBackend('ibmqx2') from IBMQ(hub='ibm-q', group='open', project='main')>,\n",
       " <IBMQBackend('ibmq_16_melbourne') from IBMQ(hub='ibm-q', group='open', project='main')>,\n",
       " <IBMQBackend('ibmq_vigo') from IBMQ(hub='ibm-q', group='open', project='main')>,\n",
       " <IBMQBackend('ibmq_ourense') from IBMQ(hub='ibm-q', group='open', project='main')>,\n",
       " <IBMQBackend('ibmq_valencia') from IBMQ(hub='ibm-q', group='open', project='main')>,\n",
       " <IBMQBackend('ibmq_armonk') from IBMQ(hub='ibm-q', group='open', project='main')>,\n",
       " <IBMQBackend('ibmq_athens') from IBMQ(hub='ibm-q', group='open', project='main')>,\n",
       " <IBMQBackend('ibmq_santiago') from IBMQ(hub='ibm-q', group='open', project='main')>]"
      ]
     },
     "execution_count": 8,
     "metadata": {},
     "output_type": "execute_result"
    }
   ],
   "source": [
    "#checking backends\n",
    "provider = IBMQ.get_provider()\n",
    "provider.backends()"
   ]
  },
  {
   "cell_type": "code",
   "execution_count": 9,
   "metadata": {},
   "outputs": [],
   "source": [
    "#submitting the circuit to IBM Q\n",
    "backend = provider.get_backend('ibmq_ourense')\n",
    "\n",
    "job_exp = qiskit.execute(qc,backend=backend,shots = 8132)\n",
    "\n",
    "\n"
   ]
  },
  {
   "cell_type": "code",
   "execution_count": 10,
   "metadata": {},
   "outputs": [
    {
     "name": "stdout",
     "output_type": "stream",
     "text": [
      "Job Status: job has successfully run                        \n"
     ]
    }
   ],
   "source": [
    "#checking the job\n",
    "job_monitor(job_exp)\n"
   ]
  },
  {
   "cell_type": "code",
   "execution_count": 11,
   "metadata": {
    "scrolled": true
   },
   "outputs": [
    {
     "data": {
      "text/plain": [
       "[{'10': 181, '01': 97, '11': 3, '00': 7851},\n",
       " {'10': 187, '01': 64, '11': 3, '00': 7878},\n",
       " {'10': 164, '01': 71, '11': 4, '00': 7893},\n",
       " {'10': 170, '01': 71, '11': 9, '00': 7882},\n",
       " {'10': 153, '01': 73, '11': 4, '00': 7902},\n",
       " {'10': 143, '01': 81, '11': 5, '00': 7903},\n",
       " {'10': 149, '01': 77, '11': 3, '00': 7903},\n",
       " {'10': 149, '01': 77, '11': 1, '00': 7905},\n",
       " {'10': 159, '01': 70, '11': 4, '00': 7899},\n",
       " {'10': 144, '01': 82, '11': 5, '00': 7901},\n",
       " {'10': 164, '01': 83, '11': 1, '00': 7884},\n",
       " {'10': 184, '01': 71, '11': 5, '00': 7872},\n",
       " {'10': 157, '01': 79, '11': 4, '00': 7892},\n",
       " {'10': 173, '01': 66, '11': 4, '00': 7889},\n",
       " {'10': 173, '01': 87, '11': 1, '00': 7871},\n",
       " {'10': 155, '01': 81, '11': 3, '00': 7893},\n",
       " {'10': 158, '01': 80, '00': 7894},\n",
       " {'10': 177, '01': 83, '11': 4, '00': 7868},\n",
       " {'10': 144, '01': 74, '11': 1, '00': 7913},\n",
       " {'10': 153, '01': 88, '11': 3, '00': 7888}]"
      ]
     },
     "execution_count": 11,
     "metadata": {},
     "output_type": "execute_result"
    }
   ],
   "source": [
    "#checking the result\n",
    "output = job_exp.result().get_counts()\n",
    "output\n",
    "\n",
    "#00:1, 10:2, 11:3, 01:4\n"
   ]
  },
  {
   "cell_type": "code",
   "execution_count": 12,
   "metadata": {},
   "outputs": [
    {
     "name": "stdout",
     "output_type": "stream",
     "text": [
      "     10  01   11    00\n",
      "0   181  97  3.0  7851\n",
      "1   187  64  3.0  7878\n",
      "2   164  71  4.0  7893\n",
      "3   170  71  9.0  7882\n",
      "4   153  73  4.0  7902\n",
      "5   143  81  5.0  7903\n",
      "6   149  77  3.0  7903\n",
      "7   149  77  1.0  7905\n",
      "8   159  70  4.0  7899\n",
      "9   144  82  5.0  7901\n",
      "10  164  83  1.0  7884\n",
      "11  184  71  5.0  7872\n",
      "12  157  79  4.0  7892\n",
      "13  173  66  4.0  7889\n",
      "14  173  87  1.0  7871\n",
      "15  155  81  3.0  7893\n",
      "16  158  80  NaN  7894\n",
      "17  177  83  4.0  7868\n",
      "18  144  74  1.0  7913\n",
      "19  153  88  3.0  7888\n"
     ]
    }
   ],
   "source": [
    "#creating dataframe\n",
    "import pandas as pd\n",
    "df = pd.DataFrame(output)\n",
    "print (df)\n"
   ]
  },
  {
   "cell_type": "code",
   "execution_count": 13,
   "metadata": {},
   "outputs": [],
   "source": [
    "#location\n",
    "path = '/Users/student/Documents/summer_research/circuit_results/project2/'"
   ]
  },
  {
   "cell_type": "code",
   "execution_count": 14,
   "metadata": {},
   "outputs": [],
   "source": [
    "#saving to csv file\n",
    "df.to_csv(path + '15_idgates.csv')"
   ]
  },
  {
   "cell_type": "code",
   "execution_count": 15,
   "metadata": {},
   "outputs": [],
   "source": [
    "#finding the probabilty for p00,p01,p10,p11\n",
    "for i in range(len(output)):\n",
    "    if '00' in output[i]:\n",
    "        output[i]['00'] = output[i]['00']/8132\n",
    "    if '01' in output[i]:\n",
    "        output[i]['01'] = output[i]['01']/8132\n",
    "    if '10' in output[i]:\n",
    "        output[i]['10'] = output[i]['10']/8132\n",
    "    if '11' in output[i]:\n",
    "        output[i]['11'] = output[i]['11']/8132\n",
    "        \n",
    " "
   ]
  },
  {
   "cell_type": "markdown",
   "metadata": {},
   "source": [
    "#Reason behind relative entropy (defining p_0,p_0',p_1,p_1'  to get q00,q01,...)\n",
    "p_00 = p_0 * p_0’\n",
    "\n",
    "Independent events: \n",
    "\n",
    "\n",
    "In |0>\n",
    "\n",
    "p_0 = p_00 + p_10\n",
    "p_1 = p_01 + p_11\n",
    "\n",
    "\n",
    "In |1>\n",
    "\n",
    "p_0’ = p_00 + p_01\n",
    "p_1’ = p_10 + p_11\n",
    "\n",
    "\n",
    "\n",
    "\n",
    "If we have independent events:\n",
    "\n",
    "p_0 * p_0’ = q00\n",
    "p_0 * p_1’ = q10\n",
    "p_1 * p_0’ = q01\n",
    "p_1 * p_1’ = q11\n",
    "\n",
    "\n",
    "If equal then no correlation. If deviation between two of them then it gives us the correlation.\n",
    "\n",
    "\n",
    "\n",
    "\n",
    "Syntax:\n",
    "p_x’ = prob of measuring of getting x in the second qubit(|1>)\n",
    "p_x =  prob of measuring of getting x in the first qubit(|0>)\n",
    "\n",
    "\n"
   ]
  },
  {
   "cell_type": "code",
   "execution_count": 16,
   "metadata": {},
   "outputs": [],
   "source": [
    "#creating list for p_0,p_0_, p_1, p_1_\n",
    "p_0 = []\n",
    "p_0_ = []\n",
    "p_1 = []\n",
    "p_1_ = []\n",
    "\n",
    "for i in range(len(output)):\n",
    "    if '00' in output[i] and '01' in output[i]:\n",
    "        p_0_.append(output[i]['00'] + output[i]['01'])\n",
    "    elif '00' in output[i]:\n",
    "        p_0_.append(output[i]['00'])\n",
    "    elif '01' in output[i]:\n",
    "        p_0_.append(output[i]['00'])\n",
    "    else:\n",
    "        p_0_.append(0)\n",
    "    if '10' in output[i] and '11' in output[i]:\n",
    "        p_1_.append(output[i]['10'] + output[i]['11'])\n",
    "    elif '10' in output[i]:\n",
    "        p_1_.append(output[i]['10'])\n",
    "    elif '11' in output[i]:\n",
    "        p_1_.append(output[i]['11'])\n",
    "    else:\n",
    "        p_1_.append(0)\n",
    "    if '00' in output[i] and '10' in output[i]:\n",
    "        p_0.append(output[i]['00'] + output[i]['10'])\n",
    "    elif '00' in output[i]:\n",
    "        p_0.append(output[i]['00'])\n",
    "    elif '10' in output[i]:\n",
    "        p_0.append(output[i]['10'])\n",
    "    else:\n",
    "        p_0.append(0)\n",
    "    if '01' in output[i] and '11' in output[i]:\n",
    "        p_1.append(output[i]['01'] + output[i]['11'])\n",
    "    elif '01' in output[i]:\n",
    "        p_1.append(output[i]['01'])\n",
    "    elif '11' in output[i]:\n",
    "        p_1.append(output[i]['11'])\n",
    "    else:\n",
    "        p_1.append(0)\n",
    "        \n"
   ]
  },
  {
   "cell_type": "code",
   "execution_count": 17,
   "metadata": {},
   "outputs": [
    {
     "data": {
      "text/plain": [
       "1.0"
      ]
     },
     "execution_count": 17,
     "metadata": {},
     "output_type": "execute_result"
    }
   ],
   "source": [
    " p_1_[9] + p_0_[9]"
   ]
  },
  {
   "cell_type": "code",
   "execution_count": 18,
   "metadata": {},
   "outputs": [
    {
     "data": {
      "text/plain": [
       "(20, 20, 20, 20)"
      ]
     },
     "execution_count": 18,
     "metadata": {},
     "output_type": "execute_result"
    }
   ],
   "source": [
    "#double checking the length of p_0, p_1...\n",
    "len(p_0),len(p_0_),len(p_1),len(p_1_)"
   ]
  },
  {
   "cell_type": "code",
   "execution_count": 19,
   "metadata": {},
   "outputs": [],
   "source": [
    "#defining the q_s based on the independence of the events. \n",
    "'''\n",
    "q00 = p_0 * p_0’  \n",
    "q10 = p_0 * p_1’ \n",
    "q01 = p_1 * p_0’ \n",
    "q11 = p_1 * p_1’ \n",
    "\n",
    "'''\n",
    "\n",
    "\n",
    "q00 = []\n",
    "q01 = []\n",
    "q10 = []\n",
    "q11 = []\n",
    "\n",
    "\n",
    "for i in range(len(p_0)):\n",
    "    q00.append(p_0[i] * p_0_[i])\n",
    "    q01.append(p_1[i] * p_0_[i])\n",
    "    q10.append(p_0[i] * p_1_[i])\n",
    "    q11.append(p_1[i] * p_1_[i])\n"
   ]
  },
  {
   "cell_type": "code",
   "execution_count": 20,
   "metadata": {},
   "outputs": [
    {
     "data": {
      "text/plain": [
       "(20, 20, 20, 20)"
      ]
     },
     "execution_count": 20,
     "metadata": {},
     "output_type": "execute_result"
    }
   ],
   "source": [
    "#double check the length of q_s\n",
    "len(q00),len(q01),len(q10),len(q11)"
   ]
  },
  {
   "cell_type": "code",
   "execution_count": 21,
   "metadata": {},
   "outputs": [],
   "source": [
    "#making the list of p00, p01,p10,p11 (the outputs from IBM Q)\n",
    "p00 = []\n",
    "p01 = []\n",
    "p10 = []\n",
    "p11 = []\n",
    "\n",
    "for i in range(len(output)):\n",
    "    if '00' in output[i]:\n",
    "        p00.append(output[i]['00'])\n",
    "    else: \n",
    "        p00.append(0)\n",
    "    if '01' in output[i]:\n",
    "        p01.append(output[i]['01'])\n",
    "    else: \n",
    "        p01.append(0)\n",
    "    if '10' in output[i]:\n",
    "        p10.append(output[i]['10'])\n",
    "    else: \n",
    "        p10.append(0)\n",
    "    if '11' in output[i]:\n",
    "        p11.append(output[i]['11'])\n",
    "    else: \n",
    "        p11.append(0)\n",
    "    \n",
    "  "
   ]
  },
  {
   "cell_type": "code",
   "execution_count": 22,
   "metadata": {},
   "outputs": [],
   "source": [
    "#create p (list of p00,p01,p10,p11 for each output)\n",
    "p = []\n",
    "for i in range(len(p00)):\n",
    "    p.append([p00[i],p01[i],p10[i],p11[i]])\n",
    "   \n"
   ]
  },
  {
   "cell_type": "code",
   "execution_count": 23,
   "metadata": {},
   "outputs": [],
   "source": [
    "#create q (list of q00,q01,q10,q11 for each output)\n",
    "q = []\n",
    "for i in range(len(q00)):\n",
    "    q.append([q00[i],q01[i],q10[i],q11[i]])"
   ]
  },
  {
   "cell_type": "code",
   "execution_count": 24,
   "metadata": {},
   "outputs": [
    {
     "name": "stderr",
     "output_type": "stream",
     "text": [
      "/opt/anaconda3/lib/python3.7/site-packages/ipykernel_launcher.py:8: RuntimeWarning: divide by zero encountered in log\n",
      "  \n",
      "/opt/anaconda3/lib/python3.7/site-packages/ipykernel_launcher.py:8: RuntimeWarning: invalid value encountered in double_scalars\n",
      "  \n"
     ]
    },
    {
     "data": {
      "text/plain": [
       "[[9.067494036539554e-05,\n",
       "  -9.032780762338111e-05,\n",
       "  -9.04865012646813e-05,\n",
       "  0.00010405872595398547],\n",
       " [0.00017642770206258046,\n",
       "  -0.00017446353545895666,\n",
       "  -0.0001757384036981877,\n",
       "  0.0002399622867184806],\n",
       " [0.00030139524875204623,\n",
       "  -0.00029626458584480726,\n",
       "  -0.0002991191927834672,\n",
       "  0.00046650489076662985],\n",
       " [0.0008906027912150332,\n",
       "  -0.0008476788645774671,\n",
       "  -0.000871761772790143,\n",
       "  0.0018055052636655657],\n",
       " [0.0003091248946129051,\n",
       "  -0.00030387402281570965,\n",
       "  -0.00030656452745482423,\n",
       "  0.0004868693107064122],\n",
       " [0.0004224756547676736,\n",
       "  -0.00041367358223741424,\n",
       "  -0.0004173908560004519,\n",
       "  0.0007141173863531203],\n",
       " [0.0001850487155300796,\n",
       "  -0.00018324644561211792,\n",
       "  -0.0001841030754952114,\n",
       "  0.00025686201717763985],\n",
       " [-5.395330502530924e-05,\n",
       "  5.410911108965398e-05,\n",
       "  5.403439900640863e-05,\n",
       "  -4.473462199183598e-05],\n",
       " [0.0003095333335955275,\n",
       "  -0.00030405040411983676,\n",
       "  -0.0003070602366876797,\n",
       "  0.0004879691302789945],\n",
       " [0.00041892050147981837,\n",
       "  -0.0004103655946393438,\n",
       "  -0.00041395380113987904,\n",
       "  0.0007028687054736196],\n",
       " [-8.661415435554494e-05,\n",
       "  8.698765723756778e-05,\n",
       "  8.680456941746875e-05,\n",
       "  -6.55681379729042e-05],\n",
       " [0.00039772616784617993,\n",
       "  -0.00038885513578746294,\n",
       "  -0.000394190746009647,\n",
       "  0.0006397686496780399],\n",
       " [0.00028985375907885567,\n",
       "  -0.00028557173951447617,\n",
       "  -0.00028765682060000923,\n",
       "  0.00043758561883279235],\n",
       " [0.0003045718553686587,\n",
       "  -0.00029895001956154724,\n",
       "  -0.00030236508999653965,\n",
       "  0.0004747720419306148],\n",
       " [-0.00010856887731042375,\n",
       "  0.00010912966682039382,\n",
       "  0.00010885297725496718,\n",
       "  -7.781971703695254e-05],\n",
       " [0.00016823016720843463,\n",
       "  -0.00016681096734861873,\n",
       "  -0.00016747764674686762,\n",
       "  0.00022458041006372348],\n",
       " [-0.00019112151552479705,\n",
       "  0.00019302161147995004,\n",
       "  0.00019208673170089996,\n",
       "  nan],\n",
       " [0.000253793243372143,\n",
       "  -0.0002506567544186234,\n",
       "  -0.00025229211221507256,\n",
       "  0.0003568378681493942],\n",
       " [-4.147838242774483e-05,\n",
       "  4.157409086379307e-05,\n",
       "  4.152792353803868e-05,\n",
       "  -3.574270551016325e-05],\n",
       " [0.00015425525343118381,\n",
       "  -0.00015315407599890434,\n",
       "  -0.00015361417603578978,\n",
       "  0.00019975121113500736]]"
      ]
     },
     "execution_count": 24,
     "metadata": {},
     "output_type": "execute_result"
    }
   ],
   "source": [
    "#calculation of the relative entropy\n",
    "X = []\n",
    "D = []\n",
    "A = len(q)\n",
    "# A is the number of measurements which doesn't have three zeros. \n",
    "for i in range(A):\n",
    "    X.append([p[i][0] * (np.log(p[i][0]/q[i][0])), p[i][1] * (np.log(p[i][1]/q[i][1])), \n",
    "            p[i][2] * (np.log(p[i][2]/q[i][2])), p[i][3] * (np.log(p[i][3]/q[i][3]))])\n",
    "X"
   ]
  },
  {
   "cell_type": "code",
   "execution_count": 25,
   "metadata": {},
   "outputs": [
    {
     "data": {
      "text/plain": [
       "[1.3919357431318606e-05,\n",
       " 6.618804962391672e-05,\n",
       " 0.00017251636089040166,\n",
       " 0.0009766674175129887,\n",
       " 0.00018555565504878345,\n",
       " 0.0003055286028829277,\n",
       " 7.456121160039013e-05,\n",
       " 9.455583078917387e-06,\n",
       " 0.00018639182306700555,\n",
       " 0.0002974698111742151,\n",
       " 2.1609934326587387e-05,\n",
       " 0.00025444893572710984,\n",
       " 0.00015421081779716262,\n",
       " 0.00017802878774118662,\n",
       " 3.1594049727984706e-05,\n",
       " 5.8521963176671766e-05,\n",
       " nan,\n",
       " 0.00010768224488784124,\n",
       " 5.88092646392367e-06,\n",
       " 4.723821253149705e-05]"
      ]
     },
     "execution_count": 25,
     "metadata": {},
     "output_type": "execute_result"
    }
   ],
   "source": [
    "Y = []\n",
    "for i in range(len(X)):\n",
    "    Y.append(sum(X[i]))\n",
    "Y"
   ]
  },
  {
   "cell_type": "code",
   "execution_count": 26,
   "metadata": {},
   "outputs": [
    {
     "data": {
      "text/plain": [
       "[1.3919357431318606e-05,\n",
       " 6.618804962391672e-05,\n",
       " 0.00017251636089040166,\n",
       " 0.0009766674175129887,\n",
       " 0.00018555565504878345,\n",
       " 0.0003055286028829277,\n",
       " 7.456121160039013e-05,\n",
       " 9.455583078917387e-06,\n",
       " 0.00018639182306700555,\n",
       " 0.0002974698111742151,\n",
       " 2.1609934326587387e-05,\n",
       " 0.00025444893572710984,\n",
       " 0.00015421081779716262,\n",
       " 0.00017802878774118662,\n",
       " 3.1594049727984706e-05,\n",
       " 5.8521963176671766e-05,\n",
       " 0.00010768224488784124,\n",
       " 5.88092646392367e-06,\n",
       " 4.723821253149705e-05]"
      ]
     },
     "execution_count": 26,
     "metadata": {},
     "output_type": "execute_result"
    }
   ],
   "source": [
    "Y_ = [x for x in Y if x == x]\n",
    "Y_\n",
    "\n"
   ]
  },
  {
   "cell_type": "code",
   "execution_count": 27,
   "metadata": {},
   "outputs": [
    {
     "data": {
      "text/plain": [
       "(0.00016565630235214893, 0.00021305375361176305)"
      ]
     },
     "execution_count": 27,
     "metadata": {},
     "output_type": "execute_result"
    }
   ],
   "source": [
    "np.mean(Y_),np.std(Y_)"
   ]
  },
  {
   "cell_type": "code",
   "execution_count": null,
   "metadata": {},
   "outputs": [],
   "source": []
  },
  {
   "cell_type": "code",
   "execution_count": null,
   "metadata": {},
   "outputs": [],
   "source": []
  },
  {
   "cell_type": "code",
   "execution_count": null,
   "metadata": {},
   "outputs": [],
   "source": []
  }
 ],
 "metadata": {
  "kernelspec": {
   "display_name": "Python 3",
   "language": "python",
   "name": "python3"
  },
  "language_info": {
   "codemirror_mode": {
    "name": "ipython",
    "version": 3
   },
   "file_extension": ".py",
   "mimetype": "text/x-python",
   "name": "python",
   "nbconvert_exporter": "python",
   "pygments_lexer": "ipython3",
   "version": "3.7.6"
  }
 },
 "nbformat": 4,
 "nbformat_minor": 4
}
