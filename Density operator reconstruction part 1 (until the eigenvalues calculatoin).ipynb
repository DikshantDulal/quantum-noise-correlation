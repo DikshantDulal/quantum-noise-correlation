{
 "cells": [
  {
   "cell_type": "code",
   "execution_count": 52,
   "metadata": {},
   "outputs": [],
   "source": [
    "from qiskit import QuantumCircuit, ClassicalRegister, QuantumRegister\n",
    "from qiskit import IBMQ\n",
    "import qiskit\n",
    "import random\n",
    "import pandas as pd\n",
    "import numpy as np \n",
    "from qiskit.providers.ibmq import IBMQJob\n",
    "from qiskit.providers.ibmq.job import job_monitor\n",
    "\n",
    "\n",
    "\n",
    "\n",
    "\n"
   ]
  },
  {
   "cell_type": "code",
   "execution_count": 53,
   "metadata": {},
   "outputs": [],
   "source": [
    "import numpy as np "
   ]
  },
  {
   "cell_type": "code",
   "execution_count": 2,
   "metadata": {},
   "outputs": [
    {
     "name": "stderr",
     "output_type": "stream",
     "text": [
      "configrc.store_credentials:WARNING:2020-10-27 09:40:41,964: Credentials already present. Set overwrite=True to overwrite.\n"
     ]
    }
   ],
   "source": [
    "IBMQ.save_account('e16aff0cd0c88a64f3123ca8f2417390e7c73433dbc8b7d872ff853bd6045d642d2230ed0b26ee080c6947f2c924fa031339b76ecd79c0b96eb9b6c08184230d')"
   ]
  },
  {
   "cell_type": "code",
   "execution_count": 3,
   "metadata": {},
   "outputs": [
    {
     "data": {
      "text/plain": [
       "[<IBMQSimulator('ibmq_qasm_simulator') from IBMQ(hub='ibm-q', group='open', project='main')>,\n",
       " <IBMQBackend('ibmqx2') from IBMQ(hub='ibm-q', group='open', project='main')>,\n",
       " <IBMQBackend('ibmq_16_melbourne') from IBMQ(hub='ibm-q', group='open', project='main')>,\n",
       " <IBMQBackend('ibmq_vigo') from IBMQ(hub='ibm-q', group='open', project='main')>,\n",
       " <IBMQBackend('ibmq_ourense') from IBMQ(hub='ibm-q', group='open', project='main')>,\n",
       " <IBMQBackend('ibmq_valencia') from IBMQ(hub='ibm-q', group='open', project='main')>,\n",
       " <IBMQBackend('ibmq_armonk') from IBMQ(hub='ibm-q', group='open', project='main')>,\n",
       " <IBMQBackend('ibmq_athens') from IBMQ(hub='ibm-q', group='open', project='main')>,\n",
       " <IBMQBackend('ibmq_santiago') from IBMQ(hub='ibm-q', group='open', project='main')>]"
      ]
     },
     "execution_count": 3,
     "metadata": {},
     "output_type": "execute_result"
    }
   ],
   "source": [
    "IBMQ.load_account()\n",
    "IBMQ.providers()\n",
    "provider = IBMQ.get_provider()\n",
    "provider.backends()"
   ]
  },
  {
   "cell_type": "code",
   "execution_count": 4,
   "metadata": {},
   "outputs": [],
   "source": [
    "api = 'e16aff0cd0c88a64f3123ca8f2417390e7c73433dbc8b7d872ff853bd6045d642d2230ed0b26ee080c6947f2c924fa031339b76ecd79c0b96eb9b6c08184230d'"
   ]
  },
  {
   "cell_type": "code",
   "execution_count": 5,
   "metadata": {},
   "outputs": [],
   "source": [
    "import numpy as np\n",
    "\n",
    "\n",
    "def Pauli(j):\n",
    "    if j == 0:\n",
    "        return np.array([[1, 0], [0, 1]])\n",
    "    elif j == 1:\n",
    "        return np.array([[0, 1], [1, 0]])\n",
    "    elif j == 2:\n",
    "        return np.array([[0, -1j], [1j, 0]])\n",
    "    elif j == 3:\n",
    "        return np.array([[1, 0], [0, -1]])\n",
    "\n",
    "\n"
   ]
  },
  {
   "cell_type": "code",
   "execution_count": 6,
   "metadata": {},
   "outputs": [],
   "source": [
    "def trace(A):\n",
    "    tr = 0\n",
    "    for i in range(len(A)):\n",
    "        tr+= A[i][i] \n",
    "    return(tr)\n",
    "\n"
   ]
  },
  {
   "cell_type": "code",
   "execution_count": 7,
   "metadata": {},
   "outputs": [],
   "source": [
    "def normTr(d, A):\n",
    "    ev = np.linalg.eigvalsh(A)\n",
    "    Ntr = 0\n",
    "    for j in range(0, d):\n",
    "        Ntr += abs(ev[j]) #calculate the sum of all absolute values \n",
    "    return Ntr"
   ]
  },
  {
   "cell_type": "code",
   "execution_count": 8,
   "metadata": {},
   "outputs": [],
   "source": [
    "z = np.array([1,0])\n",
    "o = np.array([0,1])\n",
    "\n",
    "lst = [z,o]\n",
    "\n",
    "def function(A): #function refers to reconstruction of density operator between two qubits\n",
    "    M = np.zeros((4,4))\n",
    "    dd = 0\n",
    "    for i in lst:\n",
    "        for j in lst:\n",
    "            for i1 in lst:\n",
    "                for j1 in lst:\n",
    "                    M = M + A[dd] * np.kron(np.outer(i,i1),np.outer(j1,j))\n",
    "                    dd = dd + 1\n",
    "    return(M)               \n",
    "                "
   ]
  },
  {
   "cell_type": "code",
   "execution_count": 9,
   "metadata": {},
   "outputs": [],
   "source": [
    "def negativity(d, rhoTp):\n",
    "    En = 0.5*(normTr(d, rhoTp) - 1.0)\n",
    "    return En\n",
    "\n",
    "\n",
    "\n"
   ]
  },
  {
   "cell_type": "code",
   "execution_count": 45,
   "metadata": {},
   "outputs": [],
   "source": [
    "#maximizing a  bell state:\n",
    "#This cell makes measurements in x,y,and z bases \n",
    "\n",
    "\n",
    "\n",
    "#n is number of qubits\n",
    "n = 2\n",
    "q = QuantumRegister(2, 'q')\n",
    "c = ClassicalRegister(2, 'c')\n",
    "qc = []\n",
    "\n",
    "for i in range(3**n):\n",
    "    qc.append(QuantumCircuit(q, c))\n",
    "    qc[i].id(0)\n",
    "    qc[i].id(1)\n",
    "    qc[i].barrier(0,1)\n",
    "    qc[i].h(0)\n",
    "    qc[i].barrier(0,1)\n",
    "    qc[i].id(0)\n",
    "    qc[i].id(1)\n",
    "    qc[i].barrier(0,1)\n",
    "    qc[i].cx(0,1)\n",
    "    qc[i].barrier(0,1)\n",
    "    qc[i].id(0)\n",
    "    qc[i].id(1)\n",
    "    qc[i].barrier(0,1)\n",
    "    \n",
    "    \n",
    "\n",
    "\n",
    "count = 0 #count refers to the total number of circuits.\n",
    "for i in range(3):\n",
    "    for j in range(3):\n",
    "        if i == 0: \n",
    "            qc[count].h(0)\n",
    "        elif i == 1:\n",
    "            qc[count].s(0).inverse()\n",
    "            qc[count].h(0)\n",
    "        if j == 0:\n",
    "            qc[count].h(1)\n",
    "        elif j == 1:\n",
    "            qc[count].s(1).inverse()\n",
    "            qc[count].h(1)\n",
    "        count += 1\n",
    "        \n",
    "for i in range(3**n):\n",
    "    qc[i].measure(q,c)\n",
    "\n",
    "  \n",
    "\n"
   ]
  },
  {
   "cell_type": "code",
   "execution_count": 46,
   "metadata": {},
   "outputs": [
    {
     "data": {
      "image/png": "[encoded data removed]",
      "text/plain": [
       "<Figure size 960.792x204.68 with 1 Axes>"
      ]
     },
     "execution_count": 46,
     "metadata": {},
     "output_type": "execute_result"
    }
   ],
   "source": [
    "qc[0].draw(output = 'mpl')"
   ]
  },
  {
   "cell_type": "markdown",
   "metadata": {},
   "source": [
    "#Automation planning:\n",
    "1) Place id_gates in 5 positions of the circuit\n",
    "2) write a code that does this in a single run. \n"
   ]
  },
  {
   "cell_type": "code",
   "execution_count": null,
   "metadata": {},
   "outputs": [],
   "source": [
    "count = 0\n",
    "def n_idgate(n):\n",
    "    for i in range(n):\n",
    "        count = count + 1\n",
    "        qc[count].id(0)\n",
    "    "
   ]
  },
  {
   "cell_type": "code",
   "execution_count": null,
   "metadata": {},
   "outputs": [],
   "source": [
    "\n",
    "def circuit(n_circ,n_idgate): \n",
    "    qc = []\n",
    "    for i in range(n_circ):  # no. of circuits\n",
    "        n = 2\n",
    "        q = QuantumRegister(n, 'q')\n",
    "        c = ClassicalRegister(n, 'c')\n",
    "        qc.append(QuantumCircuit(q,c))\n",
    "        for j in range(n_idgate):\n",
    "            qc[i].id(0)\n",
    "            qc[i].id(1)\n",
    "        qc[i].measure(q,c)\n",
    "        \n",
    "    return(qc)\n",
    "        \n",
    "    \n",
    "\n",
    "\n",
    "backend = provider.get_backend('ibmq_ourense')\n",
    "output = []\n",
    "for i in range(1,15):\n",
    "    n = 75 # total number of circuits for each number of identity gates. \n",
    "    circ = circuit(n, i)\n",
    "    job_exp = qiskit.execute(circ,backend=backend,shots = 8132)\n",
    "    print(i)\n",
    "    job_monitor(job_exp)\n",
    "    output = job_exp.result().get_counts()\n",
    "    df = pd.DataFrame(output)\n",
    "    df.to_csv(path + str(i) + 'idgates.csv')\n",
    "    \n",
    "    "
   ]
  },
  {
   "cell_type": "code",
   "execution_count": 12,
   "metadata": {},
   "outputs": [
    {
     "data": {
      "image/png": "[encoded data removed]",
      "text/plain": [
       "<Figure size 479.192x204.68 with 1 Axes>"
      ]
     },
     "execution_count": 12,
     "metadata": {},
     "output_type": "execute_result"
    }
   ],
   "source": [
    "qc[0].draw(output = 'mpl')"
   ]
  },
  {
   "cell_type": "code",
   "execution_count": null,
   "metadata": {},
   "outputs": [],
   "source": []
  },
  {
   "cell_type": "code",
   "execution_count": 13,
   "metadata": {},
   "outputs": [],
   "source": [
    "backend = provider.get_backend('ibmq_vigo')\n",
    "from qiskit.providers.ibmq.job import job_monitor\n",
    "from qiskit.visualization import plot_histogram\n",
    "\n",
    "job_exp = qiskit.execute(qc,backend=backend)\n",
    "\n"
   ]
  },
  {
   "cell_type": "code",
   "execution_count": 14,
   "metadata": {
    "scrolled": true
   },
   "outputs": [
    {
     "name": "stdout",
     "output_type": "stream",
     "text": [
      "Job Status: job has successfully run                          \n"
     ]
    }
   ],
   "source": [
    "job_monitor(job_exp)"
   ]
  },
  {
   "cell_type": "code",
   "execution_count": null,
   "metadata": {},
   "outputs": [],
   "source": [
    "output = job_exp.result().get_counts()\n",
    "output"
   ]
  },
  {
   "cell_type": "code",
   "execution_count": 48,
   "metadata": {},
   "outputs": [],
   "source": [
    "\n",
    "\n",
    "output = [{'10': 45, '01': 12, '11': 489, '00': 478},\n",
    " {'10': 250, '01': 212, '11': 240, '00': 322},\n",
    " {'10': 271, '01': 246, '11': 240, '00': 267},\n",
    " {'10': 270, '01': 225, '11': 247, '00': 282},\n",
    " {'10': 483, '01': 467, '11': 15, '00': 59},\n",
    " {'10': 255, '01': 216, '11': 247, '00': 306},\n",
    " {'10': 268, '01': 224, '11': 235, '00': 297},\n",
    " {'10': 253, '01': 221, '11': 215, '00': 335},\n",
    " {'10': 57, '01': 15, '11': 428, '00': 524}]"
   ]
  },
  {
   "cell_type": "code",
   "execution_count": 49,
   "metadata": {},
   "outputs": [
    {
     "data": {
      "text/plain": [
       "[[('00', 478), ('01', 12), ('10', 45), ('11', 489)],\n",
       " [('00', 322), ('01', 212), ('10', 250), ('11', 240)],\n",
       " [('00', 267), ('01', 246), ('10', 271), ('11', 240)],\n",
       " [('00', 282), ('01', 225), ('10', 270), ('11', 247)],\n",
       " [('00', 59), ('01', 467), ('10', 483), ('11', 15)],\n",
       " [('00', 306), ('01', 216), ('10', 255), ('11', 247)],\n",
       " [('00', 297), ('01', 224), ('10', 268), ('11', 235)],\n",
       " [('00', 335), ('01', 221), ('10', 253), ('11', 215)],\n",
       " [('00', 524), ('01', 15), ('10', 57), ('11', 428)]]"
      ]
     },
     "execution_count": 49,
     "metadata": {},
     "output_type": "execute_result"
    }
   ],
   "source": [
    "sorted_output = []\n",
    "for i in range(len(output)):\n",
    "    sorted_output.append(sorted(output[i].items()))\n",
    "sorted_output\n",
    "\n",
    "\n"
   ]
  },
  {
   "cell_type": "code",
   "execution_count": 50,
   "metadata": {},
   "outputs": [
    {
     "data": {
      "text/plain": [
       "[0.466796875,\n",
       " 0.01171875,\n",
       " 0.0439453125,\n",
       " 0.4775390625,\n",
       " 0.314453125,\n",
       " 0.20703125,\n",
       " 0.244140625,\n",
       " 0.234375,\n",
       " 0.2607421875,\n",
       " 0.240234375,\n",
       " 0.2646484375,\n",
       " 0.234375,\n",
       " 0.275390625,\n",
       " 0.2197265625,\n",
       " 0.263671875,\n",
       " 0.2412109375,\n",
       " 0.0576171875,\n",
       " 0.4560546875,\n",
       " 0.4716796875,\n",
       " 0.0146484375,\n",
       " 0.298828125,\n",
       " 0.2109375,\n",
       " 0.2490234375,\n",
       " 0.2412109375,\n",
       " 0.2900390625,\n",
       " 0.21875,\n",
       " 0.26171875,\n",
       " 0.2294921875,\n",
       " 0.3271484375,\n",
       " 0.2158203125,\n",
       " 0.2470703125,\n",
       " 0.2099609375,\n",
       " 0.51171875,\n",
       " 0.0146484375,\n",
       " 0.0556640625,\n",
       " 0.41796875]"
      ]
     },
     "execution_count": 50,
     "metadata": {},
     "output_type": "execute_result"
    }
   ],
   "source": [
    "ns = 1024\n",
    "values = []\n",
    "for i in range(len(sorted_output)):\n",
    "    for j in range(4):\n",
    "        values.append(sorted_output[i][j][1]/ns)\n",
    "values\n",
    "    "
   ]
  },
  {
   "cell_type": "code",
   "execution_count": 18,
   "metadata": {},
   "outputs": [
    {
     "data": {
      "text/plain": [
       "array([0.46679688, 0.01171875, 0.04394531, 0.47753906, 0.31445312,\n",
       "       0.20703125, 0.24414062, 0.234375  , 0.26074219, 0.24023438,\n",
       "       0.26464844, 0.234375  , 0.27539062, 0.21972656, 0.26367188,\n",
       "       0.24121094, 0.05761719, 0.45605469, 0.47167969, 0.01464844,\n",
       "       0.29882812, 0.2109375 , 0.24902344, 0.24121094, 0.29003906,\n",
       "       0.21875   , 0.26171875, 0.22949219, 0.32714844, 0.21582031,\n",
       "       0.24707031, 0.20996094, 0.51171875, 0.01464844, 0.05566406,\n",
       "       0.41796875])"
      ]
     },
     "execution_count": 18,
     "metadata": {},
     "output_type": "execute_result"
    }
   ],
   "source": [
    "#This is the list of probabilities that we get from IBM Q.\n",
    "p = np.array(values)\n",
    "p\n"
   ]
  },
  {
   "cell_type": "code",
   "execution_count": 54,
   "metadata": {
    "scrolled": true
   },
   "outputs": [
    {
     "name": "stdout",
     "output_type": "stream",
     "text": [
      "[0.25, -0.25, 0.0, 0.0, 0.25, -0.25, 0.0, 0.0, 0.0, -0.0, 0.0, 0.0, 0.0, -0.0, 0.0, 0.0]\n"
     ]
    },
    {
     "data": {
      "text/plain": [
       "[0.25,\n",
       " 0.0,\n",
       " 0.0,\n",
       " -0.25,\n",
       " 0.0,\n",
       " 0.0,\n",
       " 0.0,\n",
       " -0.0,\n",
       " 0.0,\n",
       " 0.0,\n",
       " 0.0,\n",
       " -0.0,\n",
       " -0.25,\n",
       " -0.0,\n",
       " -0.0,\n",
       " 0.25]"
      ]
     },
     "execution_count": 54,
     "metadata": {},
     "output_type": "execute_result"
    }
   ],
   "source": [
    "#density operator reconstruction begins here. \n",
    "d1 = np.eye(4)\n",
    "ab = [1, -1]\n",
    "A = []\n",
    "for i in range(1,4):\n",
    "    for j in range(1,4):\n",
    "        for a in ab :\n",
    "            for b in ab :\n",
    "                B = []\n",
    "                for al in range(4):\n",
    "                    for be in range(4):\n",
    "                        mat = (d1[al][0] + a* d1[al][i]) * (d1[be][0] + b* d1[be][j])/4\n",
    "                        #mat = (int(d0[al]) + a* int(d1[i][al])) * (int(d0[be]) + b*int(d1[j][be]))/4 \n",
    "                        B.append(mat)\n",
    "                if (i == 1 and a == 1 and j == 1 and b == -1):\n",
    "                    print(B)\n",
    "                A.append(B) #We append our matrix here because we need 16 different elements of c_s so that we don't need to reshape\n",
    "M = np.array(A, dtype = float)\n",
    "M\n",
    "B\n"
   ]
  },
  {
   "cell_type": "code",
   "execution_count": 21,
   "metadata": {},
   "outputs": [
    {
     "data": {
      "text/plain": [
       "array([[ 1.11111111e-01,  1.11111111e-01,  1.11111111e-01,\n",
       "         1.11111111e-01,  1.11111111e-01,  1.11111111e-01,\n",
       "         1.11111111e-01,  1.11111111e-01,  1.11111111e-01,\n",
       "         1.11111111e-01,  1.11111111e-01,  1.11111111e-01,\n",
       "         1.11111111e-01,  1.11111111e-01,  1.11111111e-01,\n",
       "         1.11111111e-01,  1.11111111e-01,  1.11111111e-01,\n",
       "         1.11111111e-01,  1.11111111e-01,  1.11111111e-01,\n",
       "         1.11111111e-01,  1.11111111e-01,  1.11111111e-01,\n",
       "         1.11111111e-01,  1.11111111e-01,  1.11111111e-01,\n",
       "         1.11111111e-01,  1.11111111e-01,  1.11111111e-01,\n",
       "         1.11111111e-01,  1.11111111e-01,  1.11111111e-01,\n",
       "         1.11111111e-01,  1.11111111e-01,  1.11111111e-01],\n",
       "       [ 3.33333333e-01, -3.33333333e-01,  3.33333333e-01,\n",
       "        -3.33333333e-01,  1.05021906e-17, -2.49459321e-17,\n",
       "         1.05021906e-17, -2.49459321e-17, -1.74774680e-17,\n",
       "         3.03372653e-18,  3.03372653e-18, -1.74774680e-17,\n",
       "         3.33333333e-01, -3.33333333e-01,  3.33333333e-01,\n",
       "        -3.33333333e-01,  1.05021906e-17, -2.49459321e-17,\n",
       "         1.05021906e-17, -2.49459321e-17, -7.22187074e-18,\n",
       "        -7.22187074e-18, -7.22187074e-18, -7.22187074e-18,\n",
       "         3.33333333e-01, -3.33333333e-01,  3.33333333e-01,\n",
       "        -3.33333333e-01,  1.05021906e-17, -2.49459321e-17,\n",
       "         1.05021906e-17, -2.49459321e-17, -7.22187074e-18,\n",
       "        -7.22187074e-18, -7.22187074e-18, -7.22187074e-18],\n",
       "       [ 1.47919893e-17, -2.47852165e-17, -5.02401119e-17,\n",
       "         6.02333392e-17,  3.33333333e-01, -3.33333333e-01,\n",
       "         3.33333333e-01, -3.33333333e-01, -3.91701717e-17,\n",
       "         2.91769445e-17, -5.77842588e-17,  6.77774860e-17,\n",
       "        -1.77240613e-17,  1.77240613e-17, -1.77240613e-17,\n",
       "         1.77240613e-17,  3.33333333e-01, -3.33333333e-01,\n",
       "         3.33333333e-01, -3.33333333e-01, -4.84772152e-17,\n",
       "         4.84772152e-17, -4.84772152e-17,  4.84772152e-17,\n",
       "        -1.77240613e-17,  1.77240613e-17, -1.77240613e-17,\n",
       "         1.77240613e-17,  3.33333333e-01, -3.33333333e-01,\n",
       "         3.33333333e-01, -3.33333333e-01, -4.84772152e-17,\n",
       "         4.84772152e-17, -4.84772152e-17,  4.84772152e-17],\n",
       "       [-5.28570223e-17,  4.51957026e-17,  5.49269723e-17,\n",
       "        -4.51957026e-17, -5.14748262e-17,  6.36971903e-17,\n",
       "        -6.67923015e-17,  3.67562037e-17,  3.33333333e-01,\n",
       "        -3.33333333e-01,  3.33333333e-01, -3.33333333e-01,\n",
       "        -2.88999808e-32,  2.18969963e-32, -2.88999808e-32,\n",
       "         2.18969963e-32, -5.86902882e-17,  5.86902882e-17,\n",
       "        -5.86902882e-17,  5.86902882e-17,  3.33333333e-01,\n",
       "        -3.33333333e-01,  3.33333333e-01, -3.33333333e-01,\n",
       "        -2.88999808e-32,  2.18969963e-32, -2.88999808e-32,\n",
       "         2.18969963e-32, -5.86902882e-17,  5.86902882e-17,\n",
       "        -5.86902882e-17,  5.86902882e-17,  3.33333333e-01,\n",
       "        -3.33333333e-01,  3.33333333e-01, -3.33333333e-01],\n",
       "       [ 3.33333333e-01,  3.33333333e-01, -3.33333333e-01,\n",
       "        -3.33333333e-01,  3.33333333e-01,  3.33333333e-01,\n",
       "        -3.33333333e-01, -3.33333333e-01,  3.33333333e-01,\n",
       "         3.33333333e-01, -3.33333333e-01, -3.33333333e-01,\n",
       "         2.02490248e-17, -1.98126979e-17,  2.02490248e-17,\n",
       "        -1.98126979e-17, -5.27118748e-17,  4.51358572e-17,\n",
       "        -5.27118748e-17,  4.51358572e-17, -6.76493082e-17,\n",
       "         6.76493082e-17, -6.76493082e-17,  6.76493082e-17,\n",
       "         2.02490248e-17, -1.98126979e-17,  2.02490248e-17,\n",
       "        -1.98126979e-17, -5.27118748e-17,  4.51358572e-17,\n",
       "        -5.27118748e-17,  4.51358572e-17, -5.55111512e-17,\n",
       "         5.55111512e-17, -5.55111512e-17,  5.55111512e-17],\n",
       "       [ 1.00000000e+00, -1.00000000e+00, -1.00000000e+00,\n",
       "         1.00000000e+00, -2.28578225e-17, -1.35745467e-16,\n",
       "        -7.83689737e-17,  8.62991382e-17,  8.72318091e-17,\n",
       "        -2.37904934e-17,  1.42742960e-16, -1.07057220e-16,\n",
       "         5.17043437e-17,  1.17369720e-17,  5.17043437e-17,\n",
       "         1.17369720e-17, -1.33880125e-16,  8.62991382e-17,\n",
       "        -1.33880125e-16,  8.62991382e-17,  1.42742960e-16,\n",
       "        -5.15460690e-17,  1.42742960e-16, -5.15460690e-17,\n",
       "         5.17043437e-17,  1.17369720e-17,  5.17043437e-17,\n",
       "         1.17369720e-17, -1.33880125e-16,  8.62991382e-17,\n",
       "        -1.33880125e-16,  8.62991382e-17,  1.42742960e-16,\n",
       "        -5.15460690e-17,  1.42742960e-16, -5.15460690e-17],\n",
       "       [ 1.64838118e-15,  1.28784338e-15, -1.51675570e-15,\n",
       "        -1.24991334e-15,  1.00000000e+00, -1.00000000e+00,\n",
       "        -1.00000000e+00,  1.00000000e+00,  1.64337828e-16,\n",
       "         2.73156395e-15, -2.68741235e-15, -2.04695060e-16,\n",
       "         1.00719141e-17,  7.43778195e-18,  1.00719141e-17,\n",
       "         7.43778195e-18,  4.07120089e-17, -5.26926120e-17,\n",
       "         4.07120089e-17, -5.26926120e-17, -1.24072058e-15,\n",
       "         1.24955666e-15, -1.24072058e-15,  1.24955666e-15,\n",
       "         1.00719141e-17,  7.43778195e-18,  1.00719141e-17,\n",
       "         7.43778195e-18,  4.07120089e-17, -5.26926120e-17,\n",
       "         4.07120089e-17, -5.26926120e-17, -1.24072058e-15,\n",
       "         1.24955666e-15, -1.24072058e-15,  1.24955666e-15],\n",
       "       [-2.30450446e-17, -6.91857206e-17, -6.34759319e-17,\n",
       "         1.15988381e-17, -2.89484209e-18, -4.01387236e-17,\n",
       "         2.70240139e-17,  2.17932618e-17,  1.00000000e+00,\n",
       "        -1.00000000e+00, -1.00000000e+00,  1.00000000e+00,\n",
       "        -5.31748183e-18, -1.27862478e-17, -5.31748183e-18,\n",
       "        -1.27862478e-17, -1.71175521e-17, -9.86177504e-19,\n",
       "        -1.71175521e-17, -9.86177504e-19, -6.94496786e-17,\n",
       "         5.13459490e-17, -6.94496786e-17,  5.13459490e-17,\n",
       "        -5.31748183e-18, -1.27862478e-17, -5.31748183e-18,\n",
       "        -1.27862478e-17, -1.71175521e-17, -9.86177504e-19,\n",
       "        -1.71175521e-17, -9.86177504e-19, -6.94496786e-17,\n",
       "         5.13459490e-17, -6.94496786e-17,  5.13459490e-17],\n",
       "       [ 1.12500952e-49,  8.18402303e-50, -1.48694611e-49,\n",
       "        -6.36088824e-50,  1.05357519e-49,  4.95626558e-50,\n",
       "         9.43766294e-50, -2.22387234e-34,  1.11193617e-34,\n",
       "         1.45597042e-34,  1.45597042e-34, -1.45597042e-34,\n",
       "         3.33333333e-01,  3.33333333e-01, -3.33333333e-01,\n",
       "        -3.33333333e-01,  3.33333333e-01,  3.33333333e-01,\n",
       "        -3.33333333e-01, -3.33333333e-01,  3.33333333e-01,\n",
       "         3.33333333e-01, -3.33333333e-01, -3.33333333e-01,\n",
       "         9.34288032e-52,  9.46573661e-53,  9.34288032e-52,\n",
       "         9.46573661e-53,  5.79657209e-50, -5.69367755e-50,\n",
       "         5.79657209e-50, -5.69367755e-50,  1.28292706e-49,\n",
       "        -1.28292706e-49,  1.28292706e-49, -1.28292706e-49],\n",
       "       [ 0.00000000e+00,  0.00000000e+00,  0.00000000e+00,\n",
       "         0.00000000e+00,  0.00000000e+00,  0.00000000e+00,\n",
       "         0.00000000e+00,  0.00000000e+00,  0.00000000e+00,\n",
       "         0.00000000e+00,  0.00000000e+00,  0.00000000e+00,\n",
       "         1.00000000e+00, -1.00000000e+00, -1.00000000e+00,\n",
       "         1.00000000e+00,  0.00000000e+00,  0.00000000e+00,\n",
       "         0.00000000e+00,  0.00000000e+00,  0.00000000e+00,\n",
       "         0.00000000e+00,  0.00000000e+00,  0.00000000e+00,\n",
       "         0.00000000e+00,  0.00000000e+00,  0.00000000e+00,\n",
       "         0.00000000e+00,  0.00000000e+00,  0.00000000e+00,\n",
       "         0.00000000e+00,  0.00000000e+00,  0.00000000e+00,\n",
       "         0.00000000e+00,  0.00000000e+00,  0.00000000e+00],\n",
       "       [ 0.00000000e+00,  0.00000000e+00,  0.00000000e+00,\n",
       "         0.00000000e+00,  0.00000000e+00,  0.00000000e+00,\n",
       "         0.00000000e+00,  0.00000000e+00,  0.00000000e+00,\n",
       "         0.00000000e+00,  0.00000000e+00,  0.00000000e+00,\n",
       "         0.00000000e+00,  0.00000000e+00,  0.00000000e+00,\n",
       "         0.00000000e+00,  1.00000000e+00, -1.00000000e+00,\n",
       "        -1.00000000e+00,  1.00000000e+00,  0.00000000e+00,\n",
       "         0.00000000e+00,  0.00000000e+00,  0.00000000e+00,\n",
       "         0.00000000e+00,  0.00000000e+00,  0.00000000e+00,\n",
       "         0.00000000e+00,  0.00000000e+00,  0.00000000e+00,\n",
       "         0.00000000e+00,  0.00000000e+00,  0.00000000e+00,\n",
       "         0.00000000e+00,  0.00000000e+00,  0.00000000e+00],\n",
       "       [ 0.00000000e+00,  0.00000000e+00,  0.00000000e+00,\n",
       "         0.00000000e+00,  0.00000000e+00,  0.00000000e+00,\n",
       "         0.00000000e+00,  0.00000000e+00,  0.00000000e+00,\n",
       "         0.00000000e+00,  0.00000000e+00,  0.00000000e+00,\n",
       "         0.00000000e+00,  0.00000000e+00,  0.00000000e+00,\n",
       "         0.00000000e+00,  0.00000000e+00,  0.00000000e+00,\n",
       "         0.00000000e+00,  0.00000000e+00,  1.00000000e+00,\n",
       "        -1.00000000e+00, -1.00000000e+00,  1.00000000e+00,\n",
       "         0.00000000e+00,  0.00000000e+00,  0.00000000e+00,\n",
       "         0.00000000e+00,  0.00000000e+00,  0.00000000e+00,\n",
       "         0.00000000e+00,  0.00000000e+00,  0.00000000e+00,\n",
       "         0.00000000e+00,  0.00000000e+00,  0.00000000e+00],\n",
       "       [ 0.00000000e+00,  0.00000000e+00,  0.00000000e+00,\n",
       "         0.00000000e+00, -2.11800178e-17, -2.52892936e-18,\n",
       "         1.59400818e-17,  7.21600544e-19, -5.49053211e-18,\n",
       "        -1.30304237e-18,  2.23092405e-18,  6.41841378e-18,\n",
       "        -6.93626087e-19,  1.62150776e-18, -6.93626087e-19,\n",
       "         1.62150776e-18,  6.08369433e-20,  8.67044731e-19,\n",
       "         6.08369433e-20,  8.67044731e-19, -1.62980403e-18,\n",
       "         2.55768570e-18, -1.62980403e-18,  2.55768570e-18,\n",
       "         3.33333333e-01,  3.33333333e-01, -3.33333333e-01,\n",
       "        -3.33333333e-01,  3.33333333e-01,  3.33333333e-01,\n",
       "        -3.33333333e-01, -3.33333333e-01,  3.33333333e-01,\n",
       "         3.33333333e-01, -3.33333333e-01, -3.33333333e-01],\n",
       "       [ 0.00000000e+00,  0.00000000e+00,  0.00000000e+00,\n",
       "         0.00000000e+00,  0.00000000e+00,  0.00000000e+00,\n",
       "         0.00000000e+00,  0.00000000e+00,  0.00000000e+00,\n",
       "         0.00000000e+00,  0.00000000e+00,  0.00000000e+00,\n",
       "         0.00000000e+00,  0.00000000e+00,  0.00000000e+00,\n",
       "         0.00000000e+00,  0.00000000e+00,  0.00000000e+00,\n",
       "         0.00000000e+00,  0.00000000e+00,  0.00000000e+00,\n",
       "         0.00000000e+00,  0.00000000e+00,  0.00000000e+00,\n",
       "         1.00000000e+00, -1.00000000e+00, -1.00000000e+00,\n",
       "         1.00000000e+00,  0.00000000e+00,  0.00000000e+00,\n",
       "         0.00000000e+00,  0.00000000e+00,  0.00000000e+00,\n",
       "         0.00000000e+00,  0.00000000e+00,  0.00000000e+00],\n",
       "       [ 0.00000000e+00,  0.00000000e+00,  0.00000000e+00,\n",
       "         0.00000000e+00,  0.00000000e+00,  0.00000000e+00,\n",
       "         0.00000000e+00,  0.00000000e+00,  0.00000000e+00,\n",
       "         0.00000000e+00,  0.00000000e+00,  0.00000000e+00,\n",
       "         0.00000000e+00,  0.00000000e+00,  0.00000000e+00,\n",
       "         0.00000000e+00,  0.00000000e+00,  0.00000000e+00,\n",
       "         0.00000000e+00,  0.00000000e+00,  0.00000000e+00,\n",
       "         0.00000000e+00,  0.00000000e+00,  0.00000000e+00,\n",
       "         0.00000000e+00,  0.00000000e+00,  0.00000000e+00,\n",
       "         0.00000000e+00,  1.00000000e+00, -1.00000000e+00,\n",
       "        -1.00000000e+00,  1.00000000e+00,  0.00000000e+00,\n",
       "         0.00000000e+00,  0.00000000e+00,  0.00000000e+00],\n",
       "       [ 0.00000000e+00,  0.00000000e+00,  0.00000000e+00,\n",
       "         0.00000000e+00,  0.00000000e+00,  0.00000000e+00,\n",
       "         0.00000000e+00,  0.00000000e+00,  0.00000000e+00,\n",
       "         0.00000000e+00,  0.00000000e+00,  0.00000000e+00,\n",
       "         0.00000000e+00,  0.00000000e+00,  0.00000000e+00,\n",
       "         0.00000000e+00,  0.00000000e+00,  0.00000000e+00,\n",
       "         0.00000000e+00,  0.00000000e+00,  0.00000000e+00,\n",
       "         0.00000000e+00,  0.00000000e+00,  0.00000000e+00,\n",
       "         0.00000000e+00,  0.00000000e+00,  0.00000000e+00,\n",
       "         0.00000000e+00,  0.00000000e+00,  0.00000000e+00,\n",
       "         0.00000000e+00,  0.00000000e+00,  1.00000000e+00,\n",
       "        -1.00000000e+00, -1.00000000e+00,  1.00000000e+00]])"
      ]
     },
     "execution_count": 21,
     "metadata": {},
     "output_type": "execute_result"
    }
   ],
   "source": [
    "M_inv = np.linalg.pinv(M)\n",
    "M_inv"
   ]
  },
  {
   "cell_type": "code",
   "execution_count": 22,
   "metadata": {},
   "outputs": [
    {
     "data": {
      "text/plain": [
       "array([ 1.00000000e+00,  6.77083333e-02,  1.08072917e-01,  9.37500000e-02,\n",
       "        6.51041667e-04,  8.88671875e-01,  9.76562500e-02, -9.76562500e-03,\n",
       "        1.23697917e-02,  3.32031250e-02, -8.55468750e-01,  8.00781250e-02,\n",
       "        5.20833333e-02,  3.90625000e-02,  7.42187500e-02,  8.59375000e-01])"
      ]
     },
     "execution_count": 22,
     "metadata": {},
     "output_type": "execute_result"
    }
   ],
   "source": [
    "C = np.matmul(M_inv, p)\n",
    "C\n"
   ]
  },
  {
   "cell_type": "code",
   "execution_count": 23,
   "metadata": {},
   "outputs": [
    {
     "data": {
      "text/plain": [
       "0.09374999999999986"
      ]
     },
     "execution_count": 23,
     "metadata": {},
     "output_type": "execute_result"
    }
   ],
   "source": [
    "C[3]"
   ]
  },
  {
   "cell_type": "code",
   "execution_count": 24,
   "metadata": {},
   "outputs": [
    {
     "data": {
      "text/plain": [
       "[array([[0.25, 0.  , 0.  , 0.  ],\n",
       "        [0.  , 0.25, 0.  , 0.  ],\n",
       "        [0.  , 0.  , 0.25, 0.  ],\n",
       "        [0.  , 0.  , 0.  , 0.25]]),\n",
       " array([[0.        , 0.01692708, 0.        , 0.        ],\n",
       "        [0.01692708, 0.        , 0.        , 0.        ],\n",
       "        [0.        , 0.        , 0.        , 0.01692708],\n",
       "        [0.        , 0.        , 0.01692708, 0.        ]]),\n",
       " array([[0.+0.j        , 0.-0.02701823j, 0.+0.j        , 0.+0.j        ],\n",
       "        [0.+0.02701823j, 0.+0.j        , 0.+0.j        , 0.+0.j        ],\n",
       "        [0.+0.j        , 0.+0.j        , 0.+0.j        , 0.-0.02701823j],\n",
       "        [0.+0.j        , 0.+0.j        , 0.+0.02701823j, 0.+0.j        ]]),\n",
       " array([[ 0.0234375,  0.       ,  0.       ,  0.       ],\n",
       "        [ 0.       , -0.0234375,  0.       ,  0.       ],\n",
       "        [ 0.       ,  0.       ,  0.0234375,  0.       ],\n",
       "        [ 0.       ,  0.       ,  0.       , -0.0234375]]),\n",
       " array([[0.        , 0.        , 0.00016276, 0.        ],\n",
       "        [0.        , 0.        , 0.        , 0.00016276],\n",
       "        [0.00016276, 0.        , 0.        , 0.        ],\n",
       "        [0.        , 0.00016276, 0.        , 0.        ]]),\n",
       " array([[0.        , 0.        , 0.        , 0.22216797],\n",
       "        [0.        , 0.        , 0.22216797, 0.        ],\n",
       "        [0.        , 0.22216797, 0.        , 0.        ],\n",
       "        [0.22216797, 0.        , 0.        , 0.        ]]),\n",
       " array([[0.+0.j        , 0.+0.j        , 0.+0.j        , 0.-0.02441406j],\n",
       "        [0.+0.j        , 0.+0.j        , 0.+0.02441406j, 0.+0.j        ],\n",
       "        [0.+0.j        , 0.-0.02441406j, 0.+0.j        , 0.+0.j        ],\n",
       "        [0.+0.02441406j, 0.+0.j        , 0.+0.j        , 0.+0.j        ]]),\n",
       " array([[-0.        , -0.        , -0.00244141, -0.        ],\n",
       "        [-0.        , -0.        , -0.        ,  0.00244141],\n",
       "        [-0.00244141, -0.        , -0.        , -0.        ],\n",
       "        [-0.        ,  0.00244141, -0.        , -0.        ]]),\n",
       " array([[0.+0.j        , 0.+0.j        , 0.-0.00309245j, 0.+0.j        ],\n",
       "        [0.+0.j        , 0.+0.j        , 0.+0.j        , 0.-0.00309245j],\n",
       "        [0.+0.00309245j, 0.+0.j        , 0.+0.j        , 0.+0.j        ],\n",
       "        [0.+0.j        , 0.+0.00309245j, 0.+0.j        , 0.+0.j        ]]),\n",
       " array([[0.+0.j        , 0.+0.j        , 0.+0.j        , 0.-0.00830078j],\n",
       "        [0.+0.j        , 0.+0.j        , 0.-0.00830078j, 0.+0.j        ],\n",
       "        [0.+0.j        , 0.+0.00830078j, 0.+0.j        , 0.+0.j        ],\n",
       "        [0.+0.00830078j, 0.+0.j        , 0.+0.j        , 0.+0.j        ]]),\n",
       " array([[ 0.        +0.j,  0.        +0.j,  0.        +0.j,\n",
       "          0.21386719-0.j],\n",
       "        [ 0.        +0.j,  0.        +0.j, -0.21386719+0.j,\n",
       "          0.        +0.j],\n",
       "        [ 0.        +0.j, -0.21386719+0.j,  0.        +0.j,\n",
       "          0.        +0.j],\n",
       "        [ 0.21386719-0.j,  0.        +0.j,  0.        +0.j,\n",
       "          0.        +0.j]]),\n",
       " array([[0.+0.j        , 0.+0.j        , 0.-0.02001953j, 0.+0.j        ],\n",
       "        [0.+0.j        , 0.+0.j        , 0.+0.j        , 0.+0.02001953j],\n",
       "        [0.+0.02001953j, 0.+0.j        , 0.+0.j        , 0.+0.j        ],\n",
       "        [0.+0.j        , 0.-0.02001953j, 0.+0.j        , 0.+0.j        ]]),\n",
       " array([[ 0.01302083,  0.        ,  0.        ,  0.        ],\n",
       "        [ 0.        ,  0.01302083,  0.        ,  0.        ],\n",
       "        [ 0.        ,  0.        , -0.01302083,  0.        ],\n",
       "        [ 0.        ,  0.        ,  0.        , -0.01302083]]),\n",
       " array([[ 0.        ,  0.00976562,  0.        ,  0.        ],\n",
       "        [ 0.00976562,  0.        ,  0.        ,  0.        ],\n",
       "        [ 0.        ,  0.        ,  0.        , -0.00976562],\n",
       "        [ 0.        ,  0.        , -0.00976562,  0.        ]]),\n",
       " array([[0.+0.j        , 0.-0.01855469j, 0.+0.j        , 0.+0.j        ],\n",
       "        [0.+0.01855469j, 0.+0.j        , 0.+0.j        , 0.+0.j        ],\n",
       "        [0.+0.j        , 0.+0.j        , 0.+0.j        , 0.+0.01855469j],\n",
       "        [0.+0.j        , 0.+0.j        , 0.-0.01855469j, 0.+0.j        ]]),\n",
       " array([[ 0.21484375,  0.        ,  0.        ,  0.        ],\n",
       "        [ 0.        , -0.21484375,  0.        ,  0.        ],\n",
       "        [ 0.        ,  0.        , -0.21484375,  0.        ],\n",
       "        [ 0.        ,  0.        ,  0.        ,  0.21484375]])]"
      ]
     },
     "execution_count": 24,
     "metadata": {},
     "output_type": "execute_result"
    }
   ],
   "source": [
    "#This is the rho equation.\n",
    "B = []\n",
    "d = 0\n",
    "for al in range(4):\n",
    "    for be in range(4):\n",
    "        rho_q2 = C[d] * np.kron(Pauli(al),Pauli(be))/4\n",
    "        d = d + 1\n",
    "        B.append(rho_q2)\n",
    "\n",
    "\n",
    "B\n"
   ]
  },
  {
   "cell_type": "code",
   "execution_count": 25,
   "metadata": {},
   "outputs": [
    {
     "data": {
      "text/plain": [
       "array([[ 0.50130208+0.j        ,  0.02669271-0.04557292j,\n",
       "        -0.00227865-0.02311198j,  0.43603516-0.03271484j],\n",
       "       [ 0.02669271+0.04557292j,  0.02473958+0.j        ,\n",
       "         0.00830078+0.01611328j,  0.00260417+0.01692708j],\n",
       "       [-0.00227865+0.02311198j,  0.00830078-0.01611328j,\n",
       "         0.04557292+0.j        ,  0.00716146-0.00846354j],\n",
       "       [ 0.43603516+0.03271484j,  0.00260417-0.01692708j,\n",
       "         0.00716146+0.00846354j,  0.42838542+0.j        ]])"
      ]
     },
     "execution_count": 25,
     "metadata": {},
     "output_type": "execute_result"
    }
   ],
   "source": [
    "rho = np.zeros((4,4))\n",
    "for i in range(len(B)):\n",
    "    rho = rho + B[i]\n",
    "rho\n",
    "\n",
    "#rho equation part 2"
   ]
  },
  {
   "cell_type": "code",
   "execution_count": 26,
   "metadata": {},
   "outputs": [
    {
     "data": {
      "text/plain": [
       "(1+0j)"
      ]
     },
     "execution_count": 26,
     "metadata": {},
     "output_type": "execute_result"
    }
   ],
   "source": [
    "trace(rho)"
   ]
  },
  {
   "cell_type": "code",
   "execution_count": 27,
   "metadata": {},
   "outputs": [
    {
     "data": {
      "text/plain": [
       "array([-0.01281878,  0.04027186,  0.0659535 ,  0.90659343])"
      ]
     },
     "execution_count": 27,
     "metadata": {},
     "output_type": "execute_result"
    }
   ],
   "source": [
    "np.linalg.eigvalsh(rho)  ## one of the eigenvalues is negative but clos"
   ]
  },
  {
   "cell_type": "code",
   "execution_count": 28,
   "metadata": {},
   "outputs": [
    {
     "data": {
      "text/plain": [
       "(array([ 0.90659343+2.04255689e-18j, -0.01281878-1.58872808e-17j,\n",
       "         0.04027186+1.91602344e-18j,  0.0659535 +1.19287005e-17j]),\n",
       " array([[ 0.73587189+0.j        , -0.36395029+0.27658369j,\n",
       "          0.36378094-0.01455712j,  0.03406854-0.34033081j],\n",
       "        [ 0.02310026+0.05131569j,  0.64595998+0.j        ,\n",
       "          0.6546798 +0.j        ,  0.37633462+0.09661984j],\n",
       "        [ 0.00532366+0.01361883j, -0.0106522 +0.41681995j,\n",
       "         -0.42037601-0.30102839j,  0.74739532+0.j        ],\n",
       "        [ 0.67275673+0.05010191j,  0.3845507 -0.22813541j,\n",
       "         -0.41312565+0.02896542j, -0.09369186+0.40579946j]]))"
      ]
     },
     "execution_count": 28,
     "metadata": {},
     "output_type": "execute_result"
    }
   ],
   "source": [
    "np.linalg.eig(rho)"
   ]
  },
  {
   "cell_type": "code",
   "execution_count": 29,
   "metadata": {},
   "outputs": [
    {
     "data": {
      "text/plain": [
       "array([[ 0.73587189+0.j        , -0.36395029+0.27658369j,\n",
       "         0.36378094-0.01455712j,  0.03406854-0.34033081j],\n",
       "       [ 0.02310026+0.05131569j,  0.64595998+0.j        ,\n",
       "         0.6546798 +0.j        ,  0.37633462+0.09661984j],\n",
       "       [ 0.00532366+0.01361883j, -0.0106522 +0.41681995j,\n",
       "        -0.42037601-0.30102839j,  0.74739532+0.j        ],\n",
       "       [ 0.67275673+0.05010191j,  0.3845507 -0.22813541j,\n",
       "        -0.41312565+0.02896542j, -0.09369186+0.40579946j]])"
      ]
     },
     "execution_count": 29,
     "metadata": {},
     "output_type": "execute_result"
    }
   ],
   "source": [
    "eigval, eigvecs = np.linalg.eig(rho)\n",
    "eigval\n",
    "eigvecs"
   ]
  },
  {
   "cell_type": "code",
   "execution_count": 30,
   "metadata": {},
   "outputs": [
    {
     "data": {
      "text/plain": [
       "[(0.9065934250944536+2.042556891035156e-18j),\n",
       " (0.06595350031117872+1.1928700484883055e-17j),\n",
       " (0.04027185832016729+1.916023436781297e-18j),\n",
       " (-0.012818783725800064-1.58872808126995e-17j)]"
      ]
     },
     "execution_count": 30,
     "metadata": {},
     "output_type": "execute_result"
    }
   ],
   "source": [
    "ev = sorted(eigval, reverse = True)\n",
    "ev"
   ]
  },
  {
   "cell_type": "code",
   "execution_count": 31,
   "metadata": {},
   "outputs": [
    {
     "ename": "SyntaxError",
     "evalue": "invalid syntax (<ipython-input-31-2cf5eaa77581>, line 10)",
     "output_type": "error",
     "traceback": [
      "\u001b[0;36m  File \u001b[0;32m\"<ipython-input-31-2cf5eaa77581>\"\u001b[0;36m, line \u001b[0;32m10\u001b[0m\n\u001b[0;31m    rho =\u001b[0m\n\u001b[0m          ^\u001b[0m\n\u001b[0;31mSyntaxError\u001b[0m\u001b[0;31m:\u001b[0m invalid syntax\n"
     ]
    }
   ],
   "source": [
    "lmd = []\n",
    "for i in reversed(range(len(rho))):\n",
    "    j = i\n",
    "    a = 0\n",
    "    if (ev[i] + a/i) < 0:\n",
    "        lmd[j] = ev[j] + a/i\n",
    "    else:\n",
    "        lmd[j] = 0\n",
    "        lmd[j] = lmd[j] + ev[i] + a\n",
    "    rho = \n",
    "\n",
    "        \n",
    "    \n",
    "    \n",
    "    \n",
    "        \n",
    "    "
   ]
  },
  {
   "cell_type": "code",
   "execution_count": null,
   "metadata": {},
   "outputs": [],
   "source": [
    "rho_list = []\n",
    "for i in range(len(rho)):\n",
    "    for j in range(len(rho[0])):\n",
    "        rho_list.append(rho[i][j])\n",
    "\n",
    "rho_list        \n",
    "\n",
    "rhoTp = function(rho_list)\n",
    "rhoTp\n",
    "\n",
    "negativity(4, rhoTp)"
   ]
  },
  {
   "cell_type": "code",
   "execution_count": null,
   "metadata": {},
   "outputs": [],
   "source": [
    "rhoTp = function(rho_list)\n",
    "rhoTp"
   ]
  },
  {
   "cell_type": "code",
   "execution_count": null,
   "metadata": {},
   "outputs": [],
   "source": [
    "trace(rho)"
   ]
  },
  {
   "cell_type": "code",
   "execution_count": null,
   "metadata": {},
   "outputs": [],
   "source": [
    "negativity(4, rhoTp)"
   ]
  },
  {
   "cell_type": "code",
   "execution_count": null,
   "metadata": {},
   "outputs": [],
   "source": []
  },
  {
   "cell_type": "code",
   "execution_count": 98,
   "metadata": {},
   "outputs": [],
   "source": [
    "###### state tomography using jonas' code\n",
    "path = \"/Users/student/Documents/summer_research/circuit_results//\"\n",
    "\n"
   ]
  },
  {
   "cell_type": "code",
   "execution_count": null,
   "metadata": {},
   "outputs": [],
   "source": []
  },
  {
   "cell_type": "code",
   "execution_count": 106,
   "metadata": {},
   "outputs": [],
   "source": [
    "def tomo_2qb(path):\n",
    "    from numpy import genfromtxt, zeros\n",
    "    ns = 8192.0\n",
    "    CM = zeros((4, 4))\n",
    "    CM[0][0] = 1.0\n",
    "    fname = path + \"XX.csv\"\n",
    "    pXX = genfromtxt(fname, delimiter=\",\", skip_header=1)\n",
    "    CM[1][1] = ((pXX[0][1] + pXX[3][1]) - (pXX[1][1] + pXX[2][1]))/ns\n",
    "    CM[1][0] = ((pXX[0][1] + pXX[2][1]) - (pXX[1][1] + pXX[3][1]))/ns\n",
    "    CM[0][1] = ((pXX[0][1] + pXX[1][1]) - (pXX[2][1] + pXX[3][1]))/ns\n",
    "    fname = path + \"XY.csv\"\n",
    "    pXY = genfromtxt(fname, delimiter=\",\", skip_header=1)\n",
    "    CM[1][2] = ((pXY[0][1] + pXY[3][1]) - (pXY[1][1] + pXY[2][1]))/ns\n",
    "    fname = path + \"XZ.csv\"\n",
    "    pXZ = genfromtxt(fname, delimiter=\",\", skip_header=1)\n",
    "    CM[1][3] = ((pXZ[0][1] + pXZ[3][1]) - (pXZ[1][1] + pXZ[2][1]))/ns\n",
    "    fname = path + \"YX.csv\"\n",
    "    pYX = genfromtxt(fname, delimiter=\",\", skip_header=1)\n",
    "    CM[2][1] = ((pYX[0][1] + pYX[3][1]) - (pYX[1][1] + pYX[2][1]))/ns\n",
    "    fname = path + \"YY.csv\"\n",
    "    pYY = genfromtxt(fname, delimiter=\",\", skip_header=1)\n",
    "    CM[2][2] = ((pYY[0][1] + pYY[3][1]) - (pYY[1][1] + pYY[2][1]))/ns\n",
    "    CM[2][0] = ((pYY[0][1] + pYY[2][1]) - (pYY[1][1] + pYY[3][1]))/ns\n",
    "    CM[0][2] = ((pYY[0][1] + pYY[1][1]) - (pYY[2][1] + pYY[3][1]))/ns\n",
    "    fname = path + \"YZ.csv\"\n",
    "    pYZ = genfromtxt(fname, delimiter=\",\", skip_header=1)\n",
    "    CM[2][3] = ((pYZ[0][1] + pYZ[3][1]) - (pYZ[1][1] + pYZ[2][1]))/ns\n",
    "    fname = path + \"ZX.csv\"\n",
    "    pZX = genfromtxt(fname, delimiter=\",\", skip_header=1)\n",
    "    CM[3][1] = ((pZX[0][1] + pZX[3][1]) - (pZX[1][1] + pZX[2][1]))/ns\n",
    "    fname = path + \"ZY.csv\"\n",
    "    pZY = genfromtxt(fname, delimiter=\",\", skip_header=1)\n",
    "    CM[3][2] = ((pZY[0][1] + pZY[3][1]) - (pZY[1][1] + pZY[2][1]))/ns\n",
    "    fname = path + \"ZZ.csv\"\n",
    "    pZZ = genfromtxt(fname, delimiter=\",\", skip_header=1)\n",
    "    CM[3][3] = ((pZZ[0][1] + pZZ[3][1]) - (pZZ[1][1] + pZZ[2][1]))/ns\n",
    "    CM[3][0] = ((pZZ[0][1] + pZZ[2][1]) - (pZZ[1][1] + pZZ[3][1]))/ns\n",
    "    CM[0][3] = ((pZZ[0][1] + pZZ[1][1]) - (pZZ[2][1] + pZZ[3][1]))/ns\n",
    "    rho = rho2qb(CM)\n",
    "    return rho"
   ]
  },
  {
   "cell_type": "code",
   "execution_count": null,
   "metadata": {},
   "outputs": [],
   "source": []
  },
  {
   "cell_type": "code",
   "execution_count": 30,
   "metadata": {},
   "outputs": [],
   "source": [
    "import qutip as qt\n",
    "from qutip.qobj import Qobj"
   ]
  },
  {
   "cell_type": "code",
   "execution_count": null,
   "metadata": {},
   "outputs": [],
   "source": []
  },
  {
   "cell_type": "code",
   "execution_count": 32,
   "metadata": {},
   "outputs": [
    {
     "data": {
      "text/latex": [
       "Quantum object: dims = [[36], [16]], shape = (36, 16), type = oper, isherm = False\\begin{equation*}\\left(\\begin{array}{*{11}c}1.0 & 1.0 & 0.0 & 0.0 & 1.0 & \\cdots & 0.0 & 0.0 & 0.0 & 0.0 & 0.0\\\\1.0 & -1.0 & 0.0 & 0.0 & 1.0 & \\cdots & 0.0 & 0.0 & 0.0 & 0.0 & 0.0\\\\1.0 & 1.0 & 0.0 & 0.0 & -1.0 & \\cdots & 0.0 & 0.0 & 0.0 & 0.0 & 0.0\\\\1.0 & -1.0 & 0.0 & 0.0 & -1.0 & \\cdots & 0.0 & 0.0 & 0.0 & 0.0 & 0.0\\\\1.0 & 0.0 & 1.0 & 0.0 & 1.0 & \\cdots & 0.0 & 0.0 & 0.0 & 0.0 & 0.0\\\\\\vdots & \\vdots & \\vdots & \\vdots & \\vdots & \\ddots & \\vdots & \\vdots & \\vdots & \\vdots & \\vdots\\\\1.0 & 0.0 & -1.0 & 0.0 & 0.0 & \\cdots & 0.0 & -1.0 & 0.0 & 1.0 & 0.0\\\\1.0 & 0.0 & 0.0 & 1.0 & 0.0 & \\cdots & 0.0 & 1.0 & 0.0 & 0.0 & 1.0\\\\1.0 & 0.0 & 0.0 & -1.0 & 0.0 & \\cdots & 0.0 & 1.0 & 0.0 & 0.0 & -1.0\\\\1.0 & 0.0 & 0.0 & 1.0 & 0.0 & \\cdots & 0.0 & -1.0 & 0.0 & 0.0 & -1.0\\\\1.0 & 0.0 & 0.0 & -1.0 & 0.0 & \\cdots & 0.0 & -1.0 & 0.0 & 0.0 & 1.0\\\\\\end{array}\\right)\\end{equation*}"
      ],
      "text/plain": [
       "Quantum object: dims = [[36], [16]], shape = (36, 16), type = oper, isherm = False\n",
       "Qobj data =\n",
       "[[ 1.  1.  0.  0.  1.  1.  0.  0.  0.  0.  0.  0.  0.  0.  0.  0.]\n",
       " [ 1. -1.  0.  0.  1. -1.  0.  0.  0.  0.  0.  0.  0.  0.  0.  0.]\n",
       " [ 1.  1.  0.  0. -1. -1.  0.  0.  0.  0.  0.  0.  0.  0.  0.  0.]\n",
       " [ 1. -1.  0.  0. -1.  1.  0.  0.  0.  0.  0.  0.  0.  0.  0.  0.]\n",
       " [ 1.  0.  1.  0.  1.  0.  1.  0.  0.  0.  0.  0.  0.  0.  0.  0.]\n",
       " [ 1.  0. -1.  0.  1.  0. -1.  0.  0.  0.  0.  0.  0.  0.  0.  0.]\n",
       " [ 1.  0.  1.  0. -1.  0. -1.  0.  0.  0.  0.  0.  0.  0.  0.  0.]\n",
       " [ 1.  0. -1.  0. -1.  0.  1.  0.  0.  0.  0.  0.  0.  0.  0.  0.]\n",
       " [ 1.  0.  0.  1.  1.  0.  0.  1.  0.  0.  0.  0.  0.  0.  0.  0.]\n",
       " [ 1.  0.  0. -1.  1.  0.  0. -1.  0.  0.  0.  0.  0.  0.  0.  0.]\n",
       " [ 1.  0.  0.  1. -1.  0.  0. -1.  0.  0.  0.  0.  0.  0.  0.  0.]\n",
       " [ 1.  0.  0. -1. -1.  0.  0.  1.  0.  0.  0.  0.  0.  0.  0.  0.]\n",
       " [ 1.  1.  0.  0.  0.  0.  0.  0.  1.  1.  0.  0.  0.  0.  0.  0.]\n",
       " [ 1. -1.  0.  0.  0.  0.  0.  0.  1. -1.  0.  0.  0.  0.  0.  0.]\n",
       " [ 1.  1.  0.  0.  0.  0.  0.  0. -1. -1.  0.  0.  0.  0.  0.  0.]\n",
       " [ 1. -1.  0.  0.  0.  0.  0.  0. -1.  1.  0.  0.  0.  0.  0.  0.]\n",
       " [ 1.  0.  1.  0.  0.  0.  0.  0.  1.  0.  1.  0.  0.  0.  0.  0.]\n",
       " [ 1.  0. -1.  0.  0.  0.  0.  0.  1.  0. -1.  0.  0.  0.  0.  0.]\n",
       " [ 1.  0.  1.  0.  0.  0.  0.  0. -1.  0. -1.  0.  0.  0.  0.  0.]\n",
       " [ 1.  0. -1.  0.  0.  0.  0.  0. -1.  0.  1.  0.  0.  0.  0.  0.]\n",
       " [ 1.  0.  0.  1.  0.  0.  0.  0.  1.  0.  0.  1.  0.  0.  0.  0.]\n",
       " [ 1.  0.  0. -1.  0.  0.  0.  0.  1.  0.  0. -1.  0.  0.  0.  0.]\n",
       " [ 1.  0.  0.  1.  0.  0.  0.  0. -1.  0.  0. -1.  0.  0.  0.  0.]\n",
       " [ 1.  0.  0. -1.  0.  0.  0.  0. -1.  0.  0.  1.  0.  0.  0.  0.]\n",
       " [ 1.  1.  0.  0.  0.  0.  0.  0.  0.  0.  0.  0.  1.  1.  0.  0.]\n",
       " [ 1. -1.  0.  0.  0.  0.  0.  0.  0.  0.  0.  0.  1. -1.  0.  0.]\n",
       " [ 1.  1.  0.  0.  0.  0.  0.  0.  0.  0.  0.  0. -1. -1.  0.  0.]\n",
       " [ 1. -1.  0.  0.  0.  0.  0.  0.  0.  0.  0.  0. -1.  1.  0.  0.]\n",
       " [ 1.  0.  1.  0.  0.  0.  0.  0.  0.  0.  0.  0.  1.  0.  1.  0.]\n",
       " [ 1.  0. -1.  0.  0.  0.  0.  0.  0.  0.  0.  0.  1.  0. -1.  0.]\n",
       " [ 1.  0.  1.  0.  0.  0.  0.  0.  0.  0.  0.  0. -1.  0. -1.  0.]\n",
       " [ 1.  0. -1.  0.  0.  0.  0.  0.  0.  0.  0.  0. -1.  0.  1.  0.]\n",
       " [ 1.  0.  0.  1.  0.  0.  0.  0.  0.  0.  0.  0.  1.  0.  0.  1.]\n",
       " [ 1.  0.  0. -1.  0.  0.  0.  0.  0.  0.  0.  0.  1.  0.  0. -1.]\n",
       " [ 1.  0.  0.  1.  0.  0.  0.  0.  0.  0.  0.  0. -1.  0.  0. -1.]\n",
       " [ 1.  0.  0. -1.  0.  0.  0.  0.  0.  0.  0.  0. -1.  0.  0.  1.]]"
      ]
     },
     "execution_count": 32,
     "metadata": {},
     "output_type": "execute_result"
    }
   ],
   "source": [
    "M = M.reshape(36,16)\n",
    "M\n",
    "Qobj(M)"
   ]
  },
  {
   "cell_type": "code",
   "execution_count": 29,
   "metadata": {},
   "outputs": [
    {
     "data": {
      "text/plain": [
       "array([[ 1.26681858e-02,  8.95182292e-04,  4.06901042e-04,\n",
       "         1.38075087e-02,  7.02582465e-03,  6.70030382e-03,\n",
       "         7.02582465e-03,  7.02582465e-03,  7.18858507e-03,\n",
       "         7.37847222e-03,  6.15776910e-03,  7.05295139e-03,\n",
       "         7.08007812e-03,  6.67317708e-03,  6.53754340e-03,\n",
       "         7.48697917e-03,  1.22070312e-03,  1.34006076e-02,\n",
       "         1.28851997e-02,  2.71267361e-04,  7.54123264e-03,\n",
       "         6.23914931e-03,  7.45985243e-03,  6.53754340e-03,\n",
       "         7.70399306e-03,  6.15776910e-03,  7.08007812e-03,\n",
       "         6.83593750e-03,  7.21571181e-03,  6.94444444e-03,\n",
       "         7.24283854e-03,  6.37478299e-03,  1.46213108e-02,\n",
       "         5.96788194e-04,  4.88281250e-04,  1.20713976e-02],\n",
       "       [ 3.80045573e-02, -2.68554687e-03,  1.22070313e-03,\n",
       "        -4.14225260e-02,  6.64078946e-19, -1.50430792e-18,\n",
       "         6.64078946e-19, -1.57739170e-18, -1.13074439e-18,\n",
       "         2.01458402e-19,  1.68128887e-19, -1.10940959e-18,\n",
       "         2.12402344e-02, -2.00195313e-02,  1.96126302e-02,\n",
       "        -2.24609375e-02,  1.15380512e-19, -3.00861583e-18,\n",
       "         1.21790540e-18, -6.09031545e-20, -4.90156266e-19,\n",
       "        -4.05524968e-19, -4.84866810e-19, -4.24919641e-19,\n",
       "         2.31119792e-02, -1.84733073e-02,  2.12402344e-02,\n",
       "        -2.05078125e-02,  6.82027026e-19, -1.55912075e-18,\n",
       "         6.84591037e-19, -1.43122413e-18, -9.50338948e-19,\n",
       "        -3.87893448e-20, -3.17367367e-20, -7.84602656e-19],\n",
       "       [ 1.68648901e-18, -1.99685582e-19, -1.83984785e-19,\n",
       "         7.48505118e-18,  2.10774740e-02, -2.01009115e-02,\n",
       "         2.10774740e-02, -2.10774740e-02, -2.53420300e-18,\n",
       "         1.93753147e-18, -3.20239911e-18,  4.30228182e-18,\n",
       "        -1.12938965e-18,  1.06448220e-18, -1.04284638e-18,\n",
       "         1.19429710e-18,  3.66210938e-03, -4.02018229e-02,\n",
       "         3.86555990e-02, -8.13802083e-04, -3.29020162e-18,\n",
       "         2.72210925e-18, -3.25469585e-18,  2.85229709e-18,\n",
       "        -1.22891441e-18,  9.82266094e-19, -1.12938965e-18,\n",
       "         1.09044518e-18,  2.16471354e-02, -2.08333333e-02,\n",
       "         2.17285156e-02, -1.91243490e-02, -6.37920386e-18,\n",
       "         2.60375668e-19, -2.13034637e-19,  5.26668964e-18],\n",
       "       [-6.02642319e-18,  3.64125534e-19,  2.01148580e-19,\n",
       "        -5.61636050e-18, -3.25487793e-18,  3.84111475e-18,\n",
       "        -4.22343899e-18,  2.32418378e-18,  2.15657552e-02,\n",
       "        -2.21354167e-02,  1.84733073e-02, -2.11588542e-02,\n",
       "        -1.84152710e-33,  1.31510281e-33, -1.70041391e-33,\n",
       "         1.47548120e-33, -6.44790764e-19,  7.07836972e-18,\n",
       "        -6.80612473e-18,  1.43286836e-19,  2.26236979e-02,\n",
       "        -1.87174479e-02,  2.23795573e-02, -1.96126302e-02,\n",
       "        -2.00380726e-33,  1.21352983e-33, -1.84152710e-33,\n",
       "         1.34717849e-33, -3.81142985e-18,  3.66814301e-18,\n",
       "        -3.82575853e-18,  3.36724066e-18,  4.38639323e-02,\n",
       "        -1.79036458e-03,  1.46484375e-03, -3.62141927e-02],\n",
       "       [ 3.80045573e-02,  2.68554688e-03, -1.22070313e-03,\n",
       "        -4.14225260e-02,  2.10774740e-02,  2.01009115e-02,\n",
       "        -2.10774740e-02, -2.10774740e-02,  2.15657552e-02,\n",
       "         2.21354167e-02, -1.84733073e-02, -2.11588542e-02,\n",
       "         1.29028210e-18, -1.18992277e-18,  1.19140991e-18,\n",
       "        -1.33503530e-18, -5.79109953e-19,  5.44363122e-18,\n",
       "        -6.11282728e-18,  1.10194964e-19, -4.59143254e-18,\n",
       "         3.79866721e-18, -4.54188471e-18,  3.98034260e-18,\n",
       "         1.40398512e-18, -1.09801817e-18,  1.29028210e-18,\n",
       "        -1.21894528e-18, -3.42318328e-18,  2.82099108e-18,\n",
       "        -3.43605239e-18,  2.58958165e-18, -7.30481214e-18,\n",
       "         2.98155597e-19, -2.43945489e-19,  6.03087458e-18],\n",
       "       [ 1.14013672e-01, -8.05664063e-03, -3.66210938e-03,\n",
       "         1.24267578e-01, -1.44535547e-18, -8.18582283e-18,\n",
       "        -4.95546001e-18,  5.45690351e-18,  5.64365952e-18,\n",
       "        -1.57983745e-18,  7.91080371e-18, -6.79562433e-18,\n",
       "         3.29463713e-18,  7.04906033e-19,  3.04217452e-18,\n",
       "         7.90870184e-19, -1.47085098e-18,  1.04081480e-17,\n",
       "        -1.55256493e-17,  2.10691255e-19,  9.68812084e-18,\n",
       "        -2.89443259e-18,  9.58357277e-18, -3.03286197e-18,\n",
       "         3.58496914e-18,  6.50462071e-19,  3.29463713e-18,\n",
       "         7.22098863e-19, -8.69436358e-18,  5.39369613e-18,\n",
       "        -8.72704916e-18,  4.95124450e-18,  1.87838026e-17,\n",
       "        -2.76858769e-19,  6.27288400e-19, -5.60009783e-18],\n",
       "       [ 1.87937991e-16,  1.03756913e-17, -5.55452529e-18,\n",
       "        -1.55323704e-16,  6.32324219e-02, -6.03027344e-02,\n",
       "        -6.32324219e-02,  6.32324219e-02,  1.06322081e-17,\n",
       "         1.81392919e-16, -1.48936183e-16, -1.29933388e-17,\n",
       "         6.41789446e-19,  4.46702724e-19,  5.92610178e-19,\n",
       "         5.01178666e-19,  4.47275488e-19, -6.35501716e-18,\n",
       "         4.72124126e-18, -1.28644072e-19, -8.42090628e-17,\n",
       "         7.01655351e-17, -8.33003320e-17,  7.35212781e-17,\n",
       "         6.98345604e-19,  4.12201294e-19,  6.41789446e-19,\n",
       "         4.57597913e-19,  2.64389511e-18, -3.29328825e-18,\n",
       "         2.65383456e-18, -3.02313570e-18, -1.63268651e-16,\n",
       "         6.71148596e-18, -5.45238536e-18,  1.35755057e-16],\n",
       "       [-2.62745015e-18, -5.57404487e-19, -2.32455805e-19,\n",
       "         1.44135952e-18, -1.83047876e-19, -2.42047479e-18,\n",
       "         1.70879385e-18,  1.37804073e-18,  6.46972656e-02,\n",
       "        -6.64062500e-02, -5.54199219e-02,  6.34765625e-02,\n",
       "        -3.38833681e-19, -7.67924059e-19, -3.12869414e-19,\n",
       "        -8.61573335e-19, -1.88059044e-19, -1.18938400e-19,\n",
       "        -1.98506769e-18, -2.40765992e-21, -4.71362564e-18,\n",
       "         2.88319538e-18, -4.66275918e-18,  3.02108733e-18,\n",
       "        -3.68692588e-19, -7.08612852e-19, -3.38833681e-19,\n",
       "        -7.86653914e-19, -1.11163790e-18, -6.16360940e-20,\n",
       "        -1.11581699e-18, -5.65800082e-20, -9.13900799e-18,\n",
       "         2.75783906e-19, -3.05198783e-19,  5.57835627e-18],\n",
       "       [ 1.28266467e-50,  6.59357324e-52, -5.44535931e-52,\n",
       "        -7.90452176e-51,  6.66201109e-51,  2.98876366e-51,\n",
       "         5.96766285e-51, -1.40620834e-35,  7.19392299e-36,\n",
       "         9.66855357e-36,  8.06897670e-36, -9.24199974e-36,\n",
       "         2.12402344e-02,  2.00195313e-02, -1.96126302e-02,\n",
       "        -2.24609375e-02,  3.66210938e-03,  4.02018229e-02,\n",
       "        -3.86555990e-02, -8.13802083e-04,  2.26236979e-02,\n",
       "         1.87174479e-02, -2.23795573e-02, -1.96126302e-02,\n",
       "         6.47797366e-53,  5.24590384e-54,  5.95334903e-53,\n",
       "         5.82364655e-54,  3.76437543e-51, -3.55854847e-51,\n",
       "         3.77852722e-51, -3.26663629e-51,  1.68822677e-50,\n",
       "        -6.89072152e-52,  5.63786306e-52, -1.39380503e-50],\n",
       "       [ 0.00000000e+00,  0.00000000e+00,  0.00000000e+00,\n",
       "         0.00000000e+00,  0.00000000e+00,  0.00000000e+00,\n",
       "         0.00000000e+00,  0.00000000e+00,  0.00000000e+00,\n",
       "         0.00000000e+00,  0.00000000e+00,  0.00000000e+00,\n",
       "         6.37207031e-02, -6.00585938e-02, -5.88378906e-02,\n",
       "         6.73828125e-02,  0.00000000e+00,  0.00000000e+00,\n",
       "         0.00000000e+00,  0.00000000e+00,  0.00000000e+00,\n",
       "         0.00000000e+00,  0.00000000e+00,  0.00000000e+00,\n",
       "         0.00000000e+00,  0.00000000e+00,  0.00000000e+00,\n",
       "         0.00000000e+00,  0.00000000e+00,  0.00000000e+00,\n",
       "         0.00000000e+00,  0.00000000e+00,  0.00000000e+00,\n",
       "         0.00000000e+00,  0.00000000e+00,  0.00000000e+00],\n",
       "       [ 0.00000000e+00,  0.00000000e+00,  0.00000000e+00,\n",
       "         0.00000000e+00,  0.00000000e+00,  0.00000000e+00,\n",
       "         0.00000000e+00,  0.00000000e+00,  0.00000000e+00,\n",
       "         0.00000000e+00,  0.00000000e+00,  0.00000000e+00,\n",
       "         0.00000000e+00,  0.00000000e+00,  0.00000000e+00,\n",
       "         0.00000000e+00,  1.09863281e-02, -1.20605469e-01,\n",
       "        -1.15966797e-01,  2.44140625e-03,  0.00000000e+00,\n",
       "         0.00000000e+00,  0.00000000e+00,  0.00000000e+00,\n",
       "         0.00000000e+00,  0.00000000e+00,  0.00000000e+00,\n",
       "         0.00000000e+00,  0.00000000e+00,  0.00000000e+00,\n",
       "         0.00000000e+00,  0.00000000e+00,  0.00000000e+00,\n",
       "         0.00000000e+00,  0.00000000e+00,  0.00000000e+00],\n",
       "       [ 0.00000000e+00,  0.00000000e+00,  0.00000000e+00,\n",
       "         0.00000000e+00,  0.00000000e+00,  0.00000000e+00,\n",
       "         0.00000000e+00,  0.00000000e+00,  0.00000000e+00,\n",
       "         0.00000000e+00,  0.00000000e+00,  0.00000000e+00,\n",
       "         0.00000000e+00,  0.00000000e+00,  0.00000000e+00,\n",
       "         0.00000000e+00,  0.00000000e+00,  0.00000000e+00,\n",
       "         0.00000000e+00,  0.00000000e+00,  6.78710938e-02,\n",
       "        -5.61523438e-02, -6.71386719e-02,  5.88378906e-02,\n",
       "         0.00000000e+00,  0.00000000e+00,  0.00000000e+00,\n",
       "         0.00000000e+00,  0.00000000e+00,  0.00000000e+00,\n",
       "         0.00000000e+00,  0.00000000e+00,  0.00000000e+00,\n",
       "         0.00000000e+00,  0.00000000e+00,  0.00000000e+00],\n",
       "       [ 0.00000000e+00,  0.00000000e+00,  0.00000000e+00,\n",
       "         0.00000000e+00, -1.33926382e-18, -1.52501355e-19,\n",
       "         1.00792998e-18,  4.56285500e-20, -3.55222414e-19,\n",
       "        -8.65301575e-20,  1.23637636e-19,  4.07418843e-19,\n",
       "        -4.41983420e-20,  9.73854759e-20, -4.08114958e-20,\n",
       "         1.09261753e-19,  6.68374621e-22,  1.04570336e-19,\n",
       "         7.05506545e-21,  2.11680843e-21, -1.10616582e-19,\n",
       "         1.43620047e-19, -1.09422878e-19,  1.50488832e-19,\n",
       "         2.31119792e-02,  1.84733073e-02, -2.12402344e-02,\n",
       "        -2.05078125e-02,  2.16471354e-02,  2.08333333e-02,\n",
       "        -2.17285156e-02, -1.91243490e-02,  4.38639323e-02,\n",
       "         1.79036458e-03, -1.46484375e-03, -3.62141927e-02],\n",
       "       [ 0.00000000e+00,  0.00000000e+00,  0.00000000e+00,\n",
       "         0.00000000e+00,  0.00000000e+00,  0.00000000e+00,\n",
       "         0.00000000e+00,  0.00000000e+00,  0.00000000e+00,\n",
       "         0.00000000e+00,  0.00000000e+00,  0.00000000e+00,\n",
       "         0.00000000e+00,  0.00000000e+00,  0.00000000e+00,\n",
       "         0.00000000e+00,  0.00000000e+00,  0.00000000e+00,\n",
       "         0.00000000e+00,  0.00000000e+00,  0.00000000e+00,\n",
       "         0.00000000e+00,  0.00000000e+00,  0.00000000e+00,\n",
       "         6.93359375e-02, -5.54199219e-02, -6.37207031e-02,\n",
       "         6.15234375e-02,  0.00000000e+00,  0.00000000e+00,\n",
       "         0.00000000e+00,  0.00000000e+00,  0.00000000e+00,\n",
       "         0.00000000e+00,  0.00000000e+00,  0.00000000e+00],\n",
       "       [ 0.00000000e+00,  0.00000000e+00,  0.00000000e+00,\n",
       "         0.00000000e+00,  0.00000000e+00,  0.00000000e+00,\n",
       "         0.00000000e+00,  0.00000000e+00,  0.00000000e+00,\n",
       "         0.00000000e+00,  0.00000000e+00,  0.00000000e+00,\n",
       "         0.00000000e+00,  0.00000000e+00,  0.00000000e+00,\n",
       "         0.00000000e+00,  0.00000000e+00,  0.00000000e+00,\n",
       "         0.00000000e+00,  0.00000000e+00,  0.00000000e+00,\n",
       "         0.00000000e+00,  0.00000000e+00,  0.00000000e+00,\n",
       "         0.00000000e+00,  0.00000000e+00,  0.00000000e+00,\n",
       "         0.00000000e+00,  6.49414062e-02, -6.25000000e-02,\n",
       "        -6.51855469e-02,  5.73730469e-02,  0.00000000e+00,\n",
       "         0.00000000e+00,  0.00000000e+00,  0.00000000e+00],\n",
       "       [ 0.00000000e+00,  0.00000000e+00,  0.00000000e+00,\n",
       "         0.00000000e+00,  0.00000000e+00,  0.00000000e+00,\n",
       "         0.00000000e+00,  0.00000000e+00,  0.00000000e+00,\n",
       "         0.00000000e+00,  0.00000000e+00,  0.00000000e+00,\n",
       "         0.00000000e+00,  0.00000000e+00,  0.00000000e+00,\n",
       "         0.00000000e+00,  0.00000000e+00,  0.00000000e+00,\n",
       "         0.00000000e+00,  0.00000000e+00,  0.00000000e+00,\n",
       "         0.00000000e+00,  0.00000000e+00,  0.00000000e+00,\n",
       "         0.00000000e+00,  0.00000000e+00,  0.00000000e+00,\n",
       "         0.00000000e+00,  0.00000000e+00,  0.00000000e+00,\n",
       "         0.00000000e+00,  0.00000000e+00,  1.31591797e-01,\n",
       "        -5.37109375e-03, -4.39453125e-03,  1.08642578e-01]])"
      ]
     },
     "execution_count": 29,
     "metadata": {},
     "output_type": "execute_result"
    }
   ],
   "source": [
    "np.linalg.pinv(M)*values"
   ]
  },
  {
   "cell_type": "code",
   "execution_count": 1,
   "metadata": {},
   "outputs": [],
   "source": [
    "import qutip as qt\n",
    "from qutip.qobj import Qobj\n",
    "\n"
   ]
  },
  {
   "cell_type": "code",
   "execution_count": null,
   "metadata": {},
   "outputs": [],
   "source": [
    "Qobj"
   ]
  },
  {
   "cell_type": "code",
   "execution_count": 118,
   "metadata": {},
   "outputs": [
    {
     "data": {
      "text/plain": [
       "['11', '12', '13', '21', '22', '23', '31', '32', '33']"
      ]
     },
     "execution_count": 118,
     "metadata": {},
     "output_type": "execute_result"
    }
   ],
   "source": [
    "\n",
    "def last_letter():\n",
    "        \n",
    "    output = [] \n",
    "    for i in range(3**2): \n",
    "        \n",
    "        rem = i%3 \n",
    "        \n",
    "        if rem == 0: \n",
    "            output.append(\"1\")\n",
    "        if rem == 1: \n",
    "            output.append(\"2\")\n",
    "        if rem == 2: \n",
    "            output.append(\"3\")\n",
    "            \n",
    "    return output \n",
    "        \n",
    "        \n",
    "    \n",
    "    \n",
    "\n",
    "\n",
    "\n",
    "        \n",
    "        \n",
    "\n",
    "\n",
    "def first_letter():\n",
    "        \n",
    "    output = [] \n",
    "    for i in range(3**2): \n",
    "        \n",
    "        rem = i%9 \n",
    "        \n",
    "        if rem < 3: \n",
    "            output.append(\"1\")\n",
    "        if rem >=3 and rem < 6: \n",
    "            output.append(\"2\")\n",
    "        if rem >= 6 and rem < 9: \n",
    "            output.append(\"3\")\n",
    "            \n",
    "    return output \n",
    "\n",
    "def all_combined_2(): \n",
    "    \n",
    "    _first = first_letter() \n",
    "    _last = last_letter()\n",
    "    \n",
    "    names = [] \n",
    "    \n",
    "    for i in range(9): \n",
    "        \n",
    "        names.append(_first[i] + _last[i])\n",
    "        \n",
    "    return names \n",
    "        \n",
    "    \n",
    "\n",
    "\n",
    "combined_2 = all_combined_2()\n",
    "combined_2\n"
   ]
  },
  {
   "cell_type": "code",
   "execution_count": 1,
   "metadata": {},
   "outputs": [
    {
     "ename": "NameError",
     "evalue": "name 'output_2' is not defined",
     "output_type": "error",
     "traceback": [
      "\u001b[0;31m---------------------------------------------------------------------------\u001b[0m",
      "\u001b[0;31mNameError\u001b[0m                                 Traceback (most recent call last)",
      "\u001b[0;32m<ipython-input-1-601853a2425d>\u001b[0m in \u001b[0;36m<module>\u001b[0;34m\u001b[0m\n\u001b[1;32m      1\u001b[0m \u001b[0mnew_output_2\u001b[0m \u001b[0;34m=\u001b[0m \u001b[0;34m[\u001b[0m\u001b[0;34m]\u001b[0m\u001b[0;34m\u001b[0m\u001b[0;34m\u001b[0m\u001b[0m\n\u001b[1;32m      2\u001b[0m \u001b[0;32mfor\u001b[0m \u001b[0mi\u001b[0m \u001b[0;32min\u001b[0m \u001b[0mrange\u001b[0m\u001b[0;34m(\u001b[0m\u001b[0;36m9\u001b[0m\u001b[0;34m)\u001b[0m\u001b[0;34m:\u001b[0m\u001b[0;34m\u001b[0m\u001b[0;34m\u001b[0m\u001b[0m\n\u001b[0;32m----> 3\u001b[0;31m     \u001b[0mnew_output_2\u001b[0m\u001b[0;34m.\u001b[0m\u001b[0mappend\u001b[0m\u001b[0;34m(\u001b[0m\u001b[0msorted\u001b[0m\u001b[0;34m(\u001b[0m\u001b[0moutput_2\u001b[0m\u001b[0;34m[\u001b[0m\u001b[0mi\u001b[0m\u001b[0;34m]\u001b[0m\u001b[0;34m.\u001b[0m\u001b[0mitems\u001b[0m\u001b[0;34m(\u001b[0m\u001b[0;34m)\u001b[0m\u001b[0;34m)\u001b[0m\u001b[0;34m)\u001b[0m\u001b[0;34m\u001b[0m\u001b[0;34m\u001b[0m\u001b[0m\n\u001b[0m\u001b[1;32m      4\u001b[0m \u001b[0mnew_output_2\u001b[0m\u001b[0;34m\u001b[0m\u001b[0;34m\u001b[0m\u001b[0m\n\u001b[1;32m      5\u001b[0m \u001b[0;34m\u001b[0m\u001b[0m\n",
      "\u001b[0;31mNameError\u001b[0m: name 'output_2' is not defined"
     ]
    }
   ],
   "source": [
    "new_output_2 = []\n",
    "for i in range(9):\n",
    "    new_output_2.append(sorted(output_2[i].items()))\n",
    "new_output_2\n",
    "\n",
    "\n",
    "\n",
    "            "
   ]
  },
  {
   "cell_type": "code",
   "execution_count": 117,
   "metadata": {
    "scrolled": true
   },
   "outputs": [
    {
     "data": {
      "text/plain": [
       "{'11': [('00', 486), ('01', 21), ('10', 13), ('11', 504)],\n",
       " '12': [('00', 276), ('01', 265), ('10', 241), ('11', 242)],\n",
       " '13': [('00', 215), ('01', 296), ('10', 259), ('11', 254)],\n",
       " '21': [('00', 290), ('01', 250), ('10', 249), ('11', 235)],\n",
       " '22': [('00', 40), ('01', 495), ('10', 484), ('11', 5)],\n",
       " '23': [('00', 271), ('01', 255), ('10', 241), ('11', 257)],\n",
       " '31': [('00', 277), ('01', 243), ('10', 237), ('11', 267)],\n",
       " '32': [('00', 271), ('01', 296), ('10', 235), ('11', 222)],\n",
       " '33': [('00', 552), ('01', 33), ('10', 9), ('11', 430)]}"
      ]
     },
     "execution_count": 117,
     "metadata": {},
     "output_type": "execute_result"
    }
   ],
   "source": [
    "dct_2 = {}\n",
    "for i in range(9):\n",
    "    dct_2[combined_2[i]] = new_output_2[i]\n",
    "dct_2"
   ]
  },
  {
   "cell_type": "code",
   "execution_count": 43,
   "metadata": {},
   "outputs": [
    {
     "data": {
      "text/plain": [
       "{'11': {'11': 504, '01': 21, '10': 13, '00': 486},\n",
       " '12': {'11': 242, '01': 265, '10': 241, '00': 276},\n",
       " '13': {'11': 254, '01': 296, '10': 259, '00': 215},\n",
       " '21': {'11': 235, '01': 250, '10': 249, '00': 290},\n",
       " '22': {'11': 5, '01': 495, '10': 484, '00': 40},\n",
       " '23': {'11': 257, '01': 255, '10': 241, '00': 271},\n",
       " '31': {'11': 267, '01': 243, '10': 237, '00': 277},\n",
       " '32': {'11': 222, '01': 296, '10': 235, '00': 271},\n",
       " '33': {'11': 430, '01': 33, '10': 9, '00': 552}}"
      ]
     },
     "execution_count": 43,
     "metadata": {},
     "output_type": "execute_result"
    }
   ],
   "source": [
    "dct"
   ]
  },
  {
   "cell_type": "code",
   "execution_count": null,
   "metadata": {},
   "outputs": [],
   "source": [
    "dct \n",
    "import numpy as np\n",
    "\n",
    "c = np.zeros((4,4))\n",
    "for i in range(1,4):\n",
    "    for j in range(1,4):\n",
    "        if i == 0 and j == 0:\n",
    "            c[i][j] = 1.0\n",
    "        elif i == 0:\n",
    "            for k in range(3):\n",
    "                c[i][j] += dct[str(j) + str(j)][k][1] + dct[str(j) + str(j)][1][1] \n",
    "                      - (dct[str(j) + str(j)][2][1] + dct[str(j) + str(j)][3][1])\n",
    "        elif j == 0 :\n",
    "            c[i][j] = dct[str(i) + str(i)][[0][1] + a[2][1]) - (a[1][1] + a[3][1]))/ns\n",
    "        else :\n",
    "            c[i][j] = dct[str(i) + str(j)][((a[0][1] + a[3][1]) - (a[1][1] + a[2][1]))/ns"
   ]
  },
  {
   "cell_type": "code",
   "execution_count": null,
   "metadata": {},
   "outputs": [],
   "source": [
    "for i in range(3):\n",
    "    "
   ]
  },
  {
   "cell_type": "code",
   "execution_count": null,
   "metadata": {},
   "outputs": [],
   "source": []
  },
  {
   "cell_type": "code",
   "execution_count": 110,
   "metadata": {},
   "outputs": [
    {
     "data": {
      "text/plain": [
       "['11', '12', '13', '21', '22', '23', '31', '32', '33']"
      ]
     },
     "execution_count": 110,
     "metadata": {},
     "output_type": "execute_result"
    }
   ],
   "source": [
    "combined_2"
   ]
  },
  {
   "cell_type": "code",
   "execution_count": 92,
   "metadata": {},
   "outputs": [
    {
     "ename": "TypeError",
     "evalue": "unsupported operand type(s) for +: 'int' and 'list'",
     "output_type": "error",
     "traceback": [
      "\u001b[0;31m---------------------------------------------------------------------------\u001b[0m",
      "\u001b[0;31mTypeError\u001b[0m                                 Traceback (most recent call last)",
      "\u001b[0;32m<ipython-input-92-75e2afc5fac2>\u001b[0m in \u001b[0;36m<module>\u001b[0;34m\u001b[0m\n\u001b[0;32m----> 1\u001b[0;31m \u001b[0mdct\u001b[0m\u001b[0;34m[\u001b[0m\u001b[0mstr\u001b[0m\u001b[0;34m(\u001b[0m\u001b[0;36m1\u001b[0m\u001b[0;34m)\u001b[0m \u001b[0;34m+\u001b[0m \u001b[0mstr\u001b[0m\u001b[0;34m(\u001b[0m\u001b[0;36m1\u001b[0m\u001b[0;34m)\u001b[0m\u001b[0;34m]\u001b[0m\u001b[0;34m[\u001b[0m\u001b[0;34m\"00\"\u001b[0m\u001b[0;34m]\u001b[0m \u001b[0;34m+\u001b[0m \u001b[0;34m[\u001b[0m\u001b[0;34m'11'\u001b[0m\u001b[0;34m]\u001b[0m \u001b[0;34m-\u001b[0m \u001b[0;34m[\u001b[0m\u001b[0;34m'01'\u001b[0m\u001b[0;34m]\u001b[0m \u001b[0;34m-\u001b[0m \u001b[0;34m[\u001b[0m\u001b[0;34m'10'\u001b[0m\u001b[0;34m]\u001b[0m\u001b[0;34m\u001b[0m\u001b[0;34m\u001b[0m\u001b[0m\n\u001b[0m",
      "\u001b[0;31mTypeError\u001b[0m: unsupported operand type(s) for +: 'int' and 'list'"
     ]
    }
   ],
   "source": [
    "dct[str(1) + str(1)][\"00\"] + ['11'] - ['01'] - ['10']"
   ]
  },
  {
   "cell_type": "code",
   "execution_count": 30,
   "metadata": {
    "scrolled": true
   },
   "outputs": [
    {
     "data": {
      "text/plain": [
       "[{'11': 504, '01': 21, '10': 13, '00': 486},\n",
       " {'11': 242, '01': 265, '10': 241, '00': 276},\n",
       " {'11': 254, '01': 296, '10': 259, '00': 215},\n",
       " {'11': 235, '01': 250, '10': 249, '00': 290},\n",
       " {'11': 5, '01': 495, '10': 484, '00': 40},\n",
       " {'11': 257, '01': 255, '10': 241, '00': 271},\n",
       " {'11': 267, '01': 243, '10': 237, '00': 277},\n",
       " {'11': 222, '01': 296, '10': 235, '00': 271},\n",
       " {'11': 430, '01': 33, '10': 9, '00': 552}]"
      ]
     },
     "execution_count": 30,
     "metadata": {},
     "output_type": "execute_result"
    }
   ],
   "source": [
    "result.get_counts()"
   ]
  },
  {
   "cell_type": "code",
   "execution_count": 29,
   "metadata": {},
   "outputs": [
    {
     "data": {
      "text/plain": [
       "[{'11': 504, '01': 21, '10': 13, '00': 486},\n",
       " {'11': 242, '01': 265, '10': 241, '00': 276},\n",
       " {'11': 254, '01': 296, '10': 259, '00': 215},\n",
       " {'11': 235, '01': 250, '10': 249, '00': 290},\n",
       " {'11': 5, '01': 495, '10': 484, '00': 40},\n",
       " {'11': 257, '01': 255, '10': 241, '00': 271},\n",
       " {'11': 267, '01': 243, '10': 237, '00': 277},\n",
       " {'11': 222, '01': 296, '10': 235, '00': 271},\n",
       " {'11': 430, '01': 33, '10': 9, '00': 552}]"
      ]
     },
     "execution_count": 29,
     "metadata": {},
     "output_type": "execute_result"
    }
   ],
   "source": []
  },
  {
   "cell_type": "code",
   "execution_count": null,
   "metadata": {},
   "outputs": [],
   "source": [
    "dct \n",
    "import numpy as np\n",
    "\n",
    "c = np.zeros((4,4))\n",
    "for i in range(3):\n",
    "    for j in range(3):\n",
    "        if i == 0 and j == 0:\n",
    "            c[i][j] = 1.0\n",
    "        elif i == 0:\n",
    "            c[i][j] = dct[str(j) + str(j)][pXX[0][1] + pXX[1][1]) - (pXX[2][1] + pXX[3][1]))/ns\n",
    "        elif j == 0 :\n",
    "            c[i][j] = dct[str(i) + str(i)][pXX[0][1] + pXX[2][1]) - (pXX[1][1] + pXX[3][1]))/ns\n",
    "        else :\n",
    "            c[i][j] = dct[str(i) + str(j)][((pXX[0][1] + pXX[3][1]) - (pXX[1][1] + pXX[2][1]))/ns\n",
    "        \n",
    "            \n",
    "\n",
    "\n",
    "                      "
   ]
  },
  {
   "cell_type": "code",
   "execution_count": null,
   "metadata": {},
   "outputs": [],
   "source": [
    "{'10': 59, '00': 429, '11': 260, '01': 276}\n",
    "{'10': 145, '00': 328, '11': 187, '01': 364}\n",
    "{'10': 126, '00': 343, '11': 158, '01': 397}\n",
    "{'10': 163, '00': 326, '11': 164, '01': 371}\n",
    "{'10': 249, '00': 256, '11': 89, '01': 430}\n",
    "{'10': 154, '00': 376, '11': 133, '01': 361}\n",
    "{'10': 158, '00': 352, '11': 140, '01': 374}\n",
    "{'10': 181, '00': 413, '11': 148, '01': 282}\n",
    "{'10': 75, '00': 461, '11': 221, '01': 267}"
   ]
  },
  {
   "cell_type": "code",
   "execution_count": null,
   "metadata": {},
   "outputs": [],
   "source": [
    "# GHZ state\n",
    "#n is number of qubits\n",
    "n = 3\n",
    "q = QuantumRegister(3, 'q')\n",
    "c = ClassicalRegister(3, 'c')\n",
    "qc1 = []\n",
    "\n",
    "for i in range(3**n):\n",
    "    qc1.append(QuantumCircuit(q, c))\n",
    "    qc1[i].h(0)\n",
    "    qc1[i].cx(0,1)\n",
    "    qc1[i].cx(1,2)\n",
    "    qc1[i].barrier()\n",
    "\n",
    "count = 0\n",
    "for i in range(3):\n",
    "    for j in range(3):\n",
    "        for k in range(3):\n",
    "            if i == 0: \n",
    "                qc1[count].h(0)\n",
    "            elif i == 1:\n",
    "                qc1[count].s(0).inverse()\n",
    "                qc1[count].h(0)\n",
    "            if j == 0:\n",
    "                qc1[count].h(1)\n",
    "            elif j == 1:\n",
    "                qc1[count].s(1).inverse()\n",
    "                qc1[count].h(1)\n",
    "            if k == 0:\n",
    "                qc1[count].h(2)\n",
    "            elif k == 1:\n",
    "                qc1[count].s(2).inverse()\n",
    "                qc1[count].h(2)\n",
    "            count += 1\n",
    "        \n",
    "for i in range(3**n):\n",
    "    qc1[i].measure(q,c)\n",
    "\n",
    "\n",
    "\n",
    "\n",
    "\n",
    "\n",
    "    \n",
    "#What's the problem with the one where conditional loop of i is written inside the for loop of i? The code does \n",
    "#not do the task for 9 identical circuit. Instead it only \n",
    "\n"
   ]
  },
  {
   "cell_type": "code",
   "execution_count": 665,
   "metadata": {},
   "outputs": [
    {
     "name": "stdout",
     "output_type": "stream",
     "text": [
      "Job Status: job has successfully run                     \n"
     ]
    }
   ],
   "source": [
    "backend = provider.get_backend('ibmq_vigo')\n",
    "job_exp = qiskit.execute(qc1,backend=backend)\n",
    "job_monitor(job_exp)"
   ]
  },
  {
   "cell_type": "code",
   "execution_count": 678,
   "metadata": {},
   "outputs": [],
   "source": [
    "#creating csv files\n",
    "\n",
    "results = job_exp.result().get_counts()\n",
    "\n",
    "for i in range(27):\n",
    "    z = results[i]\n",
    "    lol = pd.DataFrame(z, index = [\"probability\"])\n",
    "    lol = lol.transpose()\n",
    "    lol = lol.to_csv(main())\n",
    "    \n",
    "\n",
    "\n",
    "    \n",
    "\n"
   ]
  },
  {
   "cell_type": "code",
   "execution_count": 677,
   "metadata": {},
   "outputs": [],
   "source": [
    "a = results[1]\n",
    "lol = pd.DataFrame(a, index = [\"probability\"])\n",
    "lol = lol.transpose()\n",
    "lol = lol.to_csv(\"hello.csv\")"
   ]
  },
  {
   "cell_type": "code",
   "execution_count": 167,
   "metadata": {},
   "outputs": [],
   "source": [
    "# 4-qubit bell state with only \n",
    "#n is total number of qubits\n",
    "n = 4\n",
    "q = QuantumRegister(4, 'q')\n",
    "c = ClassicalRegister(4, 'c')\n",
    "circ = []\n",
    "\n",
    "for i in range(3**n):\n",
    "    circ.append(QuantumCircuit(q, c))\n",
    "    circ[i].h(0)\n",
    "    circ[i].cx(0,1)\n",
    "    circ[i].cx(1,2)\n",
    "    circ[i].cx(2,3)\n",
    "    circ[i].barrier()\n",
    "\n",
    "count = 0\n",
    "for i in range(3):\n",
    "    for j in range(3):\n",
    "        for k in range(3):\n",
    "            for l in range(3):\n",
    "                if i == 0: \n",
    "                    circ[count].h(0)\n",
    "                elif i == 1:\n",
    "                    circ[count].s(0).inverse()\n",
    "                    circ[count].h(0)\n",
    "                if j == 0:\n",
    "                    circ[count].h(1)\n",
    "                elif j == 1:\n",
    "                    circ[count].s(1).inverse()\n",
    "                    circ[count].h(1)\n",
    "                if k == 0:\n",
    "                    circ[count].h(2)\n",
    "                elif k == 1:\n",
    "                    circ[count].s(2).inverse()\n",
    "                    circ[count].h(2)\n",
    "                if l == 0:\n",
    "                    circ[count].h(3)\n",
    "                elif l == 1:\n",
    "                    circ[count].s(3).inverse()\n",
    "                    circ[count].h(3)\n",
    "                count += 1\n",
    "\n",
    "\n",
    "        \n",
    "        \n",
    "for i in range(3**n):\n",
    "    circ[i].measure(q,c)\n",
    "\n",
    "\n"
   ]
  },
  {
   "cell_type": "code",
   "execution_count": 619,
   "metadata": {},
   "outputs": [],
   "source": [
    "# 4-qubit bell state part 2\n",
    "#n is total number of qubits\n",
    "n = 4\n",
    "q = QuantumRegister(4, 'q')\n",
    "c = ClassicalRegister(4, 'c')\n",
    "circ = []\n",
    "\n",
    "for i in range(0,3**n):\n",
    "    circ.append(QuantumCircuit(q, c))\n",
    "    circ[i].h(0)\n",
    "    circ[i].cx(0,1)\n",
    "    circ[i].cx(1,2)\n",
    "    circ[i].cx(2,3)\n",
    "    circ[i].barrier()\n",
    "\n",
    "count = 0\n",
    "for i in range(3):\n",
    "    for j in range(3):\n",
    "        for k in range(3):\n",
    "            for l in range(3):\n",
    "                if i == 0: \n",
    "                    circ[count].h(0)\n",
    "                elif i == 1:\n",
    "                    circ[count].s(0).inverse()\n",
    "                    circ[count].h(0)\n",
    "                if j == 0:\n",
    "                    circ[count].h(1)\n",
    "                elif j == 1:\n",
    "                    circ[count].s(1).inverse()\n",
    "                    circ[count].h(1)\n",
    "                if k == 0:\n",
    "                    circ[count].h(2)\n",
    "                elif k == 1:\n",
    "                    circ[count].s(2).inverse()\n",
    "                    circ[count].h(2)\n",
    "                if l == 0:\n",
    "                    circ[count].h(3)\n",
    "                elif l == 1:\n",
    "                    circ[count].s(3).inverse()\n",
    "                    circ[count].h(3)\n",
    "                count += 1\n",
    "\n",
    "\n",
    "    \n",
    "        \n",
    "for i in range(0,3**n):\n",
    "    circ[i].measure(q,c)\n",
    "    \n"
   ]
  },
  {
   "cell_type": "code",
   "execution_count": 620,
   "metadata": {},
   "outputs": [
    {
     "data": {
      "text/plain": [
       "6"
      ]
     },
     "execution_count": 620,
     "metadata": {},
     "output_type": "execute_result"
    }
   ],
   "source": [
    "circ = circ[75:3**n]\n",
    "len(circ)\n"
   ]
  },
  {
   "cell_type": "code",
   "execution_count": 571,
   "metadata": {},
   "outputs": [
    {
     "name": "stdout",
     "output_type": "stream",
     "text": [
      "Job Status: job has successfully run                  \n"
     ]
    }
   ],
   "source": [
    "backend = provider.get_backend('ibmq_vigo')\n",
    "job_exp = qiskit.execute(circ,backend=backend )\n",
    "job_monitor(job_exp)"
   ]
  },
  {
   "cell_type": "code",
   "execution_count": 597,
   "metadata": {},
   "outputs": [
    {
     "data": {
      "text/plain": [
       "<JobStatus.DONE: 'job has successfully run'>"
      ]
     },
     "execution_count": 597,
     "metadata": {},
     "output_type": "execute_result"
    }
   ],
   "source": [
    "job_exp.status()"
   ]
  },
  {
   "cell_type": "code",
   "execution_count": 580,
   "metadata": {},
   "outputs": [],
   "source": [
    "result = job_exp.result()\n"
   ]
  },
  {
   "cell_type": "code",
   "execution_count": 633,
   "metadata": {},
   "outputs": [],
   "source": [
    "circ75_on = result.get_counts()"
   ]
  },
  {
   "cell_type": "code",
   "execution_count": 634,
   "metadata": {
    "scrolled": true
   },
   "outputs": [
    {
     "name": "stdout",
     "output_type": "stream",
     "text": [
      "[{'0000': 120, '0100': 124, '1010': 10, '0110': 12, '1011': 94, '1110': 10, '0010': 21, '0001': 8, '1100': 89, '1111': 115, '1000': 107, '0101': 8, '0111': 123, '0011': 157, '1001': 17, '1101': 9}, {'0000': 105, '0100': 98, '1010': 19, '0110': 9, '1011': 100, '1110': 13, '0010': 22, '0001': 11, '1100': 126, '1111': 129, '1000': 95, '0101': 8, '0111': 95, '0011': 169, '1001': 9, '1101': 16}, {'0000': 212, '0100': 235, '1010': 15, '0110': 7, '1011': 237, '1110': 16, '0010': 2, '0001': 9, '1100': 9, '1111': 215, '1000': 13, '0101': 11, '0111': 13, '0011': 12, '1001': 9, '1101': 9}, {'0000': 198, '0100': 14, '1010': 2, '0110': 10, '1011': 12, '1110': 11, '0010': 2, '0001': 18, '1100': 17, '1111': 221, '1000': 269, '0101': 14, '0111': 201, '0011': 15, '1001': 7, '1101': 13}, {'0000': 227, '0100': 14, '1010': 3, '0110': 18, '1011': 11, '1110': 26, '0010': 7, '0001': 4, '1100': 14, '1111': 172, '1000': 247, '0101': 9, '0111': 232, '0011': 18, '1001': 11, '1101': 11}, {'0000': 525, '0100': 3, '1010': 5, '0110': 1, '1011': 15, '1110': 39, '0010': 7, '0001': 5, '1100': 11, '1111': 350, '1000': 11, '0101': 2, '0111': 15, '0011': 21, '1001': 2, '1101': 12}]\n"
     ]
    }
   ],
   "source": [
    "print(circ75_on[0:6])"
   ]
  },
  {
   "cell_type": "code",
   "execution_count": 640,
   "metadata": {},
   "outputs": [
    {
     "data": {
      "text/plain": [
       "<JobStatus.DONE: 'job has successfully run'>"
      ]
     },
     "execution_count": 640,
     "metadata": {},
     "output_type": "execute_result"
    }
   ],
   "source": [
    "job_id = job_exp.job_id()\n",
    "status = job_exp.status()\n",
    "status\n",
    "\n"
   ]
  },
  {
   "cell_type": "code",
   "execution_count": 637,
   "metadata": {},
   "outputs": [
    {
     "ename": "KeyError",
     "evalue": "<JobStatus.DONE: 'job has successfully run'>",
     "output_type": "error",
     "traceback": [
      "\u001b[0;31m---------------------------------------------------------------------------\u001b[0m",
      "\u001b[0;31mKeyError\u001b[0m                                  Traceback (most recent call last)",
      "\u001b[0;32m<ipython-input-637-dbacfaa4cf10>\u001b[0m in \u001b[0;36m<module>\u001b[0;34m\u001b[0m\n\u001b[1;32m      1\u001b[0m job_name = IBMQJob(backend = backend, api = api, creation_date = now.isoformat()\n\u001b[0;32m----> 2\u001b[0;31m                    , job_id = job_id,status = status, name = ('4 state bell state'))\n\u001b[0m",
      "\u001b[0;32m/opt/anaconda3/lib/python3.7/site-packages/qiskit/providers/ibmq/job/ibmqjob.py\u001b[0m in \u001b[0;36m__init__\u001b[0;34m(self, backend, api, job_id, creation_date, status, kind, name, time_per_step, result, qobj, error, tags, run_mode, **kwargs)\u001b[0m\n\u001b[1;32m    154\u001b[0m         \u001b[0mself\u001b[0m\u001b[0;34m.\u001b[0m\u001b[0m_run_mode\u001b[0m \u001b[0;34m=\u001b[0m \u001b[0mrun_mode\u001b[0m\u001b[0;34m\u001b[0m\u001b[0;34m\u001b[0m\u001b[0m\n\u001b[1;32m    155\u001b[0m         \u001b[0mself\u001b[0m\u001b[0;34m.\u001b[0m\u001b[0m_status\u001b[0m\u001b[0;34m,\u001b[0m \u001b[0mself\u001b[0m\u001b[0;34m.\u001b[0m\u001b[0m_queue_info\u001b[0m \u001b[0;34m=\u001b[0m\u001b[0;31m \u001b[0m\u001b[0;31m\\\u001b[0m\u001b[0;34m\u001b[0m\u001b[0;34m\u001b[0m\u001b[0m\n\u001b[0;32m--> 156\u001b[0;31m             \u001b[0mself\u001b[0m\u001b[0;34m.\u001b[0m\u001b[0m_get_status_position\u001b[0m\u001b[0;34m(\u001b[0m\u001b[0mstatus\u001b[0m\u001b[0;34m,\u001b[0m \u001b[0mkwargs\u001b[0m\u001b[0;34m.\u001b[0m\u001b[0mpop\u001b[0m\u001b[0;34m(\u001b[0m\u001b[0;34m'info_queue'\u001b[0m\u001b[0;34m,\u001b[0m \u001b[0;32mNone\u001b[0m\u001b[0;34m)\u001b[0m\u001b[0;34m)\u001b[0m\u001b[0;34m\u001b[0m\u001b[0;34m\u001b[0m\u001b[0m\n\u001b[0m\u001b[1;32m    157\u001b[0m         \u001b[0mself\u001b[0m\u001b[0;34m.\u001b[0m\u001b[0m_use_object_storage\u001b[0m \u001b[0;34m=\u001b[0m \u001b[0;34m(\u001b[0m\u001b[0mself\u001b[0m\u001b[0;34m.\u001b[0m\u001b[0m_kind\u001b[0m \u001b[0;34m==\u001b[0m \u001b[0mApiJobKind\u001b[0m\u001b[0;34m.\u001b[0m\u001b[0mQOBJECT_STORAGE\u001b[0m\u001b[0;34m)\u001b[0m\u001b[0;34m\u001b[0m\u001b[0;34m\u001b[0m\u001b[0m\n\u001b[1;32m    158\u001b[0m \u001b[0;34m\u001b[0m\u001b[0m\n",
      "\u001b[0;32m/opt/anaconda3/lib/python3.7/site-packages/qiskit/providers/ibmq/job/ibmqjob.py\u001b[0m in \u001b[0;36m_get_status_position\u001b[0;34m(self, api_status, api_info_queue)\u001b[0m\n\u001b[1;32m    976\u001b[0m         \"\"\"\n\u001b[1;32m    977\u001b[0m         \u001b[0mqueue_info\u001b[0m \u001b[0;34m=\u001b[0m \u001b[0;32mNone\u001b[0m\u001b[0;34m\u001b[0m\u001b[0;34m\u001b[0m\u001b[0m\n\u001b[0;32m--> 978\u001b[0;31m         \u001b[0mstatus\u001b[0m \u001b[0;34m=\u001b[0m \u001b[0mapi_status_to_job_status\u001b[0m\u001b[0;34m(\u001b[0m\u001b[0mapi_status\u001b[0m\u001b[0;34m)\u001b[0m\u001b[0;34m\u001b[0m\u001b[0;34m\u001b[0m\u001b[0m\n\u001b[0m\u001b[1;32m    979\u001b[0m         \u001b[0;32mif\u001b[0m \u001b[0mapi_status\u001b[0m \u001b[0;34m==\u001b[0m \u001b[0mApiJobStatus\u001b[0m\u001b[0;34m.\u001b[0m\u001b[0mQUEUED\u001b[0m\u001b[0;34m.\u001b[0m\u001b[0mvalue\u001b[0m \u001b[0;32mand\u001b[0m \u001b[0mapi_info_queue\u001b[0m\u001b[0;34m:\u001b[0m\u001b[0;34m\u001b[0m\u001b[0;34m\u001b[0m\u001b[0m\n\u001b[1;32m    980\u001b[0m             \u001b[0mqueue_info\u001b[0m \u001b[0;34m=\u001b[0m \u001b[0mQueueInfo\u001b[0m\u001b[0;34m(\u001b[0m\u001b[0mjob_id\u001b[0m\u001b[0;34m=\u001b[0m\u001b[0mself\u001b[0m\u001b[0;34m.\u001b[0m\u001b[0mjob_id\u001b[0m\u001b[0;34m(\u001b[0m\u001b[0;34m)\u001b[0m\u001b[0;34m,\u001b[0m \u001b[0;34m**\u001b[0m\u001b[0mapi_info_queue\u001b[0m\u001b[0;34m)\u001b[0m\u001b[0;34m\u001b[0m\u001b[0;34m\u001b[0m\u001b[0m\n",
      "\u001b[0;32m/opt/anaconda3/lib/python3.7/site-packages/qiskit/providers/ibmq/job/utils.py\u001b[0m in \u001b[0;36mapi_status_to_job_status\u001b[0;34m(api_status)\u001b[0m\n\u001b[1;32m     70\u001b[0m     \u001b[0;32mif\u001b[0m \u001b[0misinstance\u001b[0m\u001b[0;34m(\u001b[0m\u001b[0mapi_status\u001b[0m\u001b[0;34m,\u001b[0m \u001b[0mstr\u001b[0m\u001b[0;34m)\u001b[0m\u001b[0;34m:\u001b[0m\u001b[0;34m\u001b[0m\u001b[0;34m\u001b[0m\u001b[0m\n\u001b[1;32m     71\u001b[0m         \u001b[0mapi_status\u001b[0m \u001b[0;34m=\u001b[0m \u001b[0mApiJobStatus\u001b[0m\u001b[0;34m(\u001b[0m\u001b[0mapi_status\u001b[0m\u001b[0;34m)\u001b[0m\u001b[0;34m\u001b[0m\u001b[0;34m\u001b[0m\u001b[0m\n\u001b[0;32m---> 72\u001b[0;31m     \u001b[0;32mreturn\u001b[0m \u001b[0mAPI_TO_JOB_STATUS\u001b[0m\u001b[0;34m[\u001b[0m\u001b[0mapi_status\u001b[0m\u001b[0;34m]\u001b[0m\u001b[0;34m\u001b[0m\u001b[0;34m\u001b[0m\u001b[0m\n\u001b[0m\u001b[1;32m     73\u001b[0m \u001b[0;34m\u001b[0m\u001b[0m\n\u001b[1;32m     74\u001b[0m \u001b[0;34m\u001b[0m\u001b[0m\n",
      "\u001b[0;31mKeyError\u001b[0m: <JobStatus.DONE: 'job has successfully run'>"
     ]
    }
   ],
   "source": [
    "job_name = IBMQJob(backend = backend, api = api, creation_date = now.isoformat()\n",
    "                   , job_id = job_id,status = status, name = ('4 state bell state'))"
   ]
  },
  {
   "cell_type": "code",
   "execution_count": 540,
   "metadata": {
    "scrolled": true
   },
   "outputs": [
    {
     "ename": "KeyError",
     "evalue": "<JobStatus.DONE: 'job has successfully run'>",
     "output_type": "error",
     "traceback": [
      "\u001b[0;31m---------------------------------------------------------------------------\u001b[0m",
      "\u001b[0;31mKeyError\u001b[0m                                  Traceback (most recent call last)",
      "\u001b[0;32m<ipython-input-540-dbacfaa4cf10>\u001b[0m in \u001b[0;36m<module>\u001b[0;34m\u001b[0m\n\u001b[1;32m      1\u001b[0m job_name = IBMQJob(backend = backend, api = api, creation_date = now.isoformat()\n\u001b[0;32m----> 2\u001b[0;31m                    , job_id = job_id,status = status, name = ('4 state bell state'))\n\u001b[0m",
      "\u001b[0;32m/opt/anaconda3/lib/python3.7/site-packages/qiskit/providers/ibmq/job/ibmqjob.py\u001b[0m in \u001b[0;36m__init__\u001b[0;34m(self, backend, api, job_id, creation_date, status, kind, name, time_per_step, result, qobj, error, tags, run_mode, **kwargs)\u001b[0m\n\u001b[1;32m    154\u001b[0m         \u001b[0mself\u001b[0m\u001b[0;34m.\u001b[0m\u001b[0m_run_mode\u001b[0m \u001b[0;34m=\u001b[0m \u001b[0mrun_mode\u001b[0m\u001b[0;34m\u001b[0m\u001b[0;34m\u001b[0m\u001b[0m\n\u001b[1;32m    155\u001b[0m         \u001b[0mself\u001b[0m\u001b[0;34m.\u001b[0m\u001b[0m_status\u001b[0m\u001b[0;34m,\u001b[0m \u001b[0mself\u001b[0m\u001b[0;34m.\u001b[0m\u001b[0m_queue_info\u001b[0m \u001b[0;34m=\u001b[0m\u001b[0;31m \u001b[0m\u001b[0;31m\\\u001b[0m\u001b[0;34m\u001b[0m\u001b[0;34m\u001b[0m\u001b[0m\n\u001b[0;32m--> 156\u001b[0;31m             \u001b[0mself\u001b[0m\u001b[0;34m.\u001b[0m\u001b[0m_get_status_position\u001b[0m\u001b[0;34m(\u001b[0m\u001b[0mstatus\u001b[0m\u001b[0;34m,\u001b[0m \u001b[0mkwargs\u001b[0m\u001b[0;34m.\u001b[0m\u001b[0mpop\u001b[0m\u001b[0;34m(\u001b[0m\u001b[0;34m'info_queue'\u001b[0m\u001b[0;34m,\u001b[0m \u001b[0;32mNone\u001b[0m\u001b[0;34m)\u001b[0m\u001b[0;34m)\u001b[0m\u001b[0;34m\u001b[0m\u001b[0;34m\u001b[0m\u001b[0m\n\u001b[0m\u001b[1;32m    157\u001b[0m         \u001b[0mself\u001b[0m\u001b[0;34m.\u001b[0m\u001b[0m_use_object_storage\u001b[0m \u001b[0;34m=\u001b[0m \u001b[0;34m(\u001b[0m\u001b[0mself\u001b[0m\u001b[0;34m.\u001b[0m\u001b[0m_kind\u001b[0m \u001b[0;34m==\u001b[0m \u001b[0mApiJobKind\u001b[0m\u001b[0;34m.\u001b[0m\u001b[0mQOBJECT_STORAGE\u001b[0m\u001b[0;34m)\u001b[0m\u001b[0;34m\u001b[0m\u001b[0;34m\u001b[0m\u001b[0m\n\u001b[1;32m    158\u001b[0m \u001b[0;34m\u001b[0m\u001b[0m\n",
      "\u001b[0;32m/opt/anaconda3/lib/python3.7/site-packages/qiskit/providers/ibmq/job/ibmqjob.py\u001b[0m in \u001b[0;36m_get_status_position\u001b[0;34m(self, api_status, api_info_queue)\u001b[0m\n\u001b[1;32m    976\u001b[0m         \"\"\"\n\u001b[1;32m    977\u001b[0m         \u001b[0mqueue_info\u001b[0m \u001b[0;34m=\u001b[0m \u001b[0;32mNone\u001b[0m\u001b[0;34m\u001b[0m\u001b[0;34m\u001b[0m\u001b[0m\n\u001b[0;32m--> 978\u001b[0;31m         \u001b[0mstatus\u001b[0m \u001b[0;34m=\u001b[0m \u001b[0mapi_status_to_job_status\u001b[0m\u001b[0;34m(\u001b[0m\u001b[0mapi_status\u001b[0m\u001b[0;34m)\u001b[0m\u001b[0;34m\u001b[0m\u001b[0;34m\u001b[0m\u001b[0m\n\u001b[0m\u001b[1;32m    979\u001b[0m         \u001b[0;32mif\u001b[0m \u001b[0mapi_status\u001b[0m \u001b[0;34m==\u001b[0m \u001b[0mApiJobStatus\u001b[0m\u001b[0;34m.\u001b[0m\u001b[0mQUEUED\u001b[0m\u001b[0;34m.\u001b[0m\u001b[0mvalue\u001b[0m \u001b[0;32mand\u001b[0m \u001b[0mapi_info_queue\u001b[0m\u001b[0;34m:\u001b[0m\u001b[0;34m\u001b[0m\u001b[0;34m\u001b[0m\u001b[0m\n\u001b[1;32m    980\u001b[0m             \u001b[0mqueue_info\u001b[0m \u001b[0;34m=\u001b[0m \u001b[0mQueueInfo\u001b[0m\u001b[0;34m(\u001b[0m\u001b[0mjob_id\u001b[0m\u001b[0;34m=\u001b[0m\u001b[0mself\u001b[0m\u001b[0;34m.\u001b[0m\u001b[0mjob_id\u001b[0m\u001b[0;34m(\u001b[0m\u001b[0;34m)\u001b[0m\u001b[0;34m,\u001b[0m \u001b[0;34m**\u001b[0m\u001b[0mapi_info_queue\u001b[0m\u001b[0;34m)\u001b[0m\u001b[0;34m\u001b[0m\u001b[0;34m\u001b[0m\u001b[0m\n",
      "\u001b[0;32m/opt/anaconda3/lib/python3.7/site-packages/qiskit/providers/ibmq/job/utils.py\u001b[0m in \u001b[0;36mapi_status_to_job_status\u001b[0;34m(api_status)\u001b[0m\n\u001b[1;32m     70\u001b[0m     \u001b[0;32mif\u001b[0m \u001b[0misinstance\u001b[0m\u001b[0;34m(\u001b[0m\u001b[0mapi_status\u001b[0m\u001b[0;34m,\u001b[0m \u001b[0mstr\u001b[0m\u001b[0;34m)\u001b[0m\u001b[0;34m:\u001b[0m\u001b[0;34m\u001b[0m\u001b[0;34m\u001b[0m\u001b[0m\n\u001b[1;32m     71\u001b[0m         \u001b[0mapi_status\u001b[0m \u001b[0;34m=\u001b[0m \u001b[0mApiJobStatus\u001b[0m\u001b[0;34m(\u001b[0m\u001b[0mapi_status\u001b[0m\u001b[0;34m)\u001b[0m\u001b[0;34m\u001b[0m\u001b[0;34m\u001b[0m\u001b[0m\n\u001b[0;32m---> 72\u001b[0;31m     \u001b[0;32mreturn\u001b[0m \u001b[0mAPI_TO_JOB_STATUS\u001b[0m\u001b[0;34m[\u001b[0m\u001b[0mapi_status\u001b[0m\u001b[0;34m]\u001b[0m\u001b[0;34m\u001b[0m\u001b[0;34m\u001b[0m\u001b[0m\n\u001b[0m\u001b[1;32m     73\u001b[0m \u001b[0;34m\u001b[0m\u001b[0m\n\u001b[1;32m     74\u001b[0m \u001b[0;34m\u001b[0m\u001b[0m\n",
      "\u001b[0;31mKeyError\u001b[0m: <JobStatus.DONE: 'job has successfully run'>"
     ]
    }
   ],
   "source": [
    "\n"
   ]
  },
  {
   "cell_type": "code",
   "execution_count": 275,
   "metadata": {
    "scrolled": true
   },
   "outputs": [
    {
     "name": "stderr",
     "output_type": "stream",
     "text": [
      "/opt/anaconda3/lib/python3.7/site-packages/ipykernel_launcher.py:1: UserWarning: The creation date is returned in local time now, rather than UTC.\n",
      "  \"\"\"Entry point for launching an IPython kernel.\n"
     ]
    },
    {
     "data": {
      "text/plain": [
       "datetime.datetime(2020, 8, 3, 13, 6, 9, 542000, tzinfo=tzlocal())"
      ]
     },
     "execution_count": 275,
     "metadata": {},
     "output_type": "execute_result"
    }
   ],
   "source": [
    "creation_date = job_exp.creation_date()\n",
    "crea_date = creation_date.strftime('%Y %m %d %H' )\n",
    "print(crea_date)"
   ]
  },
  {
   "cell_type": "code",
   "execution_count": 333,
   "metadata": {},
   "outputs": [
    {
     "name": "stdout",
     "output_type": "stream",
     "text": [
      "2020 08 03 13\n"
     ]
    }
   ],
   "source": [
    "\n",
    "\n",
    "creation_date.strftime('%Y %m %d %H %M %S %f' )"
   ]
  },
  {
   "cell_type": "code",
   "execution_count": 539,
   "metadata": {},
   "outputs": [
    {
     "data": {
      "text/plain": [
       "'2020-08-05T15:26:53.450508'"
      ]
     },
     "execution_count": 539,
     "metadata": {},
     "output_type": "execute_result"
    }
   ],
   "source": [
    "import datetime\n",
    "now=datetime.datetime.now()\n",
    "now.isoformat()"
   ]
  },
  {
   "cell_type": "code",
   "execution_count": 337,
   "metadata": {},
   "outputs": [
    {
     "data": {
      "text/plain": [
       "'2020 08 03 13 06 09 542000'"
      ]
     },
     "execution_count": 337,
     "metadata": {},
     "output_type": "execute_result"
    }
   ],
   "source": []
  },
  {
   "cell_type": "code",
   "execution_count": 338,
   "metadata": {},
   "outputs": [
    {
     "data": {
      "text/plain": [
       "'2020-08-03T16:12:02.414155'"
      ]
     },
     "execution_count": 338,
     "metadata": {},
     "output_type": "execute_result"
    }
   ],
   "source": [
    "import datetime\n",
    "now=datetime.datetime.now()\n",
    "now.isoformat()\n"
   ]
  },
  {
   "cell_type": "code",
   "execution_count": 427,
   "metadata": {},
   "outputs": [],
   "source": [
    "# 4-qubit bell state with only \n",
    "#n is total number of qubits\n",
    "n = 4\n",
    "q = QuantumRegister(4, 'q')\n",
    "c = ClassicalRegister(4, 'c')\n",
    "circ = []\n",
    "\n",
    "for i in range(0,3**n):\n",
    "    circ.append(QuantumCircuit(q, c))\n",
    "    circ[i].h(0)\n",
    "    circ[i].cx(0,1)\n",
    "    circ[i].cx(1,2)\n",
    "    circ[i].cx(2,3)\n",
    "    circ[i].barrier()\n",
    "\n",
    "count = 0\n",
    "for i in range(3):\n",
    "    for j in range(3):\n",
    "        for k in range(3):\n",
    "            for l in range(3):\n",
    "                if i == 0: \n",
    "                    circ[count].h(0)\n",
    "                elif i == 1:\n",
    "                    circ[count].s(0).inverse()\n",
    "                    circ[count].h(0)\n",
    "                if j == 0:\n",
    "                    circ[count].h(1)\n",
    "                elif j == 1:\n",
    "                    circ[count].s(1).inverse()\n",
    "                    circ[count].h(1)\n",
    "                if k == 0:\n",
    "                    circ[count].h(2)\n",
    "                elif k == 1:\n",
    "                    circ[count].s(2).inverse()\n",
    "                    circ[count].h(2)\n",
    "                if l == 0:\n",
    "                    circ[count].h(3)\n",
    "                elif l == 1:\n",
    "                    circ[count].s(3).inverse()\n",
    "                    circ[count].h(3)\n",
    "                count += 1\n",
    "\n",
    "\n",
    "        \n",
    "        \n",
    "for i in range(0,3**n):\n",
    "    circ[i].measure(q,c)"
   ]
  },
  {
   "cell_type": "code",
   "execution_count": 430,
   "metadata": {},
   "outputs": [],
   "source": [
    "circ = circ[0:75]"
   ]
  },
  {
   "cell_type": "code",
   "execution_count": 432,
   "metadata": {},
   "outputs": [
    {
     "data": {
      "text/plain": [
       "[<qiskit.circuit.quantumcircuit.QuantumCircuit at 0x1a203585d0>,\n",
       " <qiskit.circuit.quantumcircuit.QuantumCircuit at 0x1a20358890>,\n",
       " <qiskit.circuit.quantumcircuit.QuantumCircuit at 0x1a20358b50>,\n",
       " <qiskit.circuit.quantumcircuit.QuantumCircuit at 0x1a20358e10>,\n",
       " <qiskit.circuit.quantumcircuit.QuantumCircuit at 0x1a2034c110>,\n",
       " <qiskit.circuit.quantumcircuit.QuantumCircuit at 0x1a2034c3d0>]"
      ]
     },
     "execution_count": 432,
     "metadata": {},
     "output_type": "execute_result"
    }
   ],
   "source": [
    "circ"
   ]
  },
  {
   "cell_type": "code",
   "execution_count": 433,
   "metadata": {
    "scrolled": true
   },
   "outputs": [
    {
     "data": {
      "image/png": "[encoded data removed]",
      "text/plain": [
       "<Figure size 780.192x325.08 with 1 Axes>"
      ]
     },
     "execution_count": 433,
     "metadata": {},
     "output_type": "execute_result"
    }
   ],
   "source": [
    "circ[3].draw(output = 'mpl')"
   ]
  },
  {
   "cell_type": "code",
   "execution_count": 416,
   "metadata": {},
   "outputs": [
    {
     "ename": "IndexError",
     "evalue": "list index out of range",
     "output_type": "error",
     "traceback": [
      "\u001b[0;31m---------------------------------------------------------------------------\u001b[0m",
      "\u001b[0;31mIndexError\u001b[0m                                Traceback (most recent call last)",
      "\u001b[0;32m<ipython-input-416-a66b56db5838>\u001b[0m in \u001b[0;36m<module>\u001b[0;34m\u001b[0m\n\u001b[1;32m      1\u001b[0m \u001b[0mbackend\u001b[0m \u001b[0;34m=\u001b[0m \u001b[0mprovider\u001b[0m\u001b[0;34m.\u001b[0m\u001b[0mget_backend\u001b[0m\u001b[0;34m(\u001b[0m\u001b[0;34m'ibmq_vigo'\u001b[0m\u001b[0;34m)\u001b[0m\u001b[0;34m\u001b[0m\u001b[0;34m\u001b[0m\u001b[0m\n\u001b[0;32m----> 2\u001b[0;31m \u001b[0mjob_exp\u001b[0m \u001b[0;34m=\u001b[0m \u001b[0mqiskit\u001b[0m\u001b[0;34m.\u001b[0m\u001b[0mexecute\u001b[0m\u001b[0;34m(\u001b[0m\u001b[0mcirc\u001b[0m\u001b[0;34m,\u001b[0m\u001b[0mbackend\u001b[0m\u001b[0;34m=\u001b[0m\u001b[0mbackend\u001b[0m \u001b[0;34m)\u001b[0m\u001b[0;34m\u001b[0m\u001b[0;34m\u001b[0m\u001b[0m\n\u001b[0m\u001b[1;32m      3\u001b[0m \u001b[0mjob_monitor\u001b[0m\u001b[0;34m(\u001b[0m\u001b[0mjob_exp\u001b[0m\u001b[0;34m)\u001b[0m\u001b[0;34m\u001b[0m\u001b[0;34m\u001b[0m\u001b[0m\n\u001b[1;32m      4\u001b[0m \u001b[0;34m\u001b[0m\u001b[0m\n",
      "\u001b[0;32m/opt/anaconda3/lib/python3.7/site-packages/qiskit/execute.py\u001b[0m in \u001b[0;36mexecute\u001b[0;34m(experiments, backend, basis_gates, coupling_map, backend_properties, initial_layout, seed_transpiler, optimization_level, pass_manager, qobj_id, qobj_header, shots, memory, max_credits, seed_simulator, default_qubit_los, default_meas_los, schedule_los, meas_level, meas_return, memory_slots, memory_slot_size, rep_time, parameter_binds, schedule_circuit, inst_map, meas_map, scheduling_method, **run_config)\u001b[0m\n\u001b[1;32m    226\u001b[0m     \"\"\"\n\u001b[1;32m    227\u001b[0m     if isinstance(experiments, Schedule) or (isinstance(experiments, list) and\n\u001b[0;32m--> 228\u001b[0;31m                                              isinstance(experiments[0], Schedule)):\n\u001b[0m\u001b[1;32m    229\u001b[0m         \u001b[0;31m# do not transpile a schedule circuit\u001b[0m\u001b[0;34m\u001b[0m\u001b[0;34m\u001b[0m\u001b[0;34m\u001b[0m\u001b[0m\n\u001b[1;32m    230\u001b[0m         \u001b[0;32mif\u001b[0m \u001b[0mschedule_circuit\u001b[0m\u001b[0;34m:\u001b[0m\u001b[0;34m\u001b[0m\u001b[0;34m\u001b[0m\u001b[0m\n",
      "\u001b[0;31mIndexError\u001b[0m: list index out of range"
     ]
    }
   ],
   "source": [
    "backend = provider.get_backend('ibmq_vigo')\n",
    "job_exp = qiskit.execute(circ,backend=backend )\n",
    "job_monitor(job_exp)\n",
    "\n"
   ]
  },
  {
   "cell_type": "code",
   "execution_count": 655,
   "metadata": {},
   "outputs": [],
   "source": [
    "# 4-qubit bell state \n",
    "#n is total number of qubits\n",
    "n = 5\n",
    "q = QuantumRegister(n, 'q')\n",
    "c = ClassicalRegister(n, 'c')\n",
    "circ = []\n",
    "\n",
    "for i in range(0,3**n):\n",
    "    circ.append(QuantumCircuit(q, c))\n",
    "    circ[i].h(0)\n",
    "    circ[i].cx(0,1)\n",
    "    circ[i].cx(1,2)\n",
    "    circ[i].cx(2,3)\n",
    "    circ[i].cx(3,4)\n",
    "    circ[i].barrier()\n",
    "\n",
    "count = 0\n",
    "for i in range(3):\n",
    "    for j in range(3):\n",
    "        for k in range(3):\n",
    "            for l in range(3):\n",
    "                for m in range(3):\n",
    "                    if i == 0: \n",
    "                        circ[count].h(0)\n",
    "                    elif i == 1:\n",
    "                        circ[count].s(0).inverse()\n",
    "                        circ[count].h(0)\n",
    "                    if j == 0:\n",
    "                        circ[count].h(1)\n",
    "                    elif j == 1:\n",
    "                        circ[count].s(1).inverse()\n",
    "                        circ[count].h(1)\n",
    "                    if k == 0:\n",
    "                        circ[count].h(2)\n",
    "                    elif k == 1:\n",
    "                        circ[count].s(2).inverse()\n",
    "                        circ[count].h(2)\n",
    "                    if l == 0:\n",
    "                        circ[count].h(3)\n",
    "                    elif l == 1:\n",
    "                        circ[count].s(3).inverse()\n",
    "                        circ[count].h(3)\n",
    "                    if m == 0:\n",
    "                        circ[count].h(4)\n",
    "                    elif m == 1:\n",
    "                        circ[count].s(4).inverse()\n",
    "                        circ[count].h(4) \n",
    "                    count += 1\n",
    "\n",
    "\n",
    "    \n",
    "        \n",
    "for i in range(0,3**n):\n",
    "    circ[i].measure(q,c)"
   ]
  },
  {
   "cell_type": "code",
   "execution_count": 645,
   "metadata": {},
   "outputs": [],
   "source": [
    "circ_Va = circ[0:75]"
   ]
  },
  {
   "cell_type": "code",
   "execution_count": 646,
   "metadata": {},
   "outputs": [
    {
     "name": "stdout",
     "output_type": "stream",
     "text": [
      "Job Status: job has successfully run                       \n"
     ]
    }
   ],
   "source": [
    "backend = provider.get_backend('ibmq_vigo')\n",
    "job_exp = qiskit.execute(circ_Va,backend=backend )\n",
    "job_monitor(job_exp)"
   ]
  },
  {
   "cell_type": "code",
   "execution_count": 647,
   "metadata": {},
   "outputs": [],
   "source": [
    "circ_Vb = circ[75: 2*75]"
   ]
  },
  {
   "cell_type": "code",
   "execution_count": 648,
   "metadata": {
    "scrolled": true
   },
   "outputs": [
    {
     "name": "stdout",
     "output_type": "stream",
     "text": [
      "Job Status: job has successfully run                     \n"
     ]
    }
   ],
   "source": [
    "job_exp = qiskit.execute(circ_Vb,backend=backend )\n",
    "job_monitor(job_exp)"
   ]
  },
  {
   "cell_type": "code",
   "execution_count": 649,
   "metadata": {},
   "outputs": [
    {
     "name": "stdout",
     "output_type": "stream",
     "text": [
      "Job Status: job has successfully run                     \n"
     ]
    }
   ],
   "source": [
    "circ_Vc = circ[2*75: 3*75]\n",
    "job_exp = qiskit.execute(circ_Vc,backend=backend )\n",
    "job_monitor(job_exp)\n"
   ]
  },
  {
   "cell_type": "code",
   "execution_count": 658,
   "metadata": {
    "scrolled": true
   },
   "outputs": [
    {
     "name": "stdout",
     "output_type": "stream",
     "text": [
      "Job Status: job has successfully run                  \n"
     ]
    }
   ],
   "source": [
    "circ_Vd = circ[3*75:3**n]\n",
    "job_exp = qiskit.execute(circ_Vd,backend=backend )\n",
    "job_monitor(job_exp)\n"
   ]
  },
  {
   "cell_type": "code",
   "execution_count": null,
   "metadata": {},
   "outputs": [],
   "source": []
  }
 ],
 "metadata": {
  "kernelspec": {
   "display_name": "Python 3",
   "language": "python",
   "name": "python3"
  },
  "language_info": {
   "codemirror_mode": {
    "name": "ipython",
    "version": 3
   },
   "file_extension": ".py",
   "mimetype": "text/x-python",
   "name": "python",
   "nbconvert_exporter": "python",
   "pygments_lexer": "ipython3",
   "version": "3.7.6"
  }
 },
 "nbformat": 4,
 "nbformat_minor": 4
}
